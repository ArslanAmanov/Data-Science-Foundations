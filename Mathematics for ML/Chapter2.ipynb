{
 "cells": [
  {
   "cell_type": "markdown",
   "metadata": {},
   "source": [
    "# Analytic Geometry"
   ]
  },
  {
   "cell_type": "code",
   "execution_count": 2,
   "metadata": {},
   "outputs": [],
   "source": [
    "# In this chapter, wei will look at geometric vectors and compute their lenghts and \n",
    "# distances or angles between two vectors.\n",
    "# To be able to do this, we equip the vector space and an inner product that \n",
    "# induces the geometry of the vector space.\n",
    "# Inner products and their corresponding nomrs and metrics capture space. \n",
    "# Which we use to develop the support vector machine. \n",
    "# We will then use the concepts of lengths and angles between vectors to discuss Orthogonal projections \n",
    "# Which will play a central role when we discuss principal component analysis. "
   ]
  },
  {
   "cell_type": "code",
   "execution_count": null,
   "metadata": {},
   "outputs": [],
   "source": []
  }
 ],
 "metadata": {
  "kernelspec": {
   "display_name": "base",
   "language": "python",
   "name": "python3"
  },
  "language_info": {
   "codemirror_mode": {
    "name": "ipython",
    "version": 3
   },
   "file_extension": ".py",
   "mimetype": "text/x-python",
   "name": "python",
   "nbconvert_exporter": "python",
   "pygments_lexer": "ipython3",
   "version": "3.11.4"
  }
 },
 "nbformat": 4,
 "nbformat_minor": 2
}
