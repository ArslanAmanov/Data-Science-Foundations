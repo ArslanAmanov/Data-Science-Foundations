{
 "cells": [
  {
   "cell_type": "markdown",
   "metadata": {},
   "source": [
    "# Linear Algebra: \n",
    "When formalizing intuitive concepts a common approach is to construct a set of objects and a set of rules to manipulate these objects."
   ]
  },
  {
   "cell_type": "code",
   "execution_count": 1,
   "metadata": {},
   "outputs": [],
   "source": [
    "# Linear algebra is the study of vectors and certain rules to manipulate vectors. \n",
    "# Vectors many of us know from school are called geometric vectors which are usually denoted by \n",
    "# a small arrow above the letter for example a→. \n",
    "\n",
    "# Here are some examples of such vectors:\n",
    "# 1. a→ = (1, 2, 3)\n",
    "# 2. b→ = (4, 5, 6) \n",
    "# 3. c→ = (7, 8, 9) \n",
    "# a→ + b→ = (1 + 4, 2 + 5, 3 + 6) = (5, 7, 9) \n",
    "\n",
    "# Polynomial vectors are also vectors but they are not geometric vectors. \n",
    "# Two polynomials can be added together by adding the coefficients of the same degree. \n",
    "# For example, (1, 2, 3) + (4, 5, 6) = (1 + 4, 2 + 5, 3 + 6) = (5, 7, 9). \n",
    "# The same rule applies to subtraction. \n",
    "\n",
    "# Audio signals are vectors. Audio signals are represented as a series of numbers. \n",
    "# We can add audio signals together, and their sum is a new audio signal. \n",
    "# If we scale an audio signal, we also obtain an audio signal. Therefore, audio signals are type of vectors too. \n",
    "\n",
    "# Elements of R^n are called  ( tuples of n  real numbers) are vectors.  R^n is more abstract than polynomials and it's the concept \n",
    "# we focus on this journey of learning linear algebra. "
   ]
  },
  {
   "cell_type": "markdown",
   "metadata": {},
   "source": [
    "# Matrices"
   ]
  },
  {
   "cell_type": "code",
   "execution_count": 3,
   "metadata": {},
   "outputs": [],
   "source": [
    "# Matrices play a central role in linear algebra. They can be used to compactly represent systems of linear equations. \n",
    "# They can also be used to represent linear functions(linear mappings). \n",
    "\n",
    "# Definition: With m, n ∈ N, a matrix A with m rows and n columns is a rectangular array of numbers with m rows and n columns.\n",
    "# Which is ordered according to a rectangular scheme consisting of m rows and n columns. \n",
    "# By convention (1,n) -matrices are called rows and (m,1)-matrices are called columns. These special matrices are also called row/column vectors \n",
    "# and are used to represent vectors in R^n."
   ]
  },
  {
   "cell_type": "code",
   "execution_count": null,
   "metadata": {},
   "outputs": [],
   "source": []
  }
 ],
 "metadata": {
  "kernelspec": {
   "display_name": "base",
   "language": "python",
   "name": "python3"
  },
  "language_info": {
   "codemirror_mode": {
    "name": "ipython",
    "version": 3
   },
   "file_extension": ".py",
   "mimetype": "text/x-python",
   "name": "python",
   "nbconvert_exporter": "python",
   "pygments_lexer": "ipython3",
   "version": "3.11.4"
  }
 },
 "nbformat": 4,
 "nbformat_minor": 2
}
