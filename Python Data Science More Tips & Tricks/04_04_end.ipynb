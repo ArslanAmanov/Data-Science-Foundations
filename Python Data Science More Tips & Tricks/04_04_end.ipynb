{
 "cells": [
  {
   "cell_type": "markdown",
   "metadata": {},
   "source": [
    "## Creating Pipelines\n",
    "\n",
    "This notebooks covers a few very important examples of how to engineer raw and aribitrary data to well-formatted features using Sklearn pipeline.\n",
    "\n",
    "We'll learn how to develop pipelines that string together a series of transformation and training tasks."
   ]
  },
  {
   "cell_type": "markdown",
   "metadata": {},
   "source": [
    "### Feature Pipeline\n",
    "\n",
    "We can string multiple transformational and training steps together using Pipelines without worrying about how to handle their individual input and output."
   ]
  },
  {
   "cell_type": "code",
   "execution_count": 1,
   "metadata": {},
   "outputs": [],
   "source": [
    "import numpy as np\n",
    "from numpy import nan\n",
    "\n",
    "##create random data with different scales and nans\n",
    "X = np.array([[ nan, 1,   5  ],\n",
    "              [ 8,   5,   6  ],\n",
    "              [ 4,   5,   3  ],\n",
    "              [ 5,   nan, 1  ],\n",
    "              [ 10,   9,   9  ]])\n",
    "\n",
    "##create labels\n",
    "y = np.array([11, 15, -3,  10, -8])"
   ]
  },
  {
   "cell_type": "code",
   "execution_count": 2,
   "metadata": {},
   "outputs": [],
   "source": [
    "##import the imputers\n",
    "from sklearn.impute import SimpleImputer\n",
    "from sklearn.pipeline import Pipeline\n",
    "from sklearn.preprocessing import StandardScaler\n",
    "from sklearn.linear_model import LinearRegression\n",
    "\n",
    "##create pipeline to string together transformation steps\n",
    "##of handling missing values, scaling the features and \n",
    "##linear regression model\n",
    "model = Pipeline([('imputer', SimpleImputer(strategy='mean')),\n",
    "                  ('scaler', StandardScaler()),\n",
    "                  ('model', LinearRegression())\n",
    "                 ])"
   ]
  },
  {
   "cell_type": "code",
   "execution_count": 3,
   "metadata": {},
   "outputs": [
    {
     "name": "stdout",
     "output_type": "stream",
     "text": [
      "[11 15 -3 10 -8]\n",
      "[14.37256483  7.18178154 -3.68984281 11.76293161 -4.62743517]\n"
     ]
    }
   ],
   "source": [
    "##train the final model after preprocessing is done\n",
    "model.fit(X, y)\n",
    "print(y)\n",
    "print(model.predict(X))"
   ]
  }
 ],
 "metadata": {
  "kernelspec": {
   "display_name": "Python 3.9.7 ('base')",
   "language": "python",
   "name": "python3"
  },
  "language_info": {
   "codemirror_mode": {
    "name": "ipython",
    "version": 3
   },
   "file_extension": ".py",
   "mimetype": "text/x-python",
   "name": "python",
   "nbconvert_exporter": "python",
   "pygments_lexer": "ipython3",
   "version": "3.9.7"
  },
  "vscode": {
   "interpreter": {
    "hash": "40d3a090f54c6569ab1632332b64b2c03c39dcf918b08424e98f38b5ae0af88f"
   }
  }
 },
 "nbformat": 4,
 "nbformat_minor": 4
}
