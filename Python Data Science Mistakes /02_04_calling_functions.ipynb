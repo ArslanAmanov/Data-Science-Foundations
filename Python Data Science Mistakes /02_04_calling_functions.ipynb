{
 "cells": [
  {
   "cell_type": "code",
   "execution_count": 1,
   "metadata": {},
   "outputs": [],
   "source": [
    "# import relevant libraries and modules\n",
    "import math"
   ]
  },
  {
   "cell_type": "code",
   "execution_count": 2,
   "metadata": {},
   "outputs": [
    {
     "name": "stdout",
     "output_type": "stream",
     "text": [
      "23.0\n",
      "12.0\n",
      "11.0\n"
     ]
    }
   ],
   "source": [
    "# save location of hospital as a tuple in a variable\n",
    "hospital_loc = (28, 3)\n",
    "\n",
    "# save location of school as a tuple in a variable\n",
    "school_loc = (5, 1)\n",
    "\n",
    "# save location of fire department as a tuple in a variable\n",
    "fire_dept_loc = (17, 9)\n",
    "\n",
    "def euclidean_dist(location1, location2):\n",
    "    \"\"\"Compute euclidean distance between location1 and location2 and return result\"\"\"\n",
    "    x1, y1 = location1\n",
    "    x2, y2 = location2\n",
    "    return math.sqrt((x2 - x1)**2 + (y2 - y2)**2)\n",
    "\n",
    "# compute euclidean distance between hospital and school\n",
    "print(euclidean_dist(hospital_loc, school_loc))\n",
    "\n",
    "# compute euclidean distance between school and fire department\n",
    "print(euclidean_dist(school_loc, fire_dept_loc))\n",
    "\n",
    "# compute euclidean distance between fire department and hospital\n",
    "print(euclidean_dist(fire_dept_loc, hospital_loc))"
   ]
  }
 ],
 "metadata": {
  "kernelspec": {
   "display_name": "Python 3.9.7 ('base')",
   "language": "python",
   "name": "python3"
  },
  "language_info": {
   "codemirror_mode": {
    "name": "ipython",
    "version": 3
   },
   "file_extension": ".py",
   "mimetype": "text/x-python",
   "name": "python",
   "nbconvert_exporter": "python",
   "pygments_lexer": "ipython3",
   "version": "3.9.7"
  },
  "vscode": {
   "interpreter": {
    "hash": "40d3a090f54c6569ab1632332b64b2c03c39dcf918b08424e98f38b5ae0af88f"
   }
  }
 },
 "nbformat": 4,
 "nbformat_minor": 4
}
