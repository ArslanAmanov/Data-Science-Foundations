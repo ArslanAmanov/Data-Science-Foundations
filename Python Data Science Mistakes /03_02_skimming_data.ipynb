{
 "cells": [
  {
   "cell_type": "code",
   "execution_count": 1,
   "metadata": {},
   "outputs": [],
   "source": [
    "# import relevant modules and libraries\n",
    "import numpy as np\n",
    "import pandas as pd\n",
    "import matplotlib.pyplot as plt"
   ]
  },
  {
   "cell_type": "code",
   "execution_count": 2,
   "metadata": {},
   "outputs": [],
   "source": [
    "# create a variable named grades containing a pandas dataframe \n",
    "# that consists of students' grade on a particular exam\n",
    "grades_part1 = np.random.normal(70, 10, size=50)\n",
    "grades_part2 = np.random.normal(0.7, 0.1, size=50)\n",
    "g = np.append(grades_part1, grades_part2)\n",
    "grades = pd.DataFrame({'SID': np.arange(100), 'grade': g})"
   ]
  },
  {
   "cell_type": "code",
   "execution_count": 3,
   "metadata": {},
   "outputs": [
    {
     "data": {
      "text/html": [
       "<div>\n",
       "<style scoped>\n",
       "    .dataframe tbody tr th:only-of-type {\n",
       "        vertical-align: middle;\n",
       "    }\n",
       "\n",
       "    .dataframe tbody tr th {\n",
       "        vertical-align: top;\n",
       "    }\n",
       "\n",
       "    .dataframe thead th {\n",
       "        text-align: right;\n",
       "    }\n",
       "</style>\n",
       "<table border=\"1\" class=\"dataframe\">\n",
       "  <thead>\n",
       "    <tr style=\"text-align: right;\">\n",
       "      <th></th>\n",
       "      <th>SID</th>\n",
       "      <th>grade</th>\n",
       "    </tr>\n",
       "  </thead>\n",
       "  <tbody>\n",
       "    <tr>\n",
       "      <th>0</th>\n",
       "      <td>0</td>\n",
       "      <td>59.740143</td>\n",
       "    </tr>\n",
       "    <tr>\n",
       "      <th>1</th>\n",
       "      <td>1</td>\n",
       "      <td>58.750187</td>\n",
       "    </tr>\n",
       "    <tr>\n",
       "      <th>2</th>\n",
       "      <td>2</td>\n",
       "      <td>87.284975</td>\n",
       "    </tr>\n",
       "    <tr>\n",
       "      <th>3</th>\n",
       "      <td>3</td>\n",
       "      <td>56.441019</td>\n",
       "    </tr>\n",
       "    <tr>\n",
       "      <th>4</th>\n",
       "      <td>4</td>\n",
       "      <td>67.491919</td>\n",
       "    </tr>\n",
       "  </tbody>\n",
       "</table>\n",
       "</div>"
      ],
      "text/plain": [
       "   SID      grade\n",
       "0    0  59.740143\n",
       "1    1  58.750187\n",
       "2    2  87.284975\n",
       "3    3  56.441019\n",
       "4    4  67.491919"
      ]
     },
     "execution_count": 3,
     "metadata": {},
     "output_type": "execute_result"
    }
   ],
   "source": [
    "# display first few rows of grades\n",
    "grades.head()"
   ]
  },
  {
   "cell_type": "code",
   "execution_count": 4,
   "metadata": {},
   "outputs": [
    {
     "data": {
      "image/png": "[encoded data removed]",
      "text/plain": [
       "<Figure size 432x288 with 1 Axes>"
      ]
     },
     "metadata": {
      "needs_background": "light"
     },
     "output_type": "display_data"
    }
   ],
   "source": [
    "# visualize distribution of grade values\n",
    "plt.hist(grades['grade']);"
   ]
  },
  {
   "cell_type": "code",
   "execution_count": 5,
   "metadata": {},
   "outputs": [
    {
     "data": {
      "text/plain": [
       "array([59.7401433 , 58.75018703, 87.28497488, 56.4410191 , 67.4919188 ,\n",
       "       92.40276026, 86.93586763, 82.6186854 , 64.97059172, 63.27487124,\n",
       "       62.90817869, 53.49348705, 79.33116747, 65.41330695, 64.39418422,\n",
       "       69.76484346, 71.20465156, 78.44548184, 69.16896252, 77.50268508,\n",
       "       60.89295209, 87.11300884, 55.30576252, 77.1272986 , 71.95945949,\n",
       "       48.41725955, 62.41155494, 62.12516044, 75.43396698, 62.63246102,\n",
       "       53.80257307, 78.97971639, 70.98683976, 64.49573838, 74.73013306,\n",
       "       67.0645119 , 69.36951032, 59.66664921, 65.97131858, 82.80626347,\n",
       "       62.73825657, 67.68156325, 55.08793934, 75.15659024, 81.37854032,\n",
       "       64.92075004, 59.01835621, 47.89621675, 78.03525526, 63.16034734,\n",
       "        0.64674232,  0.73821785,  0.57421537,  0.5751464 ,  0.59449299,\n",
       "        0.76783344,  0.77675573,  0.649673  ,  0.86697884,  0.70869157,\n",
       "        0.6016117 ,  0.73846074,  0.76106589,  0.77657494,  0.68913331,\n",
       "        0.60439567,  0.73277468,  0.56254578,  0.71043577,  0.66348938,\n",
       "        0.61447443,  0.65639334,  0.75206212,  0.71537548,  0.68919045,\n",
       "        0.67228213,  0.60954817,  0.68982337,  0.78889577,  0.69180445,\n",
       "        0.8594166 ,  0.65856932,  0.77783631,  0.54846175,  0.7421704 ,\n",
       "        0.77557675,  0.724072  ,  0.72199014,  0.63111716,  0.85283287,\n",
       "        0.72162699,  0.71373688,  0.90604453,  0.73417739,  0.81760518,\n",
       "        0.6574624 ,  0.64535177,  0.74881703,  0.77927015,  0.60290204])"
      ]
     },
     "execution_count": 5,
     "metadata": {},
     "output_type": "execute_result"
    }
   ],
   "source": [
    "# show unique values in grade column of grades dataframe\n",
    "grades['grade'].unique()"
   ]
  }
 ],
 "metadata": {
  "kernelspec": {
   "display_name": "Python 3.9.7 ('base')",
   "language": "python",
   "name": "python3"
  },
  "language_info": {
   "codemirror_mode": {
    "name": "ipython",
    "version": 3
   },
   "file_extension": ".py",
   "mimetype": "text/x-python",
   "name": "python",
   "nbconvert_exporter": "python",
   "pygments_lexer": "ipython3",
   "version": "3.9.7"
  },
  "vscode": {
   "interpreter": {
    "hash": "40d3a090f54c6569ab1632332b64b2c03c39dcf918b08424e98f38b5ae0af88f"
   }
  }
 },
 "nbformat": 4,
 "nbformat_minor": 4
}
