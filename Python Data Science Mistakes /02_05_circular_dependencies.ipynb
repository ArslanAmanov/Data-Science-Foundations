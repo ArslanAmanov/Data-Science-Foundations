{
 "cells": [
  {
   "cell_type": "code",
   "execution_count": 1,
   "metadata": {},
   "outputs": [],
   "source": [
    "# import relevant libraries and modules\n",
    "import random"
   ]
  },
  {
   "cell_type": "code",
   "execution_count": 2,
   "metadata": {},
   "outputs": [
    {
     "name": "stdout",
     "output_type": "stream",
     "text": [
      "width of rug: 7\n",
      "length of rug: 9\n"
     ]
    }
   ],
   "source": [
    "def getWidth():\n",
    "    \"\"\"Generate width randomly (in feet) and return\"\"\"\n",
    "    return random.randint(3, 11)\n",
    "\n",
    "def getLength():\n",
    "    \"\"\"Get length (in feet) and return\"\"\"\n",
    "    return random.randint(5, 16)\n",
    "\n",
    "def rug_dim():\n",
    "    \"\"\"Select dimensions for rug (in feet) and display\"\"\"\n",
    "    width = getWidth()\n",
    "    length = getLength()\n",
    "    print(\"width of rug:\", width)\n",
    "    print(\"length of rug:\", length)\n",
    "    \n",
    "rug_dim()"
   ]
  }
 ],
 "metadata": {
  "kernelspec": {
   "display_name": "Python 3.8.9 64-bit",
   "language": "python",
   "name": "python3"
  },
  "language_info": {
   "codemirror_mode": {
    "name": "ipython",
    "version": 3
   },
   "file_extension": ".py",
   "mimetype": "text/x-python",
   "name": "python",
   "nbconvert_exporter": "python",
   "pygments_lexer": "ipython3",
   "version": "3.8.9"
  },
  "vscode": {
   "interpreter": {
    "hash": "31f2aee4e71d21fbe5cf8b01ff0e069b9275f58929596ceb00d14d90e3e16cd6"
   }
  }
 },
 "nbformat": 4,
 "nbformat_minor": 4
}
