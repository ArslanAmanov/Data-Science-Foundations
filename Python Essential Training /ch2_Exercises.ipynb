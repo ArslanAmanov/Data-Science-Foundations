{
 "cells": [
  {
   "cell_type": "code",
   "execution_count": 7,
   "metadata": {},
   "outputs": [
    {
     "name": "stdout",
     "output_type": "stream",
     "text": [
      "This is python version 3.7.6\n",
      "Line2\n",
      "Line3\n",
      "Line4\n"
     ]
    }
   ],
   "source": [
    "import platform\n",
    "\n",
    "def main():\n",
    "    message()\n",
    "\n",
    "def message():\n",
    "    print('This is python version {}'.format(platform.python_version()))\n",
    "    print('Line2')\n",
    "    if False:\n",
    "        print('Line5')\n",
    "    else:\n",
    "        print('Line3')\n",
    "    print('Line4')\n",
    "    \n",
    "if __name__ == '__main__': main()\n"
   ]
  },
  {
   "cell_type": "code",
   "execution_count": 8,
   "metadata": {},
   "outputs": [
    {
     "name": "stdout",
     "output_type": "stream",
     "text": [
      "Hello, World.42\n"
     ]
    }
   ],
   "source": [
    "x=42\n",
    "print('Hello, World.{}'.format(x))"
   ]
  },
  {
   "cell_type": "code",
   "execution_count": 11,
   "metadata": {},
   "outputs": [
    {
     "name": "stdout",
     "output_type": "stream",
     "text": [
      "x < y: x is 42 and y is 73\n",
      "Line2\n",
      "Something\n"
     ]
    }
   ],
   "source": [
    "x = 42\n",
    "y = 73\n",
    "\n",
    "if x < y:\n",
    "    print('x < y: x is {} and y is {}'.format(x, y))\n",
    "    print('Line2')\n",
    "print('Something')"
   ]
  },
  {
   "cell_type": "markdown",
   "metadata": {},
   "source": [
    "# Conditionals"
   ]
  },
  {
   "cell_type": "code",
   "execution_count": 16,
   "metadata": {},
   "outputs": [
    {
     "name": "stdout",
     "output_type": "stream",
     "text": [
      "x < y: x is 12 and y is 42\n"
     ]
    }
   ],
   "source": [
    "x = 12\n",
    "y = 42\n",
    "\n",
    "if x > y:\n",
    "    print('x > y: x is {} and y is {}'.format(x, y))\n",
    "elif x < y:\n",
    "     print('x < y: x is {} and y is {}'.format(x, y))\n",
    "else:\n",
    "    print('something')\n",
    "    "
   ]
  },
  {
   "cell_type": "markdown",
   "metadata": {},
   "source": [
    "# Loops "
   ]
  },
  {
   "cell_type": "code",
   "execution_count": 21,
   "metadata": {},
   "outputs": [
    {
     "name": "stdout",
     "output_type": "stream",
     "text": [
      "one\n",
      "two\n",
      "three\n",
      "four\n",
      "five\n"
     ]
    }
   ],
   "source": [
    "words = ['one', 'two', 'three', 'four', 'five']\n",
    "\n",
    "n = 0\n",
    "while(n < 5):\n",
    "    print(words[n])\n",
    "    n +=1"
   ]
  },
  {
   "cell_type": "code",
   "execution_count": 24,
   "metadata": {},
   "outputs": [
    {
     "name": "stdout",
     "output_type": "stream",
     "text": [
      "1 1 2 3 5 8 13 21 34 55 89 144 233 377 610 987 \n"
     ]
    }
   ],
   "source": [
    "#Fibonacci \n",
    "a, b = 0, 1\n",
    "while b < 1000:\n",
    "    print(b, end = ' ', flush = True)\n",
    "    a, b = b, a + b\n",
    "\n",
    "print() # line ending\n"
   ]
  },
  {
   "cell_type": "code",
   "execution_count": 25,
   "metadata": {},
   "outputs": [
    {
     "name": "stdout",
     "output_type": "stream",
     "text": [
      "one\n",
      "two\n",
      "three\n",
      "four\n",
      "five\n"
     ]
    }
   ],
   "source": [
    "# Foe loop \n",
    "words = ['one', 'two', 'three', 'four', 'five']\n",
    "for i in words:\n",
    "    print(i)"
   ]
  },
  {
   "cell_type": "markdown",
   "metadata": {},
   "source": [
    "# Functions"
   ]
  },
  {
   "cell_type": "code",
   "execution_count": 26,
   "metadata": {},
   "outputs": [
    {
     "name": "stdout",
     "output_type": "stream",
     "text": [
      "47\n"
     ]
    }
   ],
   "source": [
    "def function(n):\n",
    "    print(n)\n",
    "\n",
    "function(47)"
   ]
  },
  {
   "cell_type": "code",
   "execution_count": 28,
   "metadata": {},
   "outputs": [
    {
     "name": "stdout",
     "output_type": "stream",
     "text": [
      "5 is prime\n"
     ]
    }
   ],
   "source": [
    "def isprime(n):\n",
    "    if n<=1:\n",
    "        return False\n",
    "    for x in range(2,n):\n",
    "        if n % x==0:\n",
    "            return False\n",
    "    else:\n",
    "        return True\n",
    "\n",
    "n = 5\n",
    "if isprime(n):\n",
    "    print(f'{n} is prime')\n",
    "else:\n",
    "    print(f'{n} not prime')"
   ]
  },
  {
   "cell_type": "code",
   "execution_count": 29,
   "metadata": {},
   "outputs": [
    {
     "name": "stdout",
     "output_type": "stream",
     "text": [
      "2 3 5 7 11 13 17 19 23 29 31 37 41 43 47 53 59 61 67 71 73 79 83 89 97 \n"
     ]
    }
   ],
   "source": [
    "def list_prime():\n",
    "    for n in range(100):\n",
    "        if isprime(n):\n",
    "            print(n, end=' ', flush=True)\n",
    "    print()\n",
    "    \n",
    "list_prime()"
   ]
  }
 ],
 "metadata": {
  "kernelspec": {
   "display_name": "Python 3",
   "language": "python",
   "name": "python3"
  },
  "language_info": {
   "codemirror_mode": {
    "name": "ipython",
    "version": 3
   },
   "file_extension": ".py",
   "mimetype": "text/x-python",
   "name": "python",
   "nbconvert_exporter": "python",
   "pygments_lexer": "ipython3",
   "version": "3.7.6"
  }
 },
 "nbformat": 4,
 "nbformat_minor": 4
}
