{
 "cells": [
  {
   "cell_type": "markdown",
   "metadata": {},
   "source": [
    "# ndarray Object Internals\n",
    "The NumPy ndarray provides a means to interpret a block of homogeneous data as a multidimensional array object. The data type, or dtype determines how the data is interpreted as being floating point, integer, boolean, or any of the other types that NumPy provides. The ndarray is a generic multidimensional container for homogeneous data; all of the elements must be the same type."
   ]
  },
  {
   "cell_type": "code",
   "execution_count": null,
   "metadata": {},
   "outputs": [],
   "source": []
  }
 ],
 "metadata": {
  "language_info": {
   "name": "python"
  }
 },
 "nbformat": 4,
 "nbformat_minor": 2
}
