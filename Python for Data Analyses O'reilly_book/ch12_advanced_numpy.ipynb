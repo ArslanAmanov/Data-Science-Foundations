{
 "cells": [
  {
   "cell_type": "markdown",
   "metadata": {},
   "source": [
    "# ndarray Object Internals\n",
    "The NumPy ndarray provides a means to interpret a block of homogeneous data as a multidimensional array object. The data type, or dtype determines how the data is interpreted as being floating point, integer, boolean, or any of the other types that NumPy provides. The ndarray is a generic multidimensional container for homogeneous data; all of the elements must be the same type."
   ]
  },
  {
   "cell_type": "markdown",
   "metadata": {},
   "source": [
    "Part of what makes ndarray powerful is that every array object is a strided view on a block of data. The strides are the number of bytes to step in each dimension when traversing an array. For example, a (100, 200) array of float64s has strides (800, 8) meaning that to move to the next row, one needs to skip 800 bytes, and to move to the next column, one needs to skip 8 bytes."
   ]
  },
  {
   "cell_type": "code",
   "execution_count": null,
   "metadata": {},
   "outputs": [],
   "source": []
  }
 ],
 "metadata": {
  "language_info": {
   "name": "python"
  }
 },
 "nbformat": 4,
 "nbformat_minor": 2
}
