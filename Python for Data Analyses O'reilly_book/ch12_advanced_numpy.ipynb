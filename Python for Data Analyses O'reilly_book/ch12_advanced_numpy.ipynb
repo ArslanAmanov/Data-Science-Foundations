{
 "cells": [
  {
   "cell_type": "markdown",
   "metadata": {},
   "source": [
    "# ndarray Object Internals\n",
    "The NumPy ndarray provides a means to interpret a block of homogeneous data as a multidimensional array object. The data type, or dtype determines how the data is interpreted as being floating point, integer, boolean, or any of the other types that NumPy provides. The ndarray is a generic multidimensional container for homogeneous data; all of the elements must be the same type."
   ]
  },
  {
   "cell_type": "markdown",
   "metadata": {},
   "source": [
    "Part of what makes ndarray powerful is that every array object is a strided view on a block of data. The strides are the number of bytes to step in each dimension when traversing an array. For example, a (100, 200) array of float64s has strides (800, 8) meaning that to move to the next row, one needs to skip 800 bytes, and to move to the next column, one needs to skip 8 bytes."
   ]
  },
  {
   "cell_type": "markdown",
   "metadata": {},
   "source": [
    "# NumPy dtype Hierarchy"
   ]
  },
  {
   "cell_type": "code",
   "execution_count": 1,
   "metadata": {},
   "outputs": [
    {
     "data": {
      "text/plain": [
       "True"
      ]
     },
     "execution_count": 1,
     "metadata": {},
     "output_type": "execute_result"
    }
   ],
   "source": [
    "import numpy as np \n",
    "import matplotlib.pyplot as plt \n",
    "import matplotlib.animation as animation\n",
    "import time\n",
    "import random \n",
    "import math\n",
    "import sys\n",
    "import os \n",
    "\n",
    "\n",
    "ints = np.ones(10, dtype=np.int32) \n",
    "floats = np.ones(10, dtype=np.float32) \n",
    "np.issubdtype(ints.dtype, np.integer) "
   ]
  },
  {
   "cell_type": "code",
   "execution_count": 2,
   "metadata": {},
   "outputs": [
    {
     "data": {
      "text/plain": [
       "True"
      ]
     },
     "execution_count": 2,
     "metadata": {},
     "output_type": "execute_result"
    }
   ],
   "source": [
    "np.issubdtype(floats.dtype, np.float32) "
   ]
  },
  {
   "cell_type": "code",
   "execution_count": 3,
   "metadata": {},
   "outputs": [
    {
     "data": {
      "text/plain": [
       "[numpy.float64,\n",
       " numpy.floating,\n",
       " numpy.inexact,\n",
       " numpy.number,\n",
       " numpy.generic,\n",
       " float,\n",
       " object]"
      ]
     },
     "execution_count": 3,
     "metadata": {},
     "output_type": "execute_result"
    }
   ],
   "source": [
    "np.float64.mro()     # method resolution order "
   ]
  },
  {
   "cell_type": "markdown",
   "metadata": {},
   "source": [
    "# Advanced Array Manipulation \n",
    "There are many ways to work with arrays beyond fancy indexing, slicing, and simple reshaping. While much of the heavy lifting for data analysis applications is handled by higher level functions in pandas."
   ]
  },
  {
   "cell_type": "code",
   "execution_count": null,
   "metadata": {},
   "outputs": [],
   "source": []
  }
 ],
 "metadata": {
  "kernelspec": {
   "display_name": "base",
   "language": "python",
   "name": "python3"
  },
  "language_info": {
   "codemirror_mode": {
    "name": "ipython",
    "version": 3
   },
   "file_extension": ".py",
   "mimetype": "text/x-python",
   "name": "python",
   "nbconvert_exporter": "python",
   "pygments_lexer": "ipython3",
   "version": "3.11.4"
  }
 },
 "nbformat": 4,
 "nbformat_minor": 2
}
