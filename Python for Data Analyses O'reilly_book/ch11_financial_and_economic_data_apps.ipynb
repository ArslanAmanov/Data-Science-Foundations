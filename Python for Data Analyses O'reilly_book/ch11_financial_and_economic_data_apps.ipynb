{
 "cells": [
  {
   "cell_type": "markdown",
   "metadata": {},
   "source": [
    "# Financial and Economic Data Applications \n",
    "The use of Python in the financial industry has been increasing rapidly since 2005, led largely by the maturation of \n",
    "libararies and the availability of skilled python programmers. Institutions have found that Python is well-suited of \n",
    "as an interactive analysis environment as well as enabling robust systems to be developed often in a fraction of the time it would have taken in JAVA or C++... "
   ]
  },
  {
   "cell_type": "markdown",
   "metadata": {},
   "source": [
    "# Data Munging Topics"
   ]
  },
  {
   "cell_type": "code",
   "execution_count": 2,
   "metadata": {},
   "outputs": [],
   "source": [
    "# Time Series and Cross-Section Alignment \n",
    "# On of the most time-consuming issues in working with the financial data is the so-called data alignment problem. \n",
    "# Two related time series may have indexes that don't line up perfectly or two DataFrame objects might have columns or row \n",
    "# labels that don't match. "
   ]
  },
  {
   "cell_type": "markdown",
   "metadata": {},
   "source": [
    "# Operations with Time Series of Different Frequencies\n",
    "Economic time series often of annual, quarterly, and monthly frequencies. It is often necessary to perform operations.\n",
    "Some are completely irregular, for example, earnings revisions for a stock may arrive at any time. \n",
    "The two main tools for frequency conversion and realignment are the 'resample' and 'reindex' methods. \n",
    "'resample' converts data to a fixed frequency while 'reindex' conforms data to a new index. Both support optional interpolation logic. "
   ]
  },
  {
   "cell_type": "code",
   "execution_count": 3,
   "metadata": {},
   "outputs": [],
   "source": [
    "# consider a small weekly time series of stock prices and volumes. \n",
    "import numpy as np\n",
    "import pandas as pd\n",
    "from pandas import Series, DataFrame\n",
    "from datetime import datetime\n",
    "from datetime import timedelta\n",
    "import matplotlib.pyplot as plt\n",
    "\n",
    "# Let's create a small time series with weekly frequency. \n",
    "# The data is about the stock price and volume of a company.\n",
    "# We will use the following data for our example.  \n",
    "\n",
    "ts1 = Series(\n",
    "    np.random.randn(3),\n",
    "    index = pd.date_range('2012-6-13', periods = 3, freq = 'W-WED')\n",
    "            )"
   ]
  },
  {
   "cell_type": "code",
   "execution_count": null,
   "metadata": {},
   "outputs": [],
   "source": []
  }
 ],
 "metadata": {
  "kernelspec": {
   "display_name": "base",
   "language": "python",
   "name": "python3"
  },
  "language_info": {
   "codemirror_mode": {
    "name": "ipython",
    "version": 3
   },
   "file_extension": ".py",
   "mimetype": "text/x-python",
   "name": "python",
   "nbconvert_exporter": "python",
   "pygments_lexer": "ipython3",
   "version": "3.11.4"
  }
 },
 "nbformat": 4,
 "nbformat_minor": 2
}
