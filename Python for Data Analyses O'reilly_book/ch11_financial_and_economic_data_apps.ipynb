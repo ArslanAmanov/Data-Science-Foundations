{
 "cells": [
  {
   "cell_type": "markdown",
   "metadata": {},
   "source": [
    "# Financial and Economic Data Applications \n",
    "The use of Python in the financial industry has been increasing rapidly since 2005, led largely by the maturation of \n",
    "libararies and the availability of skilled python programmers. Institutions have found that Python is well-suited of \n",
    "as an interactive analysis environment as well as enabling robust systems to be developed often in a fraction of the time it would have taken in JAVA or C++... "
   ]
  },
  {
   "cell_type": "markdown",
   "metadata": {},
   "source": [
    "# Data Munging Topics"
   ]
  },
  {
   "cell_type": "code",
   "execution_count": 2,
   "metadata": {},
   "outputs": [],
   "source": [
    "# Time Series and Cross-Section Alignment \n",
    "# On of the most time-consuming issues in working with the financial data is the so-called data alignment problem. \n",
    "# Two related time series may have indexes that don't line up perfectly or two DataFrame objects might have columns or row \n",
    "# labels that don't match. "
   ]
  },
  {
   "cell_type": "markdown",
   "metadata": {},
   "source": [
    "# Operations with Time Series of Different Frequencies\n",
    "Economic time series often of annual, quarterly, and monthly frequencies. It is often necessary to perform operations.\n",
    "Some are completely irregular, for example, earnings revisions for a stock may arrive at any time. \n",
    "The two main tools for frequency conversion and realignment are the 'resample' and 'reindex' methods. \n",
    "'resample' converts data to a fixed frequency while 'reindex' conforms data to a new index. Both support optional interpolation logic. "
   ]
  },
  {
   "cell_type": "code",
   "execution_count": 3,
   "metadata": {},
   "outputs": [],
   "source": [
    "# consider a small weekly time series of stock prices and volumes. \n",
    "import numpy as np\n",
    "import pandas as pd\n",
    "from pandas import Series, DataFrame\n",
    "from datetime import datetime\n",
    "from datetime import timedelta\n",
    "import matplotlib.pyplot as plt\n",
    "\n",
    "# Let's create a small time series with weekly frequency. \n",
    "# The data is about the stock price and volume of a company.\n",
    "# We will use the following data for our example.  \n",
    "\n",
    "ts1 = Series(\n",
    "    np.random.randn(3),\n",
    "    index = pd.date_range('2012-6-13', periods = 3, freq = 'W-WED')\n",
    "            )"
   ]
  },
  {
   "cell_type": "code",
   "execution_count": 4,
   "metadata": {},
   "outputs": [
    {
     "data": {
      "text/plain": [
       "2012-06-13   -0.407684\n",
       "2012-06-20   -0.501774\n",
       "2012-06-27    0.737268\n",
       "Freq: W-WED, dtype: float64"
      ]
     },
     "execution_count": 4,
     "metadata": {},
     "output_type": "execute_result"
    }
   ],
   "source": [
    "ts1"
   ]
  },
  {
   "cell_type": "code",
   "execution_count": 5,
   "metadata": {},
   "outputs": [
    {
     "data": {
      "text/plain": [
       "<pandas.core.resample.DatetimeIndexResampler object at 0x171e239d0>"
      ]
     },
     "execution_count": 5,
     "metadata": {},
     "output_type": "execute_result"
    }
   ],
   "source": [
    "# If you resample this to business daily(Monday-Friday) frequency, you get holes on the days where there is no data. \n",
    "# To fill the holes, you can use the asfreq method. \n",
    "ts1.resample('B') "
   ]
  },
  {
   "cell_type": "code",
   "execution_count": 7,
   "metadata": {},
   "outputs": [
    {
     "name": "stdout",
     "output_type": "stream",
     "text": [
      "DatetimeIndexResampler [freq=<BusinessDay>, axis=0, closed=left, label=left, convention=start, origin=start_day]\n"
     ]
    }
   ],
   "source": [
    "print(ts1.resample('B')) "
   ]
  },
  {
   "cell_type": "code",
   "execution_count": 10,
   "metadata": {},
   "outputs": [
    {
     "data": {
      "text/plain": [
       "2012-06-13   -0.407684\n",
       "2012-06-14   -0.407684\n",
       "2012-06-15   -0.407684\n",
       "2012-06-18   -0.407684\n",
       "2012-06-19   -0.407684\n",
       "2012-06-20   -0.501774\n",
       "2012-06-21   -0.501774\n",
       "2012-06-22   -0.501774\n",
       "2012-06-25   -0.501774\n",
       "2012-06-26   -0.501774\n",
       "2012-06-27    0.737268\n",
       "Freq: B, dtype: float64"
      ]
     },
     "execution_count": 10,
     "metadata": {},
     "output_type": "execute_result"
    }
   ],
   "source": [
    "ts1.resample('B').ffill()"
   ]
  },
  {
   "cell_type": "code",
   "execution_count": 11,
   "metadata": {},
   "outputs": [],
   "source": [
    "# In practice, upsampling lower frequency data to a higher, regular frequency is a fine \n",
    "# solution, but in the more general irregular time series case it may be a poor fit. \n",
    "# Conisder an irregular sampled time series from the same general time period:\n",
    "\n",
    "dates = pd.DataFrame(['2012-6-12', '2012-6-17', '2012-6-18', '2012-6-21', '2012-6-22']) "
   ]
  },
  {
   "cell_type": "code",
   "execution_count": 13,
   "metadata": {},
   "outputs": [
    {
     "data": {
      "text/plain": [
       "0\n",
       "2012-6-12    0.124310\n",
       "2012-6-17    0.090882\n",
       "2012-6-18    0.960148\n",
       "2012-6-21    0.640752\n",
       "2012-6-22    0.694223\n",
       "dtype: float64"
      ]
     },
     "execution_count": 13,
     "metadata": {},
     "output_type": "execute_result"
    }
   ],
   "source": [
    "ts2 = pd.Series(np.random.rand(5), index=dates[0])\n",
    "ts2"
   ]
  },
  {
   "cell_type": "markdown",
   "metadata": {},
   "source": [
    "# Using periods instead of timestamps "
   ]
  },
  {
   "cell_type": "code",
   "execution_count": 14,
   "metadata": {},
   "outputs": [],
   "source": [
    "# Periods(representing time spans) provide an alternate means of working with different frequency time series. \n",
    "# especially financial or economic series with annual or quarterly frequency having a particular reporting convention. \n",
    "# For example, a company might announce its quarterly earnings with fiscal year ending in June, thus having Q-Jun frequency. \n",
    "# Consider a pair of macroeconomic time series related to GDP and inflation. \n",
    "\n",
    "gdp = Series( [1.78, 1.94, 2.08, 2.01, 2.15], index = pd.period_range('1984Q2', periods = 5, freq = 'Q-DEC') ) \n",
    "inflation = Series( [0.025, 0.045, 0.037, 0.04], index = pd.period_range('1982', periods = 4, freq = 'A-DEC') ) "
   ]
  },
  {
   "cell_type": "code",
   "execution_count": 15,
   "metadata": {},
   "outputs": [
    {
     "data": {
      "text/plain": [
       "1984Q2    1.78\n",
       "1984Q3    1.94\n",
       "1984Q4    2.08\n",
       "1985Q1    2.01\n",
       "1985Q2    2.15\n",
       "Freq: Q-DEC, dtype: float64"
      ]
     },
     "execution_count": 15,
     "metadata": {},
     "output_type": "execute_result"
    }
   ],
   "source": [
    "gdp "
   ]
  },
  {
   "cell_type": "code",
   "execution_count": 16,
   "metadata": {},
   "outputs": [
    {
     "data": {
      "text/plain": [
       "1982    0.025\n",
       "1983    0.045\n",
       "1984    0.037\n",
       "1985    0.040\n",
       "Freq: A-DEC, dtype: float64"
      ]
     },
     "execution_count": 16,
     "metadata": {},
     "output_type": "execute_result"
    }
   ],
   "source": [
    "inflation"
   ]
  },
  {
   "cell_type": "code",
   "execution_count": 17,
   "metadata": {},
   "outputs": [],
   "source": [
    "inf_q = inflation.asfreq('Q-DEC', how = 'end') "
   ]
  },
  {
   "cell_type": "code",
   "execution_count": 18,
   "metadata": {},
   "outputs": [
    {
     "data": {
      "text/plain": [
       "1982Q4    0.025\n",
       "1983Q4    0.045\n",
       "1984Q4    0.037\n",
       "1985Q4    0.040\n",
       "Freq: Q-DEC, dtype: float64"
      ]
     },
     "execution_count": 18,
     "metadata": {},
     "output_type": "execute_result"
    }
   ],
   "source": [
    "inf_q "
   ]
  },
  {
   "cell_type": "code",
   "execution_count": 19,
   "metadata": {},
   "outputs": [
    {
     "data": {
      "text/plain": [
       "1984Q2    0.045\n",
       "1984Q3    0.045\n",
       "1984Q4    0.037\n",
       "1985Q1    0.037\n",
       "1985Q2    0.037\n",
       "Freq: Q-DEC, dtype: float64"
      ]
     },
     "execution_count": 19,
     "metadata": {},
     "output_type": "execute_result"
    }
   ],
   "source": [
    "# That time series can then be reindexed with forward-filling to match gdp: \n",
    "inf_q.reindex(gdp.index, method = 'ffill') "
   ]
  },
  {
   "cell_type": "markdown",
   "metadata": {},
   "source": [
    "# Time of day and \"as of\" Data selection "
   ]
  },
  {
   "cell_type": "code",
   "execution_count": 20,
   "metadata": {},
   "outputs": [],
   "source": [
    "# Suppose you have a long time series containing intraday market data and you want to extract the prices at a particular time of day \n",
    "# on each day of the data. \n",
    "# What if the data are irregular such that observations do not fall exactly on the desired time? \n",
    "# In practice this task can make for error-prone data muning if you are not careful. \n",
    "# Here is a small sample of such data.\n",
    "# Make an intraday date range and time series \n",
    "\n",
    "rng = pd.date_range('2012-06-01 09:30', '2012-06-01 15:59', freq = 'T')  "
   ]
  },
  {
   "cell_type": "code",
   "execution_count": 23,
   "metadata": {},
   "outputs": [],
   "source": [
    "rng = rng.append([rng + pd.DateOffset(days=i) for i in range(1, 4)]).astype('datetime64[ns]')\n"
   ]
  },
  {
   "cell_type": "code",
   "execution_count": 24,
   "metadata": {},
   "outputs": [],
   "source": [
    "ts = Series(np.arange(len(rng), dtype = float), index = rng) "
   ]
  },
  {
   "cell_type": "code",
   "execution_count": 25,
   "metadata": {},
   "outputs": [
    {
     "data": {
      "text/plain": [
       "2012-06-01 09:30:00       0.0\n",
       "2012-06-01 09:31:00       1.0\n",
       "2012-06-01 09:32:00       2.0\n",
       "2012-06-01 09:33:00       3.0\n",
       "2012-06-01 09:34:00       4.0\n",
       "                        ...  \n",
       "2012-06-04 15:55:00    1555.0\n",
       "2012-06-04 15:56:00    1556.0\n",
       "2012-06-04 15:57:00    1557.0\n",
       "2012-06-04 15:58:00    1558.0\n",
       "2012-06-04 15:59:00    1559.0\n",
       "Length: 1560, dtype: float64"
      ]
     },
     "execution_count": 25,
     "metadata": {},
     "output_type": "execute_result"
    }
   ],
   "source": [
    "ts "
   ]
  },
  {
   "cell_type": "code",
   "execution_count": 26,
   "metadata": {},
   "outputs": [
    {
     "data": {
      "text/plain": [
       "2012-06-01 10:00:00      30.0\n",
       "2012-06-02 10:00:00     420.0\n",
       "2012-06-03 10:00:00     810.0\n",
       "2012-06-04 10:00:00    1200.0\n",
       "dtype: float64"
      ]
     },
     "execution_count": 26,
     "metadata": {},
     "output_type": "execute_result"
    }
   ],
   "source": [
    "# Indexing with a Python datetime.time object will extract values at those times \n",
    "from datetime import time\n",
    "ts[time(10, 0)] "
   ]
  },
  {
   "cell_type": "code",
   "execution_count": 27,
   "metadata": {},
   "outputs": [
    {
     "data": {
      "text/plain": [
       "2012-06-01 10:00:00      30.0\n",
       "2012-06-02 10:00:00     420.0\n",
       "2012-06-03 10:00:00     810.0\n",
       "2012-06-04 10:00:00    1200.0\n",
       "dtype: float64"
      ]
     },
     "execution_count": 27,
     "metadata": {},
     "output_type": "execute_result"
    }
   ],
   "source": [
    "# Under the hood, this uses an instance method at_time (available on individual time series and DataFrame objects alike): \n",
    "ts.at_time(time(10, 0))"
   ]
  },
  {
   "cell_type": "code",
   "execution_count": 28,
   "metadata": {},
   "outputs": [
    {
     "data": {
      "text/plain": [
       "2012-06-01 10:00:00      30.0\n",
       "2012-06-01 10:01:00      31.0\n",
       "2012-06-02 10:00:00     420.0\n",
       "2012-06-02 10:01:00     421.0\n",
       "2012-06-03 10:00:00     810.0\n",
       "2012-06-03 10:01:00     811.0\n",
       "2012-06-04 10:00:00    1200.0\n",
       "2012-06-04 10:01:00    1201.0\n",
       "dtype: float64"
      ]
     },
     "execution_count": 28,
     "metadata": {},
     "output_type": "execute_result"
    }
   ],
   "source": [
    "# You can select values between two times using the related between_time method: \n",
    "ts.between_time(time(10,0), time(10, 1)) "
   ]
  },
  {
   "cell_type": "code",
   "execution_count": 29,
   "metadata": {},
   "outputs": [],
   "source": [
    "# As mentioned above, it might be the case that no data actually fall exactly at a time like 10 AM, but you might want to know the last known value at 10 AM. \n",
    "# Set most of the time series randomly to NA values: \n",
    "\n",
    "indexer = np.sort(np.random.permutation(len(ts))[700:]) "
   ]
  },
  {
   "cell_type": "code",
   "execution_count": 30,
   "metadata": {},
   "outputs": [],
   "source": [
    "irr_ts = ts.copy() "
   ]
  },
  {
   "cell_type": "code",
   "execution_count": 31,
   "metadata": {},
   "outputs": [],
   "source": [
    "irr_ts[indexer]=np.nan"
   ]
  },
  {
   "cell_type": "code",
   "execution_count": 32,
   "metadata": {},
   "outputs": [
    {
     "data": {
      "text/plain": [
       "2012-06-01 09:50:00    20.0\n",
       "2012-06-01 09:51:00     NaN\n",
       "2012-06-01 09:52:00     NaN\n",
       "2012-06-01 09:53:00    23.0\n",
       "2012-06-01 09:54:00    24.0\n",
       "2012-06-01 09:55:00     NaN\n",
       "2012-06-01 09:56:00     NaN\n",
       "2012-06-01 09:57:00     NaN\n",
       "2012-06-01 09:58:00     NaN\n",
       "2012-06-01 09:59:00    29.0\n",
       "2012-06-01 10:00:00    30.0\n",
       "dtype: float64"
      ]
     },
     "execution_count": 32,
     "metadata": {},
     "output_type": "execute_result"
    }
   ],
   "source": [
    "irr_ts['2012-06-01 09:50':'2012-06-01 10:00'] "
   ]
  },
  {
   "cell_type": "code",
   "execution_count": 33,
   "metadata": {},
   "outputs": [],
   "source": [
    "# By passing an array of timestamps to the \"asof\" method, you will obtain an array of the last valid(not-NaN) \n",
    "# values at or before each timestamp. So we construct an array of timestamps at 10 AM on each of the days in the time series: \n",
    "\n",
    "selection = pd.date_range('2012-06-01 10:00', periods = 4, freq = 'B') "
   ]
  },
  {
   "cell_type": "code",
   "execution_count": 34,
   "metadata": {},
   "outputs": [
    {
     "data": {
      "text/plain": [
       "2012-06-01 10:00:00      30.0\n",
       "2012-06-04 10:00:00    1200.0\n",
       "2012-06-05 10:00:00    1558.0\n",
       "2012-06-06 10:00:00    1558.0\n",
       "Freq: B, dtype: float64"
      ]
     },
     "execution_count": 34,
     "metadata": {},
     "output_type": "execute_result"
    }
   ],
   "source": [
    "irr_ts.asof(selection) "
   ]
  },
  {
   "cell_type": "markdown",
   "metadata": {},
   "source": [
    "# Splicing together data sources"
   ]
  },
  {
   "cell_type": "code",
   "execution_count": 35,
   "metadata": {},
   "outputs": [],
   "source": [
    "# Chapter 7 described a number of strategies for merging together two related data sets. \n",
    "# In a financial or economic context, there are a few widely occurring use cases for this type of operations: \n",
    "#  1. Switching from one data source (a time series or collection of time series) to another at a specific point in time. \n",
    "#  2. Patching missing values in a time series at the beginning, middle, or end of a another time series. \n",
    "#  3. Completely replacing the data for a subset of symbols (countries, asset tickers and so on) "
   ]
  },
  {
   "cell_type": "code",
   "execution_count": 36,
   "metadata": {},
   "outputs": [],
   "source": [
    "# In the first case, switching from one set of time series to another at a specific instant, it is matter of splicing together two TimeSeries or DataFrame objects using pandas.concat. \n",
    "# Here is a small example of such an operation. \n",
    "\n",
    "data1 = DataFrame(np.ones((6, 3), dtype = float), columns = ['a', 'b', 'c'], index = pd.date_range('6/12/2012', periods = 6)) "
   ]
  },
  {
   "cell_type": "code",
   "execution_count": 37,
   "metadata": {},
   "outputs": [],
   "source": [
    "data2 = DataFrame(np.ones((6, 3), dtype = float) * 2, columns = ['a', 'b', 'c'], index = pd.date_range('6/13/2012', periods = 6))"
   ]
  },
  {
   "cell_type": "code",
   "execution_count": 39,
   "metadata": {},
   "outputs": [],
   "source": [
    "spliced = pd.concat([data1.loc[:'2012-06-14'], data2.loc['2012-06-15':]]) "
   ]
  },
  {
   "cell_type": "code",
   "execution_count": 40,
   "metadata": {},
   "outputs": [
    {
     "data": {
      "text/html": [
       "<div>\n",
       "<style scoped>\n",
       "    .dataframe tbody tr th:only-of-type {\n",
       "        vertical-align: middle;\n",
       "    }\n",
       "\n",
       "    .dataframe tbody tr th {\n",
       "        vertical-align: top;\n",
       "    }\n",
       "\n",
       "    .dataframe thead th {\n",
       "        text-align: right;\n",
       "    }\n",
       "</style>\n",
       "<table border=\"1\" class=\"dataframe\">\n",
       "  <thead>\n",
       "    <tr style=\"text-align: right;\">\n",
       "      <th></th>\n",
       "      <th>a</th>\n",
       "      <th>b</th>\n",
       "      <th>c</th>\n",
       "    </tr>\n",
       "  </thead>\n",
       "  <tbody>\n",
       "    <tr>\n",
       "      <th>2012-06-12</th>\n",
       "      <td>1.0</td>\n",
       "      <td>1.0</td>\n",
       "      <td>1.0</td>\n",
       "    </tr>\n",
       "    <tr>\n",
       "      <th>2012-06-13</th>\n",
       "      <td>1.0</td>\n",
       "      <td>1.0</td>\n",
       "      <td>1.0</td>\n",
       "    </tr>\n",
       "    <tr>\n",
       "      <th>2012-06-14</th>\n",
       "      <td>1.0</td>\n",
       "      <td>1.0</td>\n",
       "      <td>1.0</td>\n",
       "    </tr>\n",
       "    <tr>\n",
       "      <th>2012-06-15</th>\n",
       "      <td>2.0</td>\n",
       "      <td>2.0</td>\n",
       "      <td>2.0</td>\n",
       "    </tr>\n",
       "    <tr>\n",
       "      <th>2012-06-16</th>\n",
       "      <td>2.0</td>\n",
       "      <td>2.0</td>\n",
       "      <td>2.0</td>\n",
       "    </tr>\n",
       "    <tr>\n",
       "      <th>2012-06-17</th>\n",
       "      <td>2.0</td>\n",
       "      <td>2.0</td>\n",
       "      <td>2.0</td>\n",
       "    </tr>\n",
       "    <tr>\n",
       "      <th>2012-06-18</th>\n",
       "      <td>2.0</td>\n",
       "      <td>2.0</td>\n",
       "      <td>2.0</td>\n",
       "    </tr>\n",
       "  </tbody>\n",
       "</table>\n",
       "</div>"
      ],
      "text/plain": [
       "              a    b    c\n",
       "2012-06-12  1.0  1.0  1.0\n",
       "2012-06-13  1.0  1.0  1.0\n",
       "2012-06-14  1.0  1.0  1.0\n",
       "2012-06-15  2.0  2.0  2.0\n",
       "2012-06-16  2.0  2.0  2.0\n",
       "2012-06-17  2.0  2.0  2.0\n",
       "2012-06-18  2.0  2.0  2.0"
      ]
     },
     "execution_count": 40,
     "metadata": {},
     "output_type": "execute_result"
    }
   ],
   "source": [
    "spliced"
   ]
  },
  {
   "cell_type": "code",
   "execution_count": 41,
   "metadata": {},
   "outputs": [],
   "source": [
    "# Suppose in a similar example that data1 was missing a time series present in data2. \n",
    "\n",
    "data2 = DataFrame(np.ones((6, 4), dtype = float) * 2, columns = ['a', 'b', 'c', 'd'], index = pd.date_range('6/13/2012', periods = 6)) "
   ]
  },
  {
   "cell_type": "code",
   "execution_count": 42,
   "metadata": {},
   "outputs": [],
   "source": [
    "\n",
    "\n",
    "\n",
    "sliced = pd.concat([data1.loc[:'2012-06-14'], data2.loc['2012-06-15':]]) "
   ]
  },
  {
   "cell_type": "code",
   "execution_count": 43,
   "metadata": {},
   "outputs": [
    {
     "data": {
      "text/html": [
       "<div>\n",
       "<style scoped>\n",
       "    .dataframe tbody tr th:only-of-type {\n",
       "        vertical-align: middle;\n",
       "    }\n",
       "\n",
       "    .dataframe tbody tr th {\n",
       "        vertical-align: top;\n",
       "    }\n",
       "\n",
       "    .dataframe thead th {\n",
       "        text-align: right;\n",
       "    }\n",
       "</style>\n",
       "<table border=\"1\" class=\"dataframe\">\n",
       "  <thead>\n",
       "    <tr style=\"text-align: right;\">\n",
       "      <th></th>\n",
       "      <th>a</th>\n",
       "      <th>b</th>\n",
       "      <th>c</th>\n",
       "      <th>d</th>\n",
       "    </tr>\n",
       "  </thead>\n",
       "  <tbody>\n",
       "    <tr>\n",
       "      <th>2012-06-12</th>\n",
       "      <td>1.0</td>\n",
       "      <td>1.0</td>\n",
       "      <td>1.0</td>\n",
       "      <td>NaN</td>\n",
       "    </tr>\n",
       "    <tr>\n",
       "      <th>2012-06-13</th>\n",
       "      <td>1.0</td>\n",
       "      <td>1.0</td>\n",
       "      <td>1.0</td>\n",
       "      <td>NaN</td>\n",
       "    </tr>\n",
       "    <tr>\n",
       "      <th>2012-06-14</th>\n",
       "      <td>1.0</td>\n",
       "      <td>1.0</td>\n",
       "      <td>1.0</td>\n",
       "      <td>NaN</td>\n",
       "    </tr>\n",
       "    <tr>\n",
       "      <th>2012-06-15</th>\n",
       "      <td>2.0</td>\n",
       "      <td>2.0</td>\n",
       "      <td>2.0</td>\n",
       "      <td>2.0</td>\n",
       "    </tr>\n",
       "    <tr>\n",
       "      <th>2012-06-16</th>\n",
       "      <td>2.0</td>\n",
       "      <td>2.0</td>\n",
       "      <td>2.0</td>\n",
       "      <td>2.0</td>\n",
       "    </tr>\n",
       "    <tr>\n",
       "      <th>2012-06-17</th>\n",
       "      <td>2.0</td>\n",
       "      <td>2.0</td>\n",
       "      <td>2.0</td>\n",
       "      <td>2.0</td>\n",
       "    </tr>\n",
       "    <tr>\n",
       "      <th>2012-06-18</th>\n",
       "      <td>2.0</td>\n",
       "      <td>2.0</td>\n",
       "      <td>2.0</td>\n",
       "      <td>2.0</td>\n",
       "    </tr>\n",
       "  </tbody>\n",
       "</table>\n",
       "</div>"
      ],
      "text/plain": [
       "              a    b    c    d\n",
       "2012-06-12  1.0  1.0  1.0  NaN\n",
       "2012-06-13  1.0  1.0  1.0  NaN\n",
       "2012-06-14  1.0  1.0  1.0  NaN\n",
       "2012-06-15  2.0  2.0  2.0  2.0\n",
       "2012-06-16  2.0  2.0  2.0  2.0\n",
       "2012-06-17  2.0  2.0  2.0  2.0\n",
       "2012-06-18  2.0  2.0  2.0  2.0"
      ]
     },
     "execution_count": 43,
     "metadata": {},
     "output_type": "execute_result"
    }
   ],
   "source": [
    "sliced "
   ]
  },
  {
   "cell_type": "code",
   "execution_count": 44,
   "metadata": {},
   "outputs": [],
   "source": [
    "# Using combine_first, you can bring in data from before the splice point to extend the history for 'd' item: \n",
    "\n",
    "sliced_filled = sliced.combine_first(data2) "
   ]
  },
  {
   "cell_type": "code",
   "execution_count": 45,
   "metadata": {},
   "outputs": [
    {
     "data": {
      "text/html": [
       "<div>\n",
       "<style scoped>\n",
       "    .dataframe tbody tr th:only-of-type {\n",
       "        vertical-align: middle;\n",
       "    }\n",
       "\n",
       "    .dataframe tbody tr th {\n",
       "        vertical-align: top;\n",
       "    }\n",
       "\n",
       "    .dataframe thead th {\n",
       "        text-align: right;\n",
       "    }\n",
       "</style>\n",
       "<table border=\"1\" class=\"dataframe\">\n",
       "  <thead>\n",
       "    <tr style=\"text-align: right;\">\n",
       "      <th></th>\n",
       "      <th>a</th>\n",
       "      <th>b</th>\n",
       "      <th>c</th>\n",
       "      <th>d</th>\n",
       "    </tr>\n",
       "  </thead>\n",
       "  <tbody>\n",
       "    <tr>\n",
       "      <th>2012-06-12</th>\n",
       "      <td>1.0</td>\n",
       "      <td>1.0</td>\n",
       "      <td>1.0</td>\n",
       "      <td>NaN</td>\n",
       "    </tr>\n",
       "    <tr>\n",
       "      <th>2012-06-13</th>\n",
       "      <td>1.0</td>\n",
       "      <td>1.0</td>\n",
       "      <td>1.0</td>\n",
       "      <td>2.0</td>\n",
       "    </tr>\n",
       "    <tr>\n",
       "      <th>2012-06-14</th>\n",
       "      <td>1.0</td>\n",
       "      <td>1.0</td>\n",
       "      <td>1.0</td>\n",
       "      <td>2.0</td>\n",
       "    </tr>\n",
       "    <tr>\n",
       "      <th>2012-06-15</th>\n",
       "      <td>2.0</td>\n",
       "      <td>2.0</td>\n",
       "      <td>2.0</td>\n",
       "      <td>2.0</td>\n",
       "    </tr>\n",
       "    <tr>\n",
       "      <th>2012-06-16</th>\n",
       "      <td>2.0</td>\n",
       "      <td>2.0</td>\n",
       "      <td>2.0</td>\n",
       "      <td>2.0</td>\n",
       "    </tr>\n",
       "    <tr>\n",
       "      <th>2012-06-17</th>\n",
       "      <td>2.0</td>\n",
       "      <td>2.0</td>\n",
       "      <td>2.0</td>\n",
       "      <td>2.0</td>\n",
       "    </tr>\n",
       "    <tr>\n",
       "      <th>2012-06-18</th>\n",
       "      <td>2.0</td>\n",
       "      <td>2.0</td>\n",
       "      <td>2.0</td>\n",
       "      <td>2.0</td>\n",
       "    </tr>\n",
       "  </tbody>\n",
       "</table>\n",
       "</div>"
      ],
      "text/plain": [
       "              a    b    c    d\n",
       "2012-06-12  1.0  1.0  1.0  NaN\n",
       "2012-06-13  1.0  1.0  1.0  2.0\n",
       "2012-06-14  1.0  1.0  1.0  2.0\n",
       "2012-06-15  2.0  2.0  2.0  2.0\n",
       "2012-06-16  2.0  2.0  2.0  2.0\n",
       "2012-06-17  2.0  2.0  2.0  2.0\n",
       "2012-06-18  2.0  2.0  2.0  2.0"
      ]
     },
     "execution_count": 45,
     "metadata": {},
     "output_type": "execute_result"
    }
   ],
   "source": [
    "sliced_filled"
   ]
  },
  {
   "cell_type": "code",
   "execution_count": 46,
   "metadata": {},
   "outputs": [],
   "source": [
    "# Since data2 does not have any values for 2012-06-12, no values are filled on that day. \n",
    "# DataFrame has a related method, \"update\" for performing in-place updates. You have to pass \"overwrite=False\" \n",
    "# to make it only fill the holes: \n",
    "spliced.update(data2, overwrite = False) "
   ]
  },
  {
   "cell_type": "code",
   "execution_count": 47,
   "metadata": {},
   "outputs": [
    {
     "data": {
      "text/html": [
       "<div>\n",
       "<style scoped>\n",
       "    .dataframe tbody tr th:only-of-type {\n",
       "        vertical-align: middle;\n",
       "    }\n",
       "\n",
       "    .dataframe tbody tr th {\n",
       "        vertical-align: top;\n",
       "    }\n",
       "\n",
       "    .dataframe thead th {\n",
       "        text-align: right;\n",
       "    }\n",
       "</style>\n",
       "<table border=\"1\" class=\"dataframe\">\n",
       "  <thead>\n",
       "    <tr style=\"text-align: right;\">\n",
       "      <th></th>\n",
       "      <th>a</th>\n",
       "      <th>b</th>\n",
       "      <th>c</th>\n",
       "    </tr>\n",
       "  </thead>\n",
       "  <tbody>\n",
       "    <tr>\n",
       "      <th>2012-06-12</th>\n",
       "      <td>1.0</td>\n",
       "      <td>1.0</td>\n",
       "      <td>1.0</td>\n",
       "    </tr>\n",
       "    <tr>\n",
       "      <th>2012-06-13</th>\n",
       "      <td>1.0</td>\n",
       "      <td>1.0</td>\n",
       "      <td>1.0</td>\n",
       "    </tr>\n",
       "    <tr>\n",
       "      <th>2012-06-14</th>\n",
       "      <td>1.0</td>\n",
       "      <td>1.0</td>\n",
       "      <td>1.0</td>\n",
       "    </tr>\n",
       "    <tr>\n",
       "      <th>2012-06-15</th>\n",
       "      <td>2.0</td>\n",
       "      <td>2.0</td>\n",
       "      <td>2.0</td>\n",
       "    </tr>\n",
       "    <tr>\n",
       "      <th>2012-06-16</th>\n",
       "      <td>2.0</td>\n",
       "      <td>2.0</td>\n",
       "      <td>2.0</td>\n",
       "    </tr>\n",
       "    <tr>\n",
       "      <th>2012-06-17</th>\n",
       "      <td>2.0</td>\n",
       "      <td>2.0</td>\n",
       "      <td>2.0</td>\n",
       "    </tr>\n",
       "    <tr>\n",
       "      <th>2012-06-18</th>\n",
       "      <td>2.0</td>\n",
       "      <td>2.0</td>\n",
       "      <td>2.0</td>\n",
       "    </tr>\n",
       "  </tbody>\n",
       "</table>\n",
       "</div>"
      ],
      "text/plain": [
       "              a    b    c\n",
       "2012-06-12  1.0  1.0  1.0\n",
       "2012-06-13  1.0  1.0  1.0\n",
       "2012-06-14  1.0  1.0  1.0\n",
       "2012-06-15  2.0  2.0  2.0\n",
       "2012-06-16  2.0  2.0  2.0\n",
       "2012-06-17  2.0  2.0  2.0\n",
       "2012-06-18  2.0  2.0  2.0"
      ]
     },
     "execution_count": 47,
     "metadata": {},
     "output_type": "execute_result"
    }
   ],
   "source": [
    "spliced"
   ]
  },
  {
   "cell_type": "code",
   "execution_count": 48,
   "metadata": {},
   "outputs": [],
   "source": [
    "# To replace the data for a subset of symbols, you can use any of the above techniques, \n",
    "# but sometimes it's simpler to just set the columns directly with DataFrame indexing. \n",
    "# Here is an example of that: \n",
    "\n",
    "cp_spliced = spliced.copy()"
   ]
  },
  {
   "cell_type": "code",
   "execution_count": 49,
   "metadata": {},
   "outputs": [],
   "source": [
    "cp_spliced[['a', 'c']] = data1[['a', 'c']]"
   ]
  },
  {
   "cell_type": "code",
   "execution_count": 50,
   "metadata": {},
   "outputs": [
    {
     "data": {
      "text/html": [
       "<div>\n",
       "<style scoped>\n",
       "    .dataframe tbody tr th:only-of-type {\n",
       "        vertical-align: middle;\n",
       "    }\n",
       "\n",
       "    .dataframe tbody tr th {\n",
       "        vertical-align: top;\n",
       "    }\n",
       "\n",
       "    .dataframe thead th {\n",
       "        text-align: right;\n",
       "    }\n",
       "</style>\n",
       "<table border=\"1\" class=\"dataframe\">\n",
       "  <thead>\n",
       "    <tr style=\"text-align: right;\">\n",
       "      <th></th>\n",
       "      <th>a</th>\n",
       "      <th>b</th>\n",
       "      <th>c</th>\n",
       "    </tr>\n",
       "  </thead>\n",
       "  <tbody>\n",
       "    <tr>\n",
       "      <th>2012-06-12</th>\n",
       "      <td>1.0</td>\n",
       "      <td>1.0</td>\n",
       "      <td>1.0</td>\n",
       "    </tr>\n",
       "    <tr>\n",
       "      <th>2012-06-13</th>\n",
       "      <td>1.0</td>\n",
       "      <td>1.0</td>\n",
       "      <td>1.0</td>\n",
       "    </tr>\n",
       "    <tr>\n",
       "      <th>2012-06-14</th>\n",
       "      <td>1.0</td>\n",
       "      <td>1.0</td>\n",
       "      <td>1.0</td>\n",
       "    </tr>\n",
       "    <tr>\n",
       "      <th>2012-06-15</th>\n",
       "      <td>1.0</td>\n",
       "      <td>2.0</td>\n",
       "      <td>1.0</td>\n",
       "    </tr>\n",
       "    <tr>\n",
       "      <th>2012-06-16</th>\n",
       "      <td>1.0</td>\n",
       "      <td>2.0</td>\n",
       "      <td>1.0</td>\n",
       "    </tr>\n",
       "    <tr>\n",
       "      <th>2012-06-17</th>\n",
       "      <td>1.0</td>\n",
       "      <td>2.0</td>\n",
       "      <td>1.0</td>\n",
       "    </tr>\n",
       "    <tr>\n",
       "      <th>2012-06-18</th>\n",
       "      <td>NaN</td>\n",
       "      <td>2.0</td>\n",
       "      <td>NaN</td>\n",
       "    </tr>\n",
       "  </tbody>\n",
       "</table>\n",
       "</div>"
      ],
      "text/plain": [
       "              a    b    c\n",
       "2012-06-12  1.0  1.0  1.0\n",
       "2012-06-13  1.0  1.0  1.0\n",
       "2012-06-14  1.0  1.0  1.0\n",
       "2012-06-15  1.0  2.0  1.0\n",
       "2012-06-16  1.0  2.0  1.0\n",
       "2012-06-17  1.0  2.0  1.0\n",
       "2012-06-18  NaN  2.0  NaN"
      ]
     },
     "execution_count": 50,
     "metadata": {},
     "output_type": "execute_result"
    }
   ],
   "source": [
    "cp_spliced"
   ]
  },
  {
   "cell_type": "markdown",
   "metadata": {},
   "source": [
    "# Return Indexes and Cumulative Returns \n",
    "In a financial context, returns usually refer to percent changes in the price of an asset. "
   ]
  },
  {
   "cell_type": "code",
   "execution_count": 55,
   "metadata": {},
   "outputs": [],
   "source": [
    "# %pip install yfinance"
   ]
  },
  {
   "cell_type": "code",
   "execution_count": 58,
   "metadata": {},
   "outputs": [
    {
     "name": "stdout",
     "output_type": "stream",
     "text": [
      "[*********************100%%**********************]  1 of 1 completed\n"
     ]
    }
   ],
   "source": [
    "import yfinance as yf\n",
    "price = yf.download('AAPL', start = '2014-01-01', end = '2015-01-01') "
   ]
  },
  {
   "cell_type": "code",
   "execution_count": 59,
   "metadata": {},
   "outputs": [
    {
     "data": {
      "text/html": [
       "<div>\n",
       "<style scoped>\n",
       "    .dataframe tbody tr th:only-of-type {\n",
       "        vertical-align: middle;\n",
       "    }\n",
       "\n",
       "    .dataframe tbody tr th {\n",
       "        vertical-align: top;\n",
       "    }\n",
       "\n",
       "    .dataframe thead th {\n",
       "        text-align: right;\n",
       "    }\n",
       "</style>\n",
       "<table border=\"1\" class=\"dataframe\">\n",
       "  <thead>\n",
       "    <tr style=\"text-align: right;\">\n",
       "      <th></th>\n",
       "      <th>Open</th>\n",
       "      <th>High</th>\n",
       "      <th>Low</th>\n",
       "      <th>Close</th>\n",
       "      <th>Adj Close</th>\n",
       "      <th>Volume</th>\n",
       "    </tr>\n",
       "    <tr>\n",
       "      <th>Date</th>\n",
       "      <th></th>\n",
       "      <th></th>\n",
       "      <th></th>\n",
       "      <th></th>\n",
       "      <th></th>\n",
       "      <th></th>\n",
       "    </tr>\n",
       "  </thead>\n",
       "  <tbody>\n",
       "    <tr>\n",
       "      <th>2014-01-02</th>\n",
       "      <td>19.845715</td>\n",
       "      <td>19.893929</td>\n",
       "      <td>19.715000</td>\n",
       "      <td>19.754642</td>\n",
       "      <td>17.296659</td>\n",
       "      <td>234684800</td>\n",
       "    </tr>\n",
       "    <tr>\n",
       "      <th>2014-01-03</th>\n",
       "      <td>19.745001</td>\n",
       "      <td>19.775000</td>\n",
       "      <td>19.301071</td>\n",
       "      <td>19.320715</td>\n",
       "      <td>16.916719</td>\n",
       "      <td>392467600</td>\n",
       "    </tr>\n",
       "    <tr>\n",
       "      <th>2014-01-06</th>\n",
       "      <td>19.194643</td>\n",
       "      <td>19.528570</td>\n",
       "      <td>19.057142</td>\n",
       "      <td>19.426071</td>\n",
       "      <td>17.008974</td>\n",
       "      <td>412610800</td>\n",
       "    </tr>\n",
       "    <tr>\n",
       "      <th>2014-01-07</th>\n",
       "      <td>19.440001</td>\n",
       "      <td>19.498571</td>\n",
       "      <td>19.211430</td>\n",
       "      <td>19.287144</td>\n",
       "      <td>16.887325</td>\n",
       "      <td>317209200</td>\n",
       "    </tr>\n",
       "    <tr>\n",
       "      <th>2014-01-08</th>\n",
       "      <td>19.243214</td>\n",
       "      <td>19.484285</td>\n",
       "      <td>19.238930</td>\n",
       "      <td>19.409286</td>\n",
       "      <td>16.994270</td>\n",
       "      <td>258529600</td>\n",
       "    </tr>\n",
       "    <tr>\n",
       "      <th>...</th>\n",
       "      <td>...</td>\n",
       "      <td>...</td>\n",
       "      <td>...</td>\n",
       "      <td>...</td>\n",
       "      <td>...</td>\n",
       "      <td>...</td>\n",
       "    </tr>\n",
       "    <tr>\n",
       "      <th>2014-12-24</th>\n",
       "      <td>28.145000</td>\n",
       "      <td>28.177500</td>\n",
       "      <td>28.002501</td>\n",
       "      <td>28.002501</td>\n",
       "      <td>25.034250</td>\n",
       "      <td>57918400</td>\n",
       "    </tr>\n",
       "    <tr>\n",
       "      <th>2014-12-26</th>\n",
       "      <td>28.025000</td>\n",
       "      <td>28.629999</td>\n",
       "      <td>28.002501</td>\n",
       "      <td>28.497499</td>\n",
       "      <td>25.476780</td>\n",
       "      <td>134884000</td>\n",
       "    </tr>\n",
       "    <tr>\n",
       "      <th>2014-12-29</th>\n",
       "      <td>28.447500</td>\n",
       "      <td>28.692499</td>\n",
       "      <td>28.424999</td>\n",
       "      <td>28.477501</td>\n",
       "      <td>25.458895</td>\n",
       "      <td>110395600</td>\n",
       "    </tr>\n",
       "    <tr>\n",
       "      <th>2014-12-30</th>\n",
       "      <td>28.410000</td>\n",
       "      <td>28.480000</td>\n",
       "      <td>28.027500</td>\n",
       "      <td>28.129999</td>\n",
       "      <td>25.148235</td>\n",
       "      <td>119526000</td>\n",
       "    </tr>\n",
       "    <tr>\n",
       "      <th>2014-12-31</th>\n",
       "      <td>28.205000</td>\n",
       "      <td>28.282499</td>\n",
       "      <td>27.552500</td>\n",
       "      <td>27.594999</td>\n",
       "      <td>24.669947</td>\n",
       "      <td>165613600</td>\n",
       "    </tr>\n",
       "  </tbody>\n",
       "</table>\n",
       "<p>252 rows × 6 columns</p>\n",
       "</div>"
      ],
      "text/plain": [
       "                 Open       High        Low      Close  Adj Close     Volume\n",
       "Date                                                                        \n",
       "2014-01-02  19.845715  19.893929  19.715000  19.754642  17.296659  234684800\n",
       "2014-01-03  19.745001  19.775000  19.301071  19.320715  16.916719  392467600\n",
       "2014-01-06  19.194643  19.528570  19.057142  19.426071  17.008974  412610800\n",
       "2014-01-07  19.440001  19.498571  19.211430  19.287144  16.887325  317209200\n",
       "2014-01-08  19.243214  19.484285  19.238930  19.409286  16.994270  258529600\n",
       "...               ...        ...        ...        ...        ...        ...\n",
       "2014-12-24  28.145000  28.177500  28.002501  28.002501  25.034250   57918400\n",
       "2014-12-26  28.025000  28.629999  28.002501  28.497499  25.476780  134884000\n",
       "2014-12-29  28.447500  28.692499  28.424999  28.477501  25.458895  110395600\n",
       "2014-12-30  28.410000  28.480000  28.027500  28.129999  25.148235  119526000\n",
       "2014-12-31  28.205000  28.282499  27.552500  27.594999  24.669947  165613600\n",
       "\n",
       "[252 rows x 6 columns]"
      ]
     },
     "execution_count": 59,
     "metadata": {},
     "output_type": "execute_result"
    }
   ],
   "source": [
    "price"
   ]
  },
  {
   "cell_type": "code",
   "execution_count": 60,
   "metadata": {},
   "outputs": [],
   "source": [
    "price1 = price[['Adj Close']]"
   ]
  },
  {
   "cell_type": "code",
   "execution_count": 61,
   "metadata": {},
   "outputs": [
    {
     "data": {
      "text/html": [
       "<div>\n",
       "<style scoped>\n",
       "    .dataframe tbody tr th:only-of-type {\n",
       "        vertical-align: middle;\n",
       "    }\n",
       "\n",
       "    .dataframe tbody tr th {\n",
       "        vertical-align: top;\n",
       "    }\n",
       "\n",
       "    .dataframe thead th {\n",
       "        text-align: right;\n",
       "    }\n",
       "</style>\n",
       "<table border=\"1\" class=\"dataframe\">\n",
       "  <thead>\n",
       "    <tr style=\"text-align: right;\">\n",
       "      <th></th>\n",
       "      <th>Adj Close</th>\n",
       "    </tr>\n",
       "    <tr>\n",
       "      <th>Date</th>\n",
       "      <th></th>\n",
       "    </tr>\n",
       "  </thead>\n",
       "  <tbody>\n",
       "    <tr>\n",
       "      <th>2014-12-24</th>\n",
       "      <td>25.034250</td>\n",
       "    </tr>\n",
       "    <tr>\n",
       "      <th>2014-12-26</th>\n",
       "      <td>25.476780</td>\n",
       "    </tr>\n",
       "    <tr>\n",
       "      <th>2014-12-29</th>\n",
       "      <td>25.458895</td>\n",
       "    </tr>\n",
       "    <tr>\n",
       "      <th>2014-12-30</th>\n",
       "      <td>25.148235</td>\n",
       "    </tr>\n",
       "    <tr>\n",
       "      <th>2014-12-31</th>\n",
       "      <td>24.669947</td>\n",
       "    </tr>\n",
       "  </tbody>\n",
       "</table>\n",
       "</div>"
      ],
      "text/plain": [
       "            Adj Close\n",
       "Date                 \n",
       "2014-12-24  25.034250\n",
       "2014-12-26  25.476780\n",
       "2014-12-29  25.458895\n",
       "2014-12-30  25.148235\n",
       "2014-12-31  24.669947"
      ]
     },
     "execution_count": 61,
     "metadata": {},
     "output_type": "execute_result"
    }
   ],
   "source": [
    "price1[-5:]"
   ]
  },
  {
   "cell_type": "code",
   "execution_count": 62,
   "metadata": {},
   "outputs": [],
   "source": [
    "# For Apple, which has no dividends, computing the cumulative percent return between two points in time requires computing only the percen change in the price. \n",
    "returns = price1.pct_change() "
   ]
  },
  {
   "cell_type": "code",
   "execution_count": 63,
   "metadata": {},
   "outputs": [
    {
     "data": {
      "text/html": [
       "<div>\n",
       "<style scoped>\n",
       "    .dataframe tbody tr th:only-of-type {\n",
       "        vertical-align: middle;\n",
       "    }\n",
       "\n",
       "    .dataframe tbody tr th {\n",
       "        vertical-align: top;\n",
       "    }\n",
       "\n",
       "    .dataframe thead th {\n",
       "        text-align: right;\n",
       "    }\n",
       "</style>\n",
       "<table border=\"1\" class=\"dataframe\">\n",
       "  <thead>\n",
       "    <tr style=\"text-align: right;\">\n",
       "      <th></th>\n",
       "      <th>Adj Close</th>\n",
       "    </tr>\n",
       "    <tr>\n",
       "      <th>Date</th>\n",
       "      <th></th>\n",
       "    </tr>\n",
       "  </thead>\n",
       "  <tbody>\n",
       "    <tr>\n",
       "      <th>2014-01-02</th>\n",
       "      <td>NaN</td>\n",
       "    </tr>\n",
       "    <tr>\n",
       "      <th>2014-01-03</th>\n",
       "      <td>-0.021966</td>\n",
       "    </tr>\n",
       "    <tr>\n",
       "      <th>2014-01-06</th>\n",
       "      <td>0.005453</td>\n",
       "    </tr>\n",
       "    <tr>\n",
       "      <th>2014-01-07</th>\n",
       "      <td>-0.007152</td>\n",
       "    </tr>\n",
       "    <tr>\n",
       "      <th>2014-01-08</th>\n",
       "      <td>0.006333</td>\n",
       "    </tr>\n",
       "    <tr>\n",
       "      <th>...</th>\n",
       "      <td>...</td>\n",
       "    </tr>\n",
       "    <tr>\n",
       "      <th>2014-12-24</th>\n",
       "      <td>-0.004709</td>\n",
       "    </tr>\n",
       "    <tr>\n",
       "      <th>2014-12-26</th>\n",
       "      <td>0.017677</td>\n",
       "    </tr>\n",
       "    <tr>\n",
       "      <th>2014-12-29</th>\n",
       "      <td>-0.000702</td>\n",
       "    </tr>\n",
       "    <tr>\n",
       "      <th>2014-12-30</th>\n",
       "      <td>-0.012202</td>\n",
       "    </tr>\n",
       "    <tr>\n",
       "      <th>2014-12-31</th>\n",
       "      <td>-0.019019</td>\n",
       "    </tr>\n",
       "  </tbody>\n",
       "</table>\n",
       "<p>252 rows × 1 columns</p>\n",
       "</div>"
      ],
      "text/plain": [
       "            Adj Close\n",
       "Date                 \n",
       "2014-01-02        NaN\n",
       "2014-01-03  -0.021966\n",
       "2014-01-06   0.005453\n",
       "2014-01-07  -0.007152\n",
       "2014-01-08   0.006333\n",
       "...               ...\n",
       "2014-12-24  -0.004709\n",
       "2014-12-26   0.017677\n",
       "2014-12-29  -0.000702\n",
       "2014-12-30  -0.012202\n",
       "2014-12-31  -0.019019\n",
       "\n",
       "[252 rows x 1 columns]"
      ]
     },
     "execution_count": 63,
     "metadata": {},
     "output_type": "execute_result"
    }
   ],
   "source": [
    "returns "
   ]
  },
  {
   "cell_type": "code",
   "execution_count": 64,
   "metadata": {},
   "outputs": [],
   "source": [
    "# For other stocks with dividend payouts, computing how much money you make from holding a stock can be more complicated. \n",
    "# The adjusted close values used here have been adjusted for splits and dividends.\n",
    "# However,in all cases, it's quite common to derive a \"return index\". which is a time series indicating the value of a unit investment(one dollay say) \n",
    "# Many assumptions can underlie the return index, for example, some will choose to reinvest profit and others not. \n",
    "# In the case of Apple, we can compute a simple return index using \"cumprod\" \n",
    "\n",
    "returns = price.pct_change() "
   ]
  },
  {
   "cell_type": "code",
   "execution_count": 65,
   "metadata": {},
   "outputs": [],
   "source": [
    "ret_index = (1 + returns).cumprod() "
   ]
  },
  {
   "cell_type": "code",
   "execution_count": 66,
   "metadata": {},
   "outputs": [],
   "source": [
    "ret_index[0]=1 # set first value to 1 "
   ]
  },
  {
   "cell_type": "code",
   "execution_count": 68,
   "metadata": {},
   "outputs": [
    {
     "data": {
      "text/plain": [
       "Date\n",
       "2014-01-02    1\n",
       "2014-01-03    1\n",
       "2014-01-06    1\n",
       "2014-01-07    1\n",
       "2014-01-08    1\n",
       "             ..\n",
       "2014-12-24    1\n",
       "2014-12-26    1\n",
       "2014-12-29    1\n",
       "2014-12-30    1\n",
       "2014-12-31    1\n",
       "Name: 0, Length: 252, dtype: int64"
      ]
     },
     "execution_count": 68,
     "metadata": {},
     "output_type": "execute_result"
    }
   ],
   "source": [
    "ret_index[0]"
   ]
  },
  {
   "cell_type": "code",
   "execution_count": 69,
   "metadata": {},
   "outputs": [],
   "source": [
    "# with a return index in hand, computing cumulative returns at a particular resolution is simple. \n",
    "# For example, to compute the 1-month return for each day, you can use the \"shift\" method:\n",
    "m_returns = ret_index.resample('BM').last().pct_change() "
   ]
  },
  {
   "cell_type": "code",
   "execution_count": 70,
   "metadata": {},
   "outputs": [
    {
     "name": "stderr",
     "output_type": "stream",
     "text": [
      "/var/folders/vq/73zp4qns2cjdsxcw0bzvh98w0000gn/T/ipykernel_71647/3666683160.py:1: FutureWarning: Indexing a DataFrame with a datetimelike index using a single string to slice the rows, like `frame[string]`, is deprecated and will be removed in a future version. Use `frame.loc[string]` instead.\n",
      "  m_returns['2014']\n"
     ]
    },
    {
     "data": {
      "text/html": [
       "<div>\n",
       "<style scoped>\n",
       "    .dataframe tbody tr th:only-of-type {\n",
       "        vertical-align: middle;\n",
       "    }\n",
       "\n",
       "    .dataframe tbody tr th {\n",
       "        vertical-align: top;\n",
       "    }\n",
       "\n",
       "    .dataframe thead th {\n",
       "        text-align: right;\n",
       "    }\n",
       "</style>\n",
       "<table border=\"1\" class=\"dataframe\">\n",
       "  <thead>\n",
       "    <tr style=\"text-align: right;\">\n",
       "      <th></th>\n",
       "      <th>Open</th>\n",
       "      <th>High</th>\n",
       "      <th>Low</th>\n",
       "      <th>Close</th>\n",
       "      <th>Adj Close</th>\n",
       "      <th>Volume</th>\n",
       "      <th>0</th>\n",
       "    </tr>\n",
       "    <tr>\n",
       "      <th>Date</th>\n",
       "      <th></th>\n",
       "      <th></th>\n",
       "      <th></th>\n",
       "      <th></th>\n",
       "      <th></th>\n",
       "      <th></th>\n",
       "      <th></th>\n",
       "    </tr>\n",
       "  </thead>\n",
       "  <tbody>\n",
       "    <tr>\n",
       "      <th>2014-01-31</th>\n",
       "      <td>NaN</td>\n",
       "      <td>NaN</td>\n",
       "      <td>NaN</td>\n",
       "      <td>NaN</td>\n",
       "      <td>NaN</td>\n",
       "      <td>NaN</td>\n",
       "      <td>NaN</td>\n",
       "    </tr>\n",
       "    <tr>\n",
       "      <th>2014-02-28</th>\n",
       "      <td>0.068460</td>\n",
       "      <td>0.062250</td>\n",
       "      <td>0.057887</td>\n",
       "      <td>0.051219</td>\n",
       "      <td>0.057511</td>\n",
       "      <td>-0.199718</td>\n",
       "      <td>0.0</td>\n",
       "    </tr>\n",
       "    <tr>\n",
       "      <th>2014-03-31</th>\n",
       "      <td>0.019184</td>\n",
       "      <td>0.015129</td>\n",
       "      <td>0.026450</td>\n",
       "      <td>0.019953</td>\n",
       "      <td>0.019953</td>\n",
       "      <td>-0.546550</td>\n",
       "      <td>0.0</td>\n",
       "    </tr>\n",
       "    <tr>\n",
       "      <th>2014-04-30</th>\n",
       "      <td>0.099049</td>\n",
       "      <td>0.108393</td>\n",
       "      <td>0.100517</td>\n",
       "      <td>0.099396</td>\n",
       "      <td>0.099397</td>\n",
       "      <td>1.707316</td>\n",
       "      <td>0.0</td>\n",
       "    </tr>\n",
       "    <tr>\n",
       "      <th>2014-05-30</th>\n",
       "      <td>0.076505</td>\n",
       "      <td>0.074638</td>\n",
       "      <td>0.066294</td>\n",
       "      <td>0.072718</td>\n",
       "      <td>0.078709</td>\n",
       "      <td>0.235152</td>\n",
       "      <td>0.0</td>\n",
       "    </tr>\n",
       "    <tr>\n",
       "      <th>2014-06-30</th>\n",
       "      <td>0.010533</td>\n",
       "      <td>0.018536</td>\n",
       "      <td>0.025012</td>\n",
       "      <td>0.027662</td>\n",
       "      <td>0.027662</td>\n",
       "      <td>-0.649075</td>\n",
       "      <td>0.0</td>\n",
       "    </tr>\n",
       "    <tr>\n",
       "      <th>2014-07-31</th>\n",
       "      <td>0.054940</td>\n",
       "      <td>0.039688</td>\n",
       "      <td>0.035183</td>\n",
       "      <td>0.028731</td>\n",
       "      <td>0.028732</td>\n",
       "      <td>0.148754</td>\n",
       "      <td>0.0</td>\n",
       "    </tr>\n",
       "    <tr>\n",
       "      <th>2014-08-29</th>\n",
       "      <td>0.058666</td>\n",
       "      <td>0.055926</td>\n",
       "      <td>0.072065</td>\n",
       "      <td>0.072176</td>\n",
       "      <td>0.077508</td>\n",
       "      <td>-0.215471</td>\n",
       "      <td>0.0</td>\n",
       "    </tr>\n",
       "    <tr>\n",
       "      <th>2014-09-30</th>\n",
       "      <td>-0.019930</td>\n",
       "      <td>-0.013217</td>\n",
       "      <td>-0.016340</td>\n",
       "      <td>-0.017073</td>\n",
       "      <td>-0.017073</td>\n",
       "      <td>0.239244</td>\n",
       "      <td>0.0</td>\n",
       "    </tr>\n",
       "    <tr>\n",
       "      <th>2014-10-31</th>\n",
       "      <td>0.071422</td>\n",
       "      <td>0.064014</td>\n",
       "      <td>0.066448</td>\n",
       "      <td>0.071960</td>\n",
       "      <td>0.071960</td>\n",
       "      <td>-0.192255</td>\n",
       "      <td>0.0</td>\n",
       "    </tr>\n",
       "    <tr>\n",
       "      <th>2014-11-28</th>\n",
       "      <td>0.104250</td>\n",
       "      <td>0.105146</td>\n",
       "      <td>0.101110</td>\n",
       "      <td>0.101204</td>\n",
       "      <td>0.105979</td>\n",
       "      <td>-0.444113</td>\n",
       "      <td>0.0</td>\n",
       "    </tr>\n",
       "    <tr>\n",
       "      <th>2014-12-31</th>\n",
       "      <td>-0.054079</td>\n",
       "      <td>-0.052513</td>\n",
       "      <td>-0.066413</td>\n",
       "      <td>-0.071891</td>\n",
       "      <td>-0.071891</td>\n",
       "      <td>0.668523</td>\n",
       "      <td>0.0</td>\n",
       "    </tr>\n",
       "  </tbody>\n",
       "</table>\n",
       "</div>"
      ],
      "text/plain": [
       "                Open      High       Low     Close  Adj Close    Volume    0\n",
       "Date                                                                        \n",
       "2014-01-31       NaN       NaN       NaN       NaN        NaN       NaN  NaN\n",
       "2014-02-28  0.068460  0.062250  0.057887  0.051219   0.057511 -0.199718  0.0\n",
       "2014-03-31  0.019184  0.015129  0.026450  0.019953   0.019953 -0.546550  0.0\n",
       "2014-04-30  0.099049  0.108393  0.100517  0.099396   0.099397  1.707316  0.0\n",
       "2014-05-30  0.076505  0.074638  0.066294  0.072718   0.078709  0.235152  0.0\n",
       "2014-06-30  0.010533  0.018536  0.025012  0.027662   0.027662 -0.649075  0.0\n",
       "2014-07-31  0.054940  0.039688  0.035183  0.028731   0.028732  0.148754  0.0\n",
       "2014-08-29  0.058666  0.055926  0.072065  0.072176   0.077508 -0.215471  0.0\n",
       "2014-09-30 -0.019930 -0.013217 -0.016340 -0.017073  -0.017073  0.239244  0.0\n",
       "2014-10-31  0.071422  0.064014  0.066448  0.071960   0.071960 -0.192255  0.0\n",
       "2014-11-28  0.104250  0.105146  0.101110  0.101204   0.105979 -0.444113  0.0\n",
       "2014-12-31 -0.054079 -0.052513 -0.066413 -0.071891  -0.071891  0.668523  0.0"
      ]
     },
     "execution_count": 70,
     "metadata": {},
     "output_type": "execute_result"
    }
   ],
   "source": [
    "m_returns['2014']"
   ]
  },
  {
   "cell_type": "markdown",
   "metadata": {},
   "source": [
    "# Group Transforms and Analysis "
   ]
  },
  {
   "cell_type": "code",
   "execution_count": 71,
   "metadata": {},
   "outputs": [],
   "source": [
    "# Let's consider a collection of hypothetical stock portfolios. Randomly generate a broad universe of 2000 tickers. \n",
    "\n",
    "import random; random.seed(0)\n",
    "import string\n",
    "N =1000 \n",
    "def rands(n):\n",
    "    choices = string.ascii_uppercase\n",
    "    return ''.join([random.choice(choices) for _ in range(n)])\n",
    "tickers = np.array([rands(5) for _ in range(N)]) "
   ]
  },
  {
   "cell_type": "code",
   "execution_count": 72,
   "metadata": {},
   "outputs": [],
   "source": [
    "# Then create a DataFrame containing 3 columns representing the hypothetical, but random portfolios for a subset of tickers. \n",
    "M = 500\n",
    "df = DataFrame({\n",
    "    'Momentum': np.random.randn(M) / 200 + 0.03,\n",
    "    'Value': np.random.randn(M) / 200 + 0.08,\n",
    "    'ShortInterest': np.random.randn(M) / 200 - 0.02\n",
    "}, index = tickers[:M]) "
   ]
  },
  {
   "cell_type": "code",
   "execution_count": null,
   "metadata": {},
   "outputs": [],
   "source": []
  }
 ],
 "metadata": {
  "kernelspec": {
   "display_name": "base",
   "language": "python",
   "name": "python3"
  },
  "language_info": {
   "codemirror_mode": {
    "name": "ipython",
    "version": 3
   },
   "file_extension": ".py",
   "mimetype": "text/x-python",
   "name": "python",
   "nbconvert_exporter": "python",
   "pygments_lexer": "ipython3",
   "version": "3.11.4"
  }
 },
 "nbformat": 4,
 "nbformat_minor": 2
}
