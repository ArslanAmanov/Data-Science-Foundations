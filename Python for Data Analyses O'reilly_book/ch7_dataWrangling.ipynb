{
 "cells": [
  {
   "cell_type": "markdown",
   "metadata": {},
   "source": [
    "# Data Wrangling: Join, Combine, and Reshape Data "
   ]
  },
  {
   "cell_type": "code",
   "execution_count": 1,
   "metadata": {},
   "outputs": [],
   "source": [
    "# Much of programming work in data analysis and modeling is spent on data preparation:\n",
    "# Loading, cleaning, transforming, and rearranging.\n",
    "# Sometimes the way that data is stored in files or databases is not the way you need it for a data processing application. \n",
    "# Many people choose to do and hoc processing of data from one form to another using a general purpose programming language, \n",
    "# like Python, Perl, R, or Java, or Unix text processing tools like sed or awk. \n"
   ]
  },
  {
   "cell_type": "markdown",
   "metadata": {},
   "source": [
    "# Combining and Merging Data Sets"
   ]
  },
  {
   "cell_type": "code",
   "execution_count": 2,
   "metadata": {},
   "outputs": [],
   "source": [
    "# Data contained in pandas object can be combined together in a number of ways. \n",
    "# The three main ways of combining data are merges, joins, and concatenation.\n",
    "# This section focuses on the mechanics of joining data sets with pandas."
   ]
  },
  {
   "cell_type": "markdown",
   "metadata": {},
   "source": [
    "# Database-style DataFrame merges"
   ]
  },
  {
   "cell_type": "code",
   "execution_count": 3,
   "metadata": {},
   "outputs": [],
   "source": [
    "# Merge or join operations combine data sets by linking rows using one or more keys. \n",
    "# These operations are central to relational databases. \n",
    "# The merge function in pandas is the main entry point for using these algorithms on your data. \n",
    "# Let's start with a simple example: \n",
    "import pandas as pd \n",
    "import numpy as np\n",
    "from pandas import Series, DataFrame\n",
    "\n",
    "df1 = DataFrame({'key': ['b', 'b', 'a', 'c', 'a', 'a', 'b'],'data1': range(7)}) \n",
    "df2 = DataFrame({'key': ['a', 'b', 'd'],'data2': range(3)}) "
   ]
  },
  {
   "cell_type": "code",
   "execution_count": null,
   "metadata": {},
   "outputs": [],
   "source": []
  }
 ],
 "metadata": {
  "kernelspec": {
   "display_name": "base",
   "language": "python",
   "name": "python3"
  },
  "language_info": {
   "codemirror_mode": {
    "name": "ipython",
    "version": 3
   },
   "file_extension": ".py",
   "mimetype": "text/x-python",
   "name": "python",
   "nbconvert_exporter": "python",
   "pygments_lexer": "ipython3",
   "version": "3.11.4"
  }
 },
 "nbformat": 4,
 "nbformat_minor": 2
}
