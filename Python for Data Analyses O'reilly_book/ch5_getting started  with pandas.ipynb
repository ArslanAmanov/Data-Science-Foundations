{
 "cells": [
  {
   "cell_type": "markdown",
   "metadata": {},
   "source": [
    "# Getting Started with Pandas"
   ]
  },
  {
   "cell_type": "code",
   "execution_count": 1,
   "metadata": {},
   "outputs": [
    {
     "data": {
      "text/plain": [
       "0    4\n",
       "1    7\n",
       "2   -5\n",
       "3    3\n",
       "dtype: int64"
      ]
     },
     "execution_count": 1,
     "metadata": {},
     "output_type": "execute_result"
    }
   ],
   "source": [
    "# To get started with pandas you will need to get comfortable with its two \n",
    "# workhorse data structures: Series and DataFrame. While they are not a universal \n",
    "# solution for every problem, they provide a solid easy-to-use basis for most applications. \n",
    "import pandas as pd \n",
    "from pandas import Series, DataFrame \n",
    "import numpy as np \n",
    "\n",
    "# Series is a one-dimensional array-like object containing a sequence of values \n",
    "# and an associated array of data labels, called its index. The simplest Series\n",
    "# is formed from only an array of data: \n",
    "\n",
    "obj = Series([4, 7, -5, 3]) \n",
    "obj"
   ]
  },
  {
   "cell_type": "code",
   "execution_count": 2,
   "metadata": {},
   "outputs": [
    {
     "data": {
      "text/plain": [
       "array([ 4,  7, -5,  3])"
      ]
     },
     "execution_count": 2,
     "metadata": {},
     "output_type": "execute_result"
    }
   ],
   "source": [
    "# The string representation of a Series displayed interactively shows the index on the left\n",
    "# and the values on the right. Since we did not specify an index for the data, a default\n",
    "# one consisting of the integers 0 through N - 1 (where N is the length of the data) is\n",
    "# created. You can get the array representation and index object of the Series via its values\n",
    "# and index attributes, respectively: \n",
    "obj.values"
   ]
  },
  {
   "cell_type": "code",
   "execution_count": 3,
   "metadata": {},
   "outputs": [
    {
     "data": {
      "text/plain": [
       "RangeIndex(start=0, stop=4, step=1)"
      ]
     },
     "execution_count": 3,
     "metadata": {},
     "output_type": "execute_result"
    }
   ],
   "source": [
    "obj.index # like range(4) "
   ]
  },
  {
   "cell_type": "code",
   "execution_count": null,
   "metadata": {},
   "outputs": [],
   "source": []
  }
 ],
 "metadata": {
  "kernelspec": {
   "display_name": "base",
   "language": "python",
   "name": "python3"
  },
  "language_info": {
   "codemirror_mode": {
    "name": "ipython",
    "version": 3
   },
   "file_extension": ".py",
   "mimetype": "text/x-python",
   "name": "python",
   "nbconvert_exporter": "python",
   "pygments_lexer": "ipython3",
   "version": "3.11.4"
  }
 },
 "nbformat": 4,
 "nbformat_minor": 2
}
