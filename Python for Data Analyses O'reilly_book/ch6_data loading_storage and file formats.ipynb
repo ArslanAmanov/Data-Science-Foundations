{
 "cells": [
  {
   "cell_type": "markdown",
   "metadata": {},
   "source": [
    "# Data Loading and Storage & File Formats "
   ]
  },
  {
   "cell_type": "code",
   "execution_count": 2,
   "metadata": {},
   "outputs": [],
   "source": [
    "# Python has become a beloved language for text and file munging due to its simple syntax\n",
    "# for interacting with files, intuitive data structures, and convenient features like tuple\n",
    "# packing and unpacking. \n",
    "# Function Description\n",
    "# read_csv >>>>> Load delimited data from a file, URL, or file-like object. Use comma as default delimiter\n",
    "# read_table >>>>> Load delimited data from a file, URL, or file-like object. Use tab ('\\t') as default delimiter\n",
    "# read_fwf >>>>>> Read data in fixed-width column format (that is, no delimiters)\n",
    "# read_clipboard >>>>> Version of read_table that reads data from the clipboard. Useful for converting tables from web pages "
   ]
  },
  {
   "cell_type": "code",
   "execution_count": 5,
   "metadata": {},
   "outputs": [],
   "source": [
    "import pandas as pd\n",
    "# df = pd.read_csv('examples/ex1.csv') # read_csv "
   ]
  },
  {
   "cell_type": "code",
   "execution_count": 1,
   "metadata": {},
   "outputs": [],
   "source": [
    "# We could also have used read_table and specified the delimiter: \n",
    "# df = pd.read_table('examples/ex1.csv', sep=',') # read_table"
   ]
  },
  {
   "cell_type": "code",
   "execution_count": 3,
   "metadata": {},
   "outputs": [],
   "source": [
    "# A file will not always have a header row. Consider this file: \n",
    "# To read this file, you have a couple of options. You can allow pandas to assign default\n",
    "# column names, or you can specify names yourself:\n",
    "# df = pd.read_csv('examples/ex2.csv', header=None) # read_csv"
   ]
  },
  {
   "cell_type": "code",
   "execution_count": 4,
   "metadata": {},
   "outputs": [],
   "source": [
    "# pd.read_csv('examples/ex2.csv', names=['a', 'b', 'c', 'd', 'message']) # read_csv"
   ]
  },
  {
   "cell_type": "code",
   "execution_count": 5,
   "metadata": {},
   "outputs": [],
   "source": [
    "# Suppose you wanted the message column to be the index of the returned DataFrame. \n",
    "# You can either indicate you want the column at index 4 or names 'message' using the index_col argument: \n",
    "names = ['a', 'b', 'c', 'd', 'message'] \n",
    "# df = pd.read_csv('examples/ex2.csv', names=names, index_col='message') # read_csv with names and index_col"
   ]
  },
  {
   "cell_type": "code",
   "execution_count": 6,
   "metadata": {},
   "outputs": [],
   "source": [
    "# In the event that you want to form a hierarchical index from multiple columns, pass a list of column numbers or names:\n",
    "# parsed = pd.read_csv('examples/csv_mindex.csv', index_col=['key1', 'key2']) # read_csv with hierarchical index "
   ]
  },
  {
   "cell_type": "code",
   "execution_count": null,
   "metadata": {},
   "outputs": [],
   "source": []
  }
 ],
 "metadata": {
  "kernelspec": {
   "display_name": "base",
   "language": "python",
   "name": "python3"
  },
  "language_info": {
   "codemirror_mode": {
    "name": "ipython",
    "version": 3
   },
   "file_extension": ".py",
   "mimetype": "text/x-python",
   "name": "python",
   "nbconvert_exporter": "python",
   "pygments_lexer": "ipython3",
   "version": "3.11.4"
  }
 },
 "nbformat": 4,
 "nbformat_minor": 2
}
