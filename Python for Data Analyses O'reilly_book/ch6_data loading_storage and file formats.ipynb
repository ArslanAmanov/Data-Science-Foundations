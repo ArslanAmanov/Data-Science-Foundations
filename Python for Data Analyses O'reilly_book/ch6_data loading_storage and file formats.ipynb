{
 "cells": [
  {
   "cell_type": "markdown",
   "metadata": {},
   "source": [
    "# Data Loading and Storage & File Formats "
   ]
  },
  {
   "cell_type": "code",
   "execution_count": 2,
   "metadata": {},
   "outputs": [],
   "source": [
    "# Python has become a beloved language for text and file munging due to its simple syntax\n",
    "# for interacting with files, intuitive data structures, and convenient features like tuple\n",
    "# packing and unpacking. \n",
    "# Function Description\n",
    "# read_csv >>>>> Load delimited data from a file, URL, or file-like object. Use comma as default delimiter\n",
    "# read_table >>>>> Load delimited data from a file, URL, or file-like object. Use tab ('\\t') as default delimiter\n",
    "# read_fwf >>>>>> Read data in fixed-width column format (that is, no delimiters)\n",
    "# read_clipboard >>>>> Version of read_table that reads data from the clipboard. Useful for converting tables from web pages "
   ]
  },
  {
   "cell_type": "code",
   "execution_count": null,
   "metadata": {},
   "outputs": [],
   "source": []
  }
 ],
 "metadata": {
  "kernelspec": {
   "display_name": "base",
   "language": "python",
   "name": "python3"
  },
  "language_info": {
   "codemirror_mode": {
    "name": "ipython",
    "version": 3
   },
   "file_extension": ".py",
   "mimetype": "text/x-python",
   "name": "python",
   "nbconvert_exporter": "python",
   "pygments_lexer": "ipython3",
   "version": "3.11.4"
  }
 },
 "nbformat": 4,
 "nbformat_minor": 2
}
