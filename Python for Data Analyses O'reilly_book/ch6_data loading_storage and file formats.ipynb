{
 "cells": [
  {
   "cell_type": "markdown",
   "metadata": {},
   "source": [
    "# Data Loading and Storage & File Formats "
   ]
  },
  {
   "cell_type": "code",
   "execution_count": 2,
   "metadata": {},
   "outputs": [],
   "source": [
    "# Python has become a beloved language for text and file munging due to its simple syntax\n",
    "# for interacting with files, intuitive data structures, and convenient features like tuple\n",
    "# packing and unpacking. \n",
    "# Function Description\n",
    "# read_csv >>>>> Load delimited data from a file, URL, or file-like object. Use comma as default delimiter\n",
    "# read_table >>>>> Load delimited data from a file, URL, or file-like object. Use tab ('\\t') as default delimiter\n",
    "# read_fwf >>>>>> Read data in fixed-width column format (that is, no delimiters)\n",
    "# read_clipboard >>>>> Version of read_table that reads data from the clipboard. Useful for converting tables from web pages "
   ]
  },
  {
   "cell_type": "code",
   "execution_count": 5,
   "metadata": {},
   "outputs": [],
   "source": [
    "import pandas as pd\n",
    "# df = pd.read_csv('examples/ex1.csv') # read_csv "
   ]
  },
  {
   "cell_type": "code",
   "execution_count": 1,
   "metadata": {},
   "outputs": [],
   "source": [
    "# We could also have used read_table and specified the delimiter: \n",
    "# df = pd.read_table('examples/ex1.csv', sep=',') # read_table"
   ]
  },
  {
   "cell_type": "code",
   "execution_count": 3,
   "metadata": {},
   "outputs": [],
   "source": [
    "# A file will not always have a header row. Consider this file: \n",
    "# To read this file, you have a couple of options. You can allow pandas to assign default\n",
    "# column names, or you can specify names yourself:\n",
    "# df = pd.read_csv('examples/ex2.csv', header=None) # read_csv"
   ]
  },
  {
   "cell_type": "code",
   "execution_count": 4,
   "metadata": {},
   "outputs": [],
   "source": [
    "# pd.read_csv('examples/ex2.csv', names=['a', 'b', 'c', 'd', 'message']) # read_csv"
   ]
  },
  {
   "cell_type": "code",
   "execution_count": 5,
   "metadata": {},
   "outputs": [],
   "source": [
    "# Suppose you wanted the message column to be the index of the returned DataFrame. \n",
    "# You can either indicate you want the column at index 4 or names 'message' using the index_col argument: \n",
    "names = ['a', 'b', 'c', 'd', 'message'] \n",
    "# df = pd.read_csv('examples/ex2.csv', names=names, index_col='message') # read_csv with names and index_col"
   ]
  },
  {
   "cell_type": "code",
   "execution_count": 6,
   "metadata": {},
   "outputs": [],
   "source": [
    "# In the event that you want to form a hierarchical index from multiple columns, pass a list of column numbers or names:\n",
    "# parsed = pd.read_csv('examples/csv_mindex.csv', index_col=['key1', 'key2']) # read_csv with hierarchical index "
   ]
  },
  {
   "cell_type": "code",
   "execution_count": 7,
   "metadata": {},
   "outputs": [],
   "source": [
    "# In some cases a table might not have a fixed delimiter, using whitespace or some other pattern to separate fields.\n",
    "# In these cases, you can pass a regular expression as a delimiter for read_table.\n",
    "# Consider a text file that looks like this: \n",
    "# list(open('examples/ex3.txt')) # read_table with regular expression as delimiter "
   ]
  },
  {
   "cell_type": "code",
   "execution_count": 8,
   "metadata": {},
   "outputs": [],
   "source": [
    "# While you could do some munging by hand, the fields are separated by a variable amount of whitespace. \n",
    "# In these cases, you can pass a regular expression as a delimiter for read_table. \n",
    "# This can be expressed by the regular expression \\s+, so we have then: \n",
    "# result = pd.read_table('examples/ex3.txt', sep='\\s+') # read_table with regular expression as delimiter "
   ]
  },
  {
   "cell_type": "code",
   "execution_count": 9,
   "metadata": {},
   "outputs": [],
   "source": [
    "# Because there was one fewer column name than the number of data rows, \n",
    "# read_table infers that the first column should be the DataFrame's index in this special case. \n",
    "# You can explicitly indicate that you want the first column of data to be the index using the index_col argument: \n",
    "# result = pd.read_table('examples/ex3.txt', sep='\\s+', index_col=[0, 1]) \n",
    "# # read_table with regular expression as delimiter and hierarchical index  "
   ]
  },
  {
   "cell_type": "code",
   "execution_count": 10,
   "metadata": {},
   "outputs": [],
   "source": [
    "# hey \n",
    "# skiprows allows you to skip over rows, either at the beginning, end, or at specific indices.\n",
    "# For example, we might want to skip the first, third, and fourth rows of a file like this:\n",
    "# list(open('examples/ex4.csv')) # read_csv with skiprows\n",
    "# df = pd.read_csv('examples/ex4.csv', skiprows=[0, 2, 3]) # read_csv with skiprows "
   ]
  },
  {
   "cell_type": "code",
   "execution_count": 11,
   "metadata": {},
   "outputs": [],
   "source": [
    "# Handling Missing Values is an important and frequently nuanced part of the file parsing process. \n",
    "# Missing data is usually either not present (empty string) or marked by some sentinel value \n",
    "# Most tabular data formats represent missing data as NA:\n",
    "# result = pd.read_csv('examples/ex5.csv') # read_csv with missing values \n",
    "# result = pd.read_csv('examples/ex5.csv', na_values=['NULL']) # read_csv with missing values and na_values\n"
   ]
  },
  {
   "cell_type": "code",
   "execution_count": 12,
   "metadata": {},
   "outputs": [],
   "source": [
    "# Different NA sentinels can be specified for each column in a dict: \n",
    "# sentinels = {'message': ['foo', 'NA'], 'something': ['two']} \n",
    "# result = pd.read_csv('examples/ex5.csv', na_values=sentinels) # read_csv with missing values and na_values in dict "
   ]
  },
  {
   "cell_type": "code",
   "execution_count": null,
   "metadata": {},
   "outputs": [],
   "source": []
  }
 ],
 "metadata": {
  "kernelspec": {
   "display_name": "base",
   "language": "python",
   "name": "python3"
  },
  "language_info": {
   "codemirror_mode": {
    "name": "ipython",
    "version": 3
   },
   "file_extension": ".py",
   "mimetype": "text/x-python",
   "name": "python",
   "nbconvert_exporter": "python",
   "pygments_lexer": "ipython3",
   "version": "3.11.4"
  }
 },
 "nbformat": 4,
 "nbformat_minor": 2
}
