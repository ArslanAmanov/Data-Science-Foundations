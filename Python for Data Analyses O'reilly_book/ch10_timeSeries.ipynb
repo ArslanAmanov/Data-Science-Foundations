{
 "cells": [
  {
   "cell_type": "markdown",
   "metadata": {},
   "source": [
    "# Time Series"
   ]
  },
  {
   "cell_type": "code",
   "execution_count": 1,
   "metadata": {},
   "outputs": [],
   "source": [
    "# Time Series data is an important form of structured data in many different fields, such as finance,economics,ecology, neuroscience, and physics. Anything that is observed or measured at many points in time forms a time series. Many time series are fixed frequency, which is to say that data points occur at regular intervals according to some rule, such as every 15 seconds, every 5 minutes, or once per month. Time series can also be irregular without a fixed unit of time or offset between units. How you mark and refer to time series data depends on the application, and you may have one of the following:\n",
    "# Timestamps, specific instants in time \n",
    "# Fixed periods, such as the month January 2007 or the full year 2010\n",
    "# Intervals of time, indicated by a start and end timestamp. Periods can be thought of as special cases of intervals\n",
    "# Experiment or elapsed time; each timestamp is a measure of time relative to a particular start time (e.g., the diameter of a cookie baking each second since being placed in the oven)"
   ]
  },
  {
   "cell_type": "markdown",
   "metadata": {},
   "source": [
    "# Date and Time Data Types and Tools"
   ]
  },
  {
   "cell_type": "code",
   "execution_count": 2,
   "metadata": {},
   "outputs": [
    {
     "name": "stdout",
     "output_type": "stream",
     "text": [
      "2024-01-30 16:36:36.265225\n"
     ]
    }
   ],
   "source": [
    "#  The python standard library includes data types for date and time data, as well as calendar-related functionality.\n",
    "# The datetime, time, and calendar modules are the main places to start. The datetime.datetime type or simply datetime is widely used:\n",
    "from datetime import datetime\n",
    "now = datetime.now()\n",
    "print(now)"
   ]
  },
  {
   "cell_type": "code",
   "execution_count": 3,
   "metadata": {},
   "outputs": [
    {
     "data": {
      "text/plain": [
       "(2024, 1, 30)"
      ]
     },
     "execution_count": 3,
     "metadata": {},
     "output_type": "execute_result"
    }
   ],
   "source": [
    "now.year, now.month, now.day "
   ]
  },
  {
   "cell_type": "code",
   "execution_count": 4,
   "metadata": {},
   "outputs": [],
   "source": [
    "# datetime stores both the date and time down to the microsecond. datetime.timedelta represents the temporal difference between tow datetime objects\"ch6_data loading_storage and file formats.ipynb\n",
    "delta = datetime(2011,1,7) - datetime(2008,6,24,8,15) # 2011-01-07 00:00:00 - 2008-06-24 08:15:00 = 926 days, 15:45:00"
   ]
  },
  {
   "cell_type": "code",
   "execution_count": 5,
   "metadata": {},
   "outputs": [
    {
     "data": {
      "text/plain": [
       "926"
      ]
     },
     "execution_count": 5,
     "metadata": {},
     "output_type": "execute_result"
    }
   ],
   "source": [
    "delta.days"
   ]
  },
  {
   "cell_type": "code",
   "execution_count": 6,
   "metadata": {},
   "outputs": [
    {
     "data": {
      "text/plain": [
       "56700"
      ]
     },
     "execution_count": 6,
     "metadata": {},
     "output_type": "execute_result"
    }
   ],
   "source": [
    "delta.seconds"
   ]
  },
  {
   "cell_type": "code",
   "execution_count": 7,
   "metadata": {},
   "outputs": [],
   "source": [
    "# you can add (or substract) a timedelta or multiple thereof to a datetime object to yield a new shifted object:\n",
    "from datetime import timedelta \n",
    "start = datetime(2011,1,7)"
   ]
  },
  {
   "cell_type": "code",
   "execution_count": 12,
   "metadata": {},
   "outputs": [
    {
     "data": {
      "text/plain": [
       "datetime.datetime(2011, 1, 19, 0, 0)"
      ]
     },
     "execution_count": 12,
     "metadata": {},
     "output_type": "execute_result"
    }
   ],
   "source": [
    "from datetime import datetime \n",
    "start + timedelta(12) # 2011-01-19 00:00:00 "
   ]
  },
  {
   "cell_type": "code",
   "execution_count": 13,
   "metadata": {},
   "outputs": [],
   "source": [
    "# Types in datetime module \n",
    "# date stores the calendar date(year, month, day) using the Gregorian calendar \n",
    "# time stores the time as hours, minutes, seconds, and microseconds\n",
    "# datetime stores both date and time\n",
    "# timedelta represents the difference between two datetime values as days, seconds, and microseconds"
   ]
  },
  {
   "cell_type": "markdown",
   "metadata": {},
   "source": [
    "# Converting between string and datetime \n",
    "\n",
    "datetime objects and pandas Timestamp objects can be converted to one another very easily:\n",
    "\n",
    "```python"
   ]
  },
  {
   "cell_type": "code",
   "execution_count": 14,
   "metadata": {},
   "outputs": [
    {
     "data": {
      "text/plain": [
       "'2024-01-30 16:48:01.991575'"
      ]
     },
     "execution_count": 14,
     "metadata": {},
     "output_type": "execute_result"
    }
   ],
   "source": [
    "from turtle import stamp\n",
    "\n",
    "\n",
    "stamp = datetime.now() # 2019-11-05 15:54:00.000000\n",
    "str(stamp) # '2019-11-05 15:54:00.000000' "
   ]
  },
  {
   "cell_type": "code",
   "execution_count": 15,
   "metadata": {},
   "outputs": [
    {
     "data": {
      "text/plain": [
       "'2024-01-30'"
      ]
     },
     "execution_count": 15,
     "metadata": {},
     "output_type": "execute_result"
    }
   ],
   "source": [
    "stamp.strftime('%Y-%m-%d') # '2019-11-05' "
   ]
  },
  {
   "cell_type": "code",
   "execution_count": 16,
   "metadata": {},
   "outputs": [],
   "source": [
    "# for a complete list of the format codes. These same format codes can be used to convert strings to dates using datetime.strptime: \n",
    "value = '2011-01-03'"
   ]
  },
  {
   "cell_type": "code",
   "execution_count": 17,
   "metadata": {},
   "outputs": [
    {
     "data": {
      "text/plain": [
       "datetime.datetime(2011, 1, 3, 0, 0)"
      ]
     },
     "execution_count": 17,
     "metadata": {},
     "output_type": "execute_result"
    }
   ],
   "source": [
    "datetime.strptime(value, '%Y-%m-%d') # datetime.datetime(2011, 1, 3, 0, 0) "
   ]
  },
  {
   "cell_type": "code",
   "execution_count": 18,
   "metadata": {},
   "outputs": [],
   "source": [
    "datestrs= ['7/6/2011', '8/6/2011']"
   ]
  },
  {
   "cell_type": "code",
   "execution_count": 19,
   "metadata": {},
   "outputs": [
    {
     "data": {
      "text/plain": [
       "['7/6/2011', '8/6/2011']"
      ]
     },
     "execution_count": 19,
     "metadata": {},
     "output_type": "execute_result"
    }
   ],
   "source": [
    "datestrs "
   ]
  },
  {
   "cell_type": "code",
   "execution_count": 20,
   "metadata": {},
   "outputs": [
    {
     "data": {
      "text/plain": [
       "[datetime.datetime(2011, 7, 6, 0, 0), datetime.datetime(2011, 8, 6, 0, 0)]"
      ]
     },
     "execution_count": 20,
     "metadata": {},
     "output_type": "execute_result"
    }
   ],
   "source": [
    "[datetime.strptime(x, '%m/%d/%Y') for x in datestrs] # [datetime.datetime(2011, 7, 6, 0, 0), datetime.datetime(2011, 8, 6, 0, 0)] \n"
   ]
  },
  {
   "cell_type": "code",
   "execution_count": 21,
   "metadata": {},
   "outputs": [
    {
     "data": {
      "text/plain": [
       "datetime.datetime(2011, 1, 3, 0, 0)"
      ]
     },
     "execution_count": 21,
     "metadata": {},
     "output_type": "execute_result"
    }
   ],
   "source": [
    "# datetime.strptime is the best way to parse a date with a known format. However, it can be a bit annoying to have to \n",
    "# write a format spec each time, especially for common date formats. \n",
    "# In this case, you can use the parser.parse method in the third-party dateutil package (this is installed automatically when you install pandas): \n",
    "from dateutil.parser import parse \n",
    "parse('2011-01-03') # datetime.datetime(2011, 1, 3, 0, 0) "
   ]
  },
  {
   "cell_type": "code",
   "execution_count": 22,
   "metadata": {},
   "outputs": [
    {
     "data": {
      "text/plain": [
       "datetime.datetime(1997, 1, 31, 22, 45)"
      ]
     },
     "execution_count": 22,
     "metadata": {},
     "output_type": "execute_result"
    }
   ],
   "source": [
    "# dateutil is capable of parsing most human-intelligible date representations: \n",
    "parse('Jan 31, 1997 10:45 PM') # datetime.datetime(1997, 1, 31, 22, 45) "
   ]
  },
  {
   "cell_type": "code",
   "execution_count": 23,
   "metadata": {},
   "outputs": [
    {
     "data": {
      "text/plain": [
       "datetime.datetime(2011, 12, 6, 0, 0)"
      ]
     },
     "execution_count": 23,
     "metadata": {},
     "output_type": "execute_result"
    }
   ],
   "source": [
    "# In internationally locales, day apprearing before month is very common, so you can pass dayfirst=True to indicate this:\n",
    "parse('6/12/2011', dayfirst=True) # datetime.datetime(2011, 12, 6, 0, 0) "
   ]
  },
  {
   "cell_type": "code",
   "execution_count": 24,
   "metadata": {},
   "outputs": [],
   "source": [
    "# pandas is generally oriented toward working with arrays of dates, whether used as an axis index or a column in a DataFrame.\n",
    "# The to_datetime method parses many different kinds of date representations. Standard date formats like ISO 8601 can be parsed very quickly: \n",
    "import pandas as pd \n",
    "datestrs = ['2011-07-06 12:00:00', '2011-08-06 00:00:00'] "
   ]
  },
  {
   "cell_type": "code",
   "execution_count": 25,
   "metadata": {},
   "outputs": [
    {
     "data": {
      "text/plain": [
       "DatetimeIndex(['2011-07-06 12:00:00', '2011-08-06 00:00:00'], dtype='datetime64[ns]', freq=None)"
      ]
     },
     "execution_count": 25,
     "metadata": {},
     "output_type": "execute_result"
    }
   ],
   "source": [
    "pd.to_datetime(datestrs) # DatetimeIndex(['2011-07-06 12:00:00', '2011-08-06'], dtype='datetime64[ns]', freq=None) "
   ]
  },
  {
   "cell_type": "code",
   "execution_count": 26,
   "metadata": {},
   "outputs": [],
   "source": [
    "# It also handles values that should be considered missing (None, empty string, etc.): \n",
    "idx = pd.to_datetime(datestrs + [None]) "
   ]
  },
  {
   "cell_type": "code",
   "execution_count": 27,
   "metadata": {},
   "outputs": [
    {
     "data": {
      "text/plain": [
       "DatetimeIndex(['2011-07-06 12:00:00', '2011-08-06 00:00:00', 'NaT'], dtype='datetime64[ns]', freq=None)"
      ]
     },
     "execution_count": 27,
     "metadata": {},
     "output_type": "execute_result"
    }
   ],
   "source": [
    "idx"
   ]
  },
  {
   "cell_type": "code",
   "execution_count": 28,
   "metadata": {},
   "outputs": [],
   "source": [
    "# Datetime format specification (ISO C89 compatible) \n",
    "# %Y 4-digit year\n",
    "# %y 2-digit year\n",
    "# %m 2-digit month [01,12]\n",
    "# %d 2-digit day [01,31]\n",
    "# %H Hour (24-hour clock)[00,23]\n",
    "# %I Hour (12-hour clock)[01,12]\n",
    "# %M 2-digit minute [00,59]\n",
    "# %S Second [00,61] (seconds 60,61 account for leap seconds)\n",
    "# %w Weekday as integer [0(Sunday),6]\n",
    "# %U Week number of the year [00,53]; Sunday is considered the first day of the week, and days before the first Sunday of the year are “week 0”\n",
    "# %W Week number of the year [00,53]; Monday is considered the first day of the week, and days before the first Monday of the year are “week 0”\n",
    "# %z UTC time zone offset as +HHMM or -HHMM; empty if time zone naive\n",
    "# %F Shortcut for %Y-%m-%d (e.g., 2012-4-18)\n",
    "# %D Shortcut for %m/%d/%y (e.g., 04/18/12)"
   ]
  },
  {
   "cell_type": "code",
   "execution_count": 29,
   "metadata": {},
   "outputs": [
    {
     "data": {
      "text/plain": [
       "Timestamp('2011-07-06 12:00:00')"
      ]
     },
     "execution_count": 29,
     "metadata": {},
     "output_type": "execute_result"
    }
   ],
   "source": [
    "#datetime objects also have a number of locale-specific formatting options for systems in other countries or languages. \n",
    "# For example, in German, the day appears before the month:\n",
    "# 2011-03-12 04:00:00 PM -> 12.03.2011 16:00:00\n",
    "# The German locale (and others) can be indicated in pandas like so:\n",
    "pd.to_datetime(datestrs[0], dayfirst=True) # Timestamp('2011-06-07 12:00:00')"
   ]
  },
  {
   "cell_type": "code",
   "execution_count": 30,
   "metadata": {},
   "outputs": [],
   "source": [
    "# Locale - specific date formatting \n",
    "# %a Weekday as locale’s abbreviated name. Sun, Mon, ..., Sat (en_US); So, Mo, ..., Sa (de_DE)\n",
    "# %A Weekday as locale’s full name. Sunday, Monday, ..., Saturday (en_US); Sonntag, Montag, ..., Samstag (de_DE)\n",
    "# %b Month as locale’s abbreviated name. Jan, Feb, ..., Dec (en_US); Jan, Feb, ..., Dez (de_DE)\n",
    "# %B Month as locale’s full name. January, February, ..., December (en_US); Januar, Februar, ..., Dezember (de_DE)\n",
    "# %c Locale’s appropriate date and time representation. Tue Aug 16 21:30:00 1988 (en_US); Di 16 Aug 21:30:00 1988 (de_DE)\n",
    "# %p Locale’s equivalent of either AM or PM. AM, PM (en_US); am, pm (de_DE)\n",
    "# %x Locale’s appropriate date representation. 08/16/88 (None); 08/16/1988 (en_US); 16.08.1988 (de_DE)\n",
    "# %X Locale’s appropriate time representation. 21:30:00 (en_US); 21:30:00 (de_DE)"
   ]
  },
  {
   "cell_type": "markdown",
   "metadata": {},
   "source": [
    "# Time Series Basics \n",
    "The most basic kind of time series object in pandas is a Series indexed by timestamps, which is often represented external to pandas as Python strings or datetime objects: \n",
    "\n",
    "```python"
   ]
  },
  {
   "cell_type": "code",
   "execution_count": 2,
   "metadata": {},
   "outputs": [],
   "source": [
    "from datetime import datetime\n",
    "\n",
    "dates = [\n",
    "    datetime(2011,1,2), datetime(2011,1,5), datetime(2011,1,7), \n",
    "    datetime(2011,1,8), datetime(2011,1,10), datetime(2011,1,12)\n",
    "    ]\n"
   ]
  },
  {
   "cell_type": "code",
   "execution_count": 3,
   "metadata": {},
   "outputs": [],
   "source": [
    "from pandas import Series, DataFrame \n",
    "import numpy as np \n",
    "ts = Series (np.random.randn(6), index=dates)"
   ]
  },
  {
   "cell_type": "code",
   "execution_count": 4,
   "metadata": {},
   "outputs": [
    {
     "data": {
      "text/plain": [
       "2011-01-02   -0.191806\n",
       "2011-01-05    1.348229\n",
       "2011-01-07    0.228457\n",
       "2011-01-08    0.941104\n",
       "2011-01-10    2.017281\n",
       "2011-01-12    0.614095\n",
       "dtype: float64"
      ]
     },
     "execution_count": 4,
     "metadata": {},
     "output_type": "execute_result"
    }
   ],
   "source": [
    "ts"
   ]
  },
  {
   "cell_type": "code",
   "execution_count": 5,
   "metadata": {},
   "outputs": [
    {
     "data": {
      "text/plain": [
       "pandas.core.series.Series"
      ]
     },
     "execution_count": 5,
     "metadata": {},
     "output_type": "execute_result"
    }
   ],
   "source": [
    "# Under the hood, these datetime objects have been put in a DatatimeIndex: \n",
    "# and the variable ts is now of type TimeSeries \n",
    "type(ts) # pandas.core.series.Series "
   ]
  },
  {
   "cell_type": "code",
   "execution_count": 6,
   "metadata": {},
   "outputs": [
    {
     "data": {
      "text/plain": [
       "DatetimeIndex(['2011-01-02', '2011-01-05', '2011-01-07', '2011-01-08',\n",
       "               '2011-01-10', '2011-01-12'],\n",
       "              dtype='datetime64[ns]', freq=None)"
      ]
     },
     "execution_count": 6,
     "metadata": {},
     "output_type": "execute_result"
    }
   ],
   "source": [
    "ts.index "
   ]
  },
  {
   "cell_type": "code",
   "execution_count": 7,
   "metadata": {},
   "outputs": [
    {
     "data": {
      "text/plain": [
       "2011-01-02   -0.383613\n",
       "2011-01-05         NaN\n",
       "2011-01-07    0.456914\n",
       "2011-01-08         NaN\n",
       "2011-01-10    4.034562\n",
       "2011-01-12         NaN\n",
       "dtype: float64"
      ]
     },
     "execution_count": 7,
     "metadata": {},
     "output_type": "execute_result"
    }
   ],
   "source": [
    "# Like other Series, arithmetic operations between \n",
    "# differently-indexed time series automatically align on the dates: \n",
    "ts + ts[::2] # 2011-01-02 00:00:00   -0.168180\n",
    "            # 2011-01-05 00:00:00         NaN\n",
    "            # 2011-01-07 00:00:00   -0.759805\n",
    "            # 2011-01-08 00:00:00         NaN\n",
    "            # 2011-01-10 00:00:00    0.669935\n",
    "            # 2011-01-12 00:00:00         NaN\n",
    "            # dtype: float64"
   ]
  },
  {
   "cell_type": "code",
   "execution_count": 8,
   "metadata": {},
   "outputs": [
    {
     "data": {
      "text/plain": [
       "dtype('<M8[ns]')"
      ]
     },
     "execution_count": 8,
     "metadata": {},
     "output_type": "execute_result"
    }
   ],
   "source": [
    "# pandas stores timestamps using NumPy's datetime64 data type at the nanosecond resolution: \n",
    "ts.index.dtype # dtype('<M8[ns]') "
   ]
  },
  {
   "cell_type": "code",
   "execution_count": 9,
   "metadata": {},
   "outputs": [],
   "source": [
    "# Scalar values from a DatetimeIndex are pandas Timestamp objects: \n",
    "stamp = ts.index[0] "
   ]
  },
  {
   "cell_type": "code",
   "execution_count": 10,
   "metadata": {},
   "outputs": [
    {
     "data": {
      "text/plain": [
       "Timestamp('2011-01-02 00:00:00')"
      ]
     },
     "execution_count": 10,
     "metadata": {},
     "output_type": "execute_result"
    }
   ],
   "source": [
    "stamp "
   ]
  },
  {
   "cell_type": "code",
   "execution_count": 11,
   "metadata": {},
   "outputs": [],
   "source": [
    "# A Timestamp can be substituted anywhere you would use a datetime object. Additionally, it can store frequency \n",
    "# information (if any) and understands how to do time zone conversions and other kinds of manipulations. "
   ]
  },
  {
   "cell_type": "markdown",
   "metadata": {},
   "source": [
    "# Indexing, Selection, Subsetting"
   ]
  },
  {
   "cell_type": "code",
   "execution_count": 12,
   "metadata": {},
   "outputs": [],
   "source": [
    "# Timeseries is a subclass of Series and thus behaves in the same way with regard to many arithmetic functions: \n",
    "stamp = ts.index[2] # 2011-01-07 00:00:00 "
   ]
  },
  {
   "cell_type": "code",
   "execution_count": 13,
   "metadata": {},
   "outputs": [
    {
     "data": {
      "text/plain": [
       "0.22845706703857016"
      ]
     },
     "execution_count": 13,
     "metadata": {},
     "output_type": "execute_result"
    }
   ],
   "source": [
    "ts[stamp] "
   ]
  },
  {
   "cell_type": "code",
   "execution_count": 14,
   "metadata": {},
   "outputs": [
    {
     "data": {
      "text/plain": [
       "2.0172809964902885"
      ]
     },
     "execution_count": 14,
     "metadata": {},
     "output_type": "execute_result"
    }
   ],
   "source": [
    "# As a convenience, you can also pass a string that is interpretable as a date: \n",
    "ts['1/10/2011'] "
   ]
  },
  {
   "cell_type": "code",
   "execution_count": 15,
   "metadata": {},
   "outputs": [
    {
     "data": {
      "text/plain": [
       "2.0172809964902885"
      ]
     },
     "execution_count": 15,
     "metadata": {},
     "output_type": "execute_result"
    }
   ],
   "source": [
    "ts['20110110']"
   ]
  },
  {
   "cell_type": "code",
   "execution_count": 17,
   "metadata": {},
   "outputs": [],
   "source": [
    "# For longer time series, a year or only a year and month can be passed to easily select slices of data: \n",
    "import pandas as pd \n",
    "longer_ts = Series(np.random.randn(1000), index=pd.date_range('1/1/2000', periods=1000)) "
   ]
  },
  {
   "cell_type": "code",
   "execution_count": 18,
   "metadata": {},
   "outputs": [
    {
     "data": {
      "text/plain": [
       "2000-01-01   -0.594228\n",
       "2000-01-02    0.433961\n",
       "2000-01-03    1.041535\n",
       "2000-01-04   -0.699783\n",
       "2000-01-05    0.638649\n",
       "                ...   \n",
       "2002-09-22   -0.231598\n",
       "2002-09-23   -0.961379\n",
       "2002-09-24    1.503900\n",
       "2002-09-25    0.589409\n",
       "2002-09-26   -1.130632\n",
       "Freq: D, Length: 1000, dtype: float64"
      ]
     },
     "execution_count": 18,
     "metadata": {},
     "output_type": "execute_result"
    }
   ],
   "source": [
    "longer_ts "
   ]
  },
  {
   "cell_type": "code",
   "execution_count": 19,
   "metadata": {},
   "outputs": [
    {
     "data": {
      "text/plain": [
       "2001-01-01    0.852516\n",
       "2001-01-02    1.398564\n",
       "2001-01-03   -1.095709\n",
       "2001-01-04   -0.902604\n",
       "2001-01-05    0.683059\n",
       "                ...   \n",
       "2001-12-27   -0.866160\n",
       "2001-12-28   -0.595024\n",
       "2001-12-29    0.237672\n",
       "2001-12-30    0.085976\n",
       "2001-12-31    0.750141\n",
       "Freq: D, Length: 365, dtype: float64"
      ]
     },
     "execution_count": 19,
     "metadata": {},
     "output_type": "execute_result"
    }
   ],
   "source": [
    "longer_ts['2001'] "
   ]
  },
  {
   "cell_type": "code",
   "execution_count": 20,
   "metadata": {},
   "outputs": [
    {
     "data": {
      "text/plain": [
       "2001-05-01   -0.608742\n",
       "2001-05-02   -0.318897\n",
       "2001-05-03    0.097457\n",
       "2001-05-04    0.828169\n",
       "2001-05-05    0.680986\n",
       "2001-05-06    0.123383\n",
       "2001-05-07   -1.711345\n",
       "2001-05-08   -1.253020\n",
       "2001-05-09   -0.599664\n",
       "2001-05-10    0.698987\n",
       "2001-05-11   -0.163755\n",
       "2001-05-12    1.368672\n",
       "2001-05-13   -0.028034\n",
       "2001-05-14    0.243480\n",
       "2001-05-15   -0.376212\n",
       "2001-05-16    0.890416\n",
       "2001-05-17    0.293890\n",
       "2001-05-18    0.772936\n",
       "2001-05-19    0.135351\n",
       "2001-05-20   -0.528528\n",
       "2001-05-21   -0.283064\n",
       "2001-05-22   -0.702420\n",
       "2001-05-23   -0.188870\n",
       "2001-05-24   -1.020628\n",
       "2001-05-25   -0.870698\n",
       "2001-05-26   -1.342409\n",
       "2001-05-27    1.240621\n",
       "2001-05-28    0.052077\n",
       "2001-05-29    0.661220\n",
       "2001-05-30    0.984947\n",
       "2001-05-31    0.689535\n",
       "Freq: D, dtype: float64"
      ]
     },
     "execution_count": 20,
     "metadata": {},
     "output_type": "execute_result"
    }
   ],
   "source": [
    "longer_ts['2001-05']"
   ]
  },
  {
   "cell_type": "code",
   "execution_count": 21,
   "metadata": {},
   "outputs": [
    {
     "data": {
      "text/plain": [
       "2011-01-07    0.228457\n",
       "2011-01-08    0.941104\n",
       "2011-01-10    2.017281\n",
       "2011-01-12    0.614095\n",
       "dtype: float64"
      ]
     },
     "execution_count": 21,
     "metadata": {},
     "output_type": "execute_result"
    }
   ],
   "source": [
    "# Slicing with dates works just like with a regular Series: \n",
    "ts[datetime(2011,1,7):]"
   ]
  },
  {
   "cell_type": "code",
   "execution_count": 22,
   "metadata": {},
   "outputs": [
    {
     "data": {
      "text/plain": [
       "2011-01-02   -0.191806\n",
       "2011-01-05    1.348229\n",
       "2011-01-07    0.228457\n",
       "2011-01-08    0.941104\n",
       "2011-01-10    2.017281\n",
       "2011-01-12    0.614095\n",
       "dtype: float64"
      ]
     },
     "execution_count": 22,
     "metadata": {},
     "output_type": "execute_result"
    }
   ],
   "source": [
    "# Because most time series data is ordered chronologically, you can slice with timestamps not contained in a time series to perform a range query: \n",
    "ts "
   ]
  },
  {
   "cell_type": "code",
   "execution_count": 23,
   "metadata": {},
   "outputs": [
    {
     "data": {
      "text/plain": [
       "2011-01-07    0.228457\n",
       "2011-01-08    0.941104\n",
       "2011-01-10    2.017281\n",
       "dtype: float64"
      ]
     },
     "execution_count": 23,
     "metadata": {},
     "output_type": "execute_result"
    }
   ],
   "source": [
    "ts['1/6/2011':'1/11/2011']  "
   ]
  },
  {
   "cell_type": "code",
   "execution_count": 24,
   "metadata": {},
   "outputs": [
    {
     "data": {
      "text/plain": [
       "2011-01-02   -0.191806\n",
       "2011-01-05    1.348229\n",
       "2011-01-07    0.228457\n",
       "2011-01-08    0.941104\n",
       "dtype: float64"
      ]
     },
     "execution_count": 24,
     "metadata": {},
     "output_type": "execute_result"
    }
   ],
   "source": [
    "# As before you can pass either a string date, datetime, or timestamp. \n",
    "# Remember that slicing in this manner produces views on the source time series just like slicing NumPy arrays. \n",
    "# There is an equivalent instance method truncate which slices a Series between two dates: \n",
    "\n",
    "ts.truncate(after='1/9/2011') "
   ]
  },
  {
   "cell_type": "code",
   "execution_count": 25,
   "metadata": {},
   "outputs": [],
   "source": [
    "# All of the above holds true for DataFrame, too, indexing on its rows: \n",
    "dates = pd.date_range('1/1/2000', periods=100, freq='W-WED') "
   ]
  },
  {
   "cell_type": "code",
   "execution_count": 26,
   "metadata": {},
   "outputs": [],
   "source": [
    "long_df = DataFrame(np.random.randn(100,4), index=dates, columns=['Colorado', 'Texas', 'New York', 'Ohio'])  "
   ]
  },
  {
   "cell_type": "code",
   "execution_count": 27,
   "metadata": {},
   "outputs": [
    {
     "data": {
      "text/html": [
       "<div>\n",
       "<style scoped>\n",
       "    .dataframe tbody tr th:only-of-type {\n",
       "        vertical-align: middle;\n",
       "    }\n",
       "\n",
       "    .dataframe tbody tr th {\n",
       "        vertical-align: top;\n",
       "    }\n",
       "\n",
       "    .dataframe thead th {\n",
       "        text-align: right;\n",
       "    }\n",
       "</style>\n",
       "<table border=\"1\" class=\"dataframe\">\n",
       "  <thead>\n",
       "    <tr style=\"text-align: right;\">\n",
       "      <th></th>\n",
       "      <th>Colorado</th>\n",
       "      <th>Texas</th>\n",
       "      <th>New York</th>\n",
       "      <th>Ohio</th>\n",
       "    </tr>\n",
       "  </thead>\n",
       "  <tbody>\n",
       "    <tr>\n",
       "      <th>2001-05-02</th>\n",
       "      <td>-0.028066</td>\n",
       "      <td>-2.563557</td>\n",
       "      <td>-0.591534</td>\n",
       "      <td>0.273903</td>\n",
       "    </tr>\n",
       "    <tr>\n",
       "      <th>2001-05-09</th>\n",
       "      <td>-0.934964</td>\n",
       "      <td>-0.973781</td>\n",
       "      <td>-0.289601</td>\n",
       "      <td>1.061917</td>\n",
       "    </tr>\n",
       "    <tr>\n",
       "      <th>2001-05-16</th>\n",
       "      <td>-0.796096</td>\n",
       "      <td>1.027706</td>\n",
       "      <td>0.925750</td>\n",
       "      <td>-2.077534</td>\n",
       "    </tr>\n",
       "    <tr>\n",
       "      <th>2001-05-23</th>\n",
       "      <td>1.042699</td>\n",
       "      <td>-0.311563</td>\n",
       "      <td>0.592067</td>\n",
       "      <td>-1.467479</td>\n",
       "    </tr>\n",
       "    <tr>\n",
       "      <th>2001-05-30</th>\n",
       "      <td>-0.150522</td>\n",
       "      <td>0.754206</td>\n",
       "      <td>-1.315557</td>\n",
       "      <td>-0.144438</td>\n",
       "    </tr>\n",
       "  </tbody>\n",
       "</table>\n",
       "</div>"
      ],
      "text/plain": [
       "            Colorado     Texas  New York      Ohio\n",
       "2001-05-02 -0.028066 -2.563557 -0.591534  0.273903\n",
       "2001-05-09 -0.934964 -0.973781 -0.289601  1.061917\n",
       "2001-05-16 -0.796096  1.027706  0.925750 -2.077534\n",
       "2001-05-23  1.042699 -0.311563  0.592067 -1.467479\n",
       "2001-05-30 -0.150522  0.754206 -1.315557 -0.144438"
      ]
     },
     "execution_count": 27,
     "metadata": {},
     "output_type": "execute_result"
    }
   ],
   "source": [
    "long_df.loc['5-2001'] "
   ]
  },
  {
   "cell_type": "markdown",
   "metadata": {},
   "source": [
    "# Time Series with Duplicate Indices "
   ]
  },
  {
   "cell_type": "code",
   "execution_count": 28,
   "metadata": {},
   "outputs": [],
   "source": [
    "# In some applications, you may wish to use time series data indexed by timestamps as \n",
    "# if it were a fixed frequency like daily or monthly, even if it is not.\n",
    "# The asfreq method enables this. We use the same long_ts time series from above:\n",
    "\n",
    "dates = pd.DatetimeIndex(['1/1/2000', '1/2/2000', '1/2/2000', '1/2/2000', '1/3/2000']) "
   ]
  },
  {
   "cell_type": "code",
   "execution_count": 29,
   "metadata": {},
   "outputs": [
    {
     "data": {
      "text/plain": [
       "2000-01-01    0\n",
       "2000-01-02    1\n",
       "2000-01-02    2\n",
       "2000-01-02    3\n",
       "2000-01-03    4\n",
       "dtype: int64"
      ]
     },
     "execution_count": 29,
     "metadata": {},
     "output_type": "execute_result"
    }
   ],
   "source": [
    "dup_ts = Series(np.arange(5), index=dates)  \n",
    "dup_ts"
   ]
  },
  {
   "cell_type": "code",
   "execution_count": 30,
   "metadata": {},
   "outputs": [
    {
     "data": {
      "text/plain": [
       "False"
      ]
     },
     "execution_count": 30,
     "metadata": {},
     "output_type": "execute_result"
    }
   ],
   "source": [
    "# We can tell that the index is not unique by checking its is_unique property: \n",
    "dup_ts.index.is_unique # False "
   ]
  },
  {
   "cell_type": "code",
   "execution_count": 31,
   "metadata": {},
   "outputs": [
    {
     "data": {
      "text/plain": [
       "4"
      ]
     },
     "execution_count": 31,
     "metadata": {},
     "output_type": "execute_result"
    }
   ],
   "source": [
    "# Indexing into this time series will either produce scalar values or slices depending on whether a timestamp is duplicated:\n",
    "dup_ts['1/3/2000'] # 4 "
   ]
  },
  {
   "cell_type": "code",
   "execution_count": 32,
   "metadata": {},
   "outputs": [
    {
     "data": {
      "text/plain": [
       "2000-01-02    1\n",
       "2000-01-02    2\n",
       "2000-01-02    3\n",
       "dtype: int64"
      ]
     },
     "execution_count": 32,
     "metadata": {},
     "output_type": "execute_result"
    }
   ],
   "source": [
    "dup_ts['1/2/2000'] # 1/2/2000    1 1/2/2000    2 1/2/2000    3 dtype: int64"
   ]
  },
  {
   "cell_type": "code",
   "execution_count": 33,
   "metadata": {},
   "outputs": [],
   "source": [
    "# Suppose you wanted to group the data by timestamp and apply a group function like sum. \n",
    "# One way to do this is to use the groupby and pass level=0 (the only level of indexing): \n",
    "grouped = dup_ts.groupby(level=0) "
   ]
  },
  {
   "cell_type": "code",
   "execution_count": 34,
   "metadata": {},
   "outputs": [
    {
     "data": {
      "text/plain": [
       "2000-01-01    0.0\n",
       "2000-01-02    2.0\n",
       "2000-01-03    4.0\n",
       "dtype: float64"
      ]
     },
     "execution_count": 34,
     "metadata": {},
     "output_type": "execute_result"
    }
   ],
   "source": [
    "grouped.mean()"
   ]
  },
  {
   "cell_type": "code",
   "execution_count": 35,
   "metadata": {},
   "outputs": [
    {
     "data": {
      "text/plain": [
       "2000-01-01    1\n",
       "2000-01-02    3\n",
       "2000-01-03    1\n",
       "dtype: int64"
      ]
     },
     "execution_count": 35,
     "metadata": {},
     "output_type": "execute_result"
    }
   ],
   "source": [
    "grouped.count() "
   ]
  },
  {
   "cell_type": "markdown",
   "metadata": {},
   "source": [
    "# Date Ranges, Frequencies, and Shifting"
   ]
  },
  {
   "cell_type": "code",
   "execution_count": 36,
   "metadata": {},
   "outputs": [
    {
     "data": {
      "text/plain": [
       "2011-01-02   -0.191806\n",
       "2011-01-05    1.348229\n",
       "2011-01-07    0.228457\n",
       "2011-01-08    0.941104\n",
       "2011-01-10    2.017281\n",
       "2011-01-12    0.614095\n",
       "dtype: float64"
      ]
     },
     "execution_count": 36,
     "metadata": {},
     "output_type": "execute_result"
    }
   ],
   "source": [
    "# Generic time series in pandas are assumed to be irregular, that is, they have no fixed frequency.For many applications \n",
    "# this is sufficient.However, it's often desirable to work relative to a fixed frequency, such as daily, monthly, or every 15 mins. \n",
    "# even if that means introducing missing values into a time series.\n",
    "# Fortunately, pandas has a full suite of standard time series frequencies and tools for resampling, inferring frequencies,\n",
    "# and generating fixed frequency date ranges. \n",
    "# For example, in the example time series, converting it to be fixed daily frequency can be accomplished by calling resample: \n",
    "\n",
    "ts "
   ]
  },
  {
   "cell_type": "code",
   "execution_count": 37,
   "metadata": {},
   "outputs": [
    {
     "data": {
      "text/plain": [
       "<pandas.core.resample.DatetimeIndexResampler object at 0x12e80a590>"
      ]
     },
     "execution_count": 37,
     "metadata": {},
     "output_type": "execute_result"
    }
   ],
   "source": [
    "ts. resample('D') "
   ]
  },
  {
   "cell_type": "markdown",
   "metadata": {},
   "source": [
    "# Generating Date Ranges \n",
    "While I used it previously without explanation, you may have guessed that pandas.date_range is responsible for generating a DatetimeIndex with an indicated length according to a particular frequency: \n"
   ]
  },
  {
   "cell_type": "code",
   "execution_count": 38,
   "metadata": {},
   "outputs": [],
   "source": [
    "index = pd.date_range('4/1/2012', '6/1/2012') "
   ]
  },
  {
   "cell_type": "code",
   "execution_count": 39,
   "metadata": {},
   "outputs": [
    {
     "data": {
      "text/plain": [
       "DatetimeIndex(['2012-04-01', '2012-04-02', '2012-04-03', '2012-04-04',\n",
       "               '2012-04-05', '2012-04-06', '2012-04-07', '2012-04-08',\n",
       "               '2012-04-09', '2012-04-10', '2012-04-11', '2012-04-12',\n",
       "               '2012-04-13', '2012-04-14', '2012-04-15', '2012-04-16',\n",
       "               '2012-04-17', '2012-04-18', '2012-04-19', '2012-04-20',\n",
       "               '2012-04-21', '2012-04-22', '2012-04-23', '2012-04-24',\n",
       "               '2012-04-25', '2012-04-26', '2012-04-27', '2012-04-28',\n",
       "               '2012-04-29', '2012-04-30', '2012-05-01', '2012-05-02',\n",
       "               '2012-05-03', '2012-05-04', '2012-05-05', '2012-05-06',\n",
       "               '2012-05-07', '2012-05-08', '2012-05-09', '2012-05-10',\n",
       "               '2012-05-11', '2012-05-12', '2012-05-13', '2012-05-14',\n",
       "               '2012-05-15', '2012-05-16', '2012-05-17', '2012-05-18',\n",
       "               '2012-05-19', '2012-05-20', '2012-05-21', '2012-05-22',\n",
       "               '2012-05-23', '2012-05-24', '2012-05-25', '2012-05-26',\n",
       "               '2012-05-27', '2012-05-28', '2012-05-29', '2012-05-30',\n",
       "               '2012-05-31', '2012-06-01'],\n",
       "              dtype='datetime64[ns]', freq='D')"
      ]
     },
     "execution_count": 39,
     "metadata": {},
     "output_type": "execute_result"
    }
   ],
   "source": [
    "index "
   ]
  },
  {
   "cell_type": "code",
   "execution_count": 42,
   "metadata": {},
   "outputs": [
    {
     "data": {
      "text/plain": [
       "DatetimeIndex(['2021-04-01', '2021-04-02', '2021-04-03', '2021-04-04',\n",
       "               '2021-04-05', '2021-04-06', '2021-04-07', '2021-04-08',\n",
       "               '2021-04-09', '2021-04-10', '2021-04-11', '2021-04-12',\n",
       "               '2021-04-13', '2021-04-14', '2021-04-15', '2021-04-16',\n",
       "               '2021-04-17', '2021-04-18', '2021-04-19', '2021-04-20',\n",
       "               '2021-04-21', '2021-04-22', '2021-04-23', '2021-04-24',\n",
       "               '2021-04-25'],\n",
       "              dtype='datetime64[ns]', freq='D')"
      ]
     },
     "execution_count": 42,
     "metadata": {},
     "output_type": "execute_result"
    }
   ],
   "source": [
    "# By default, date_range generates daily timestamps.If you  pass only a start or end date, you must pass a number of periods to generate. \n",
    "pd.date_range(start='4/1/2021', periods=25) "
   ]
  },
  {
   "cell_type": "code",
   "execution_count": 43,
   "metadata": {},
   "outputs": [
    {
     "data": {
      "text/plain": [
       "DatetimeIndex(['2000-01-31', '2000-02-29', '2000-03-31', '2000-04-28',\n",
       "               '2000-05-31', '2000-06-30', '2000-07-31', '2000-08-31',\n",
       "               '2000-09-29', '2000-10-31', '2000-11-30'],\n",
       "              dtype='datetime64[ns]', freq='BM')"
      ]
     },
     "execution_count": 43,
     "metadata": {},
     "output_type": "execute_result"
    }
   ],
   "source": [
    "# The start and end dates define strict boundries for the  generated date index. For example, \n",
    "# if you wanted a date index containing the last business day of each month, \n",
    "# you can would pass the \"BM\"  frequency(business end of month) and only dates falling on or inside the date interval will be included: \n",
    "pd.date_range('1/1/2000', '12/1/2000', freq='BM' ) "
   ]
  },
  {
   "cell_type": "code",
   "execution_count": 44,
   "metadata": {},
   "outputs": [
    {
     "data": {
      "text/plain": [
       "DatetimeIndex(['2021-05-01 12:56:31', '2021-05-02 12:56:31',\n",
       "               '2021-05-03 12:56:31', '2021-05-04 12:56:31',\n",
       "               '2021-05-05 12:56:31'],\n",
       "              dtype='datetime64[ns]', freq='D')"
      ]
     },
     "execution_count": 44,
     "metadata": {},
     "output_type": "execute_result"
    }
   ],
   "source": [
    "# date_range by default preserves the time(if any) of the start or end timestamp: \n",
    "pd.date_range('5/1/2021  12:56:31',  periods=5) "
   ]
  },
  {
   "cell_type": "code",
   "execution_count": 45,
   "metadata": {},
   "outputs": [
    {
     "data": {
      "text/plain": [
       "DatetimeIndex(['2012-05-02', '2012-05-03', '2012-05-04', '2012-05-05',\n",
       "               '2012-05-06'],\n",
       "              dtype='datetime64[ns]', freq='D')"
      ]
     },
     "execution_count": 45,
     "metadata": {},
     "output_type": "execute_result"
    }
   ],
   "source": [
    "# Sometimes you will have start or end with time information but want to generate a set of timestamp normalized to midnight as a convention. \n",
    "# To do this, there is a normalize option: \n",
    "\n",
    "pd.date_range('5/2/2012  12:56:31', periods=5, normalize=True) "
   ]
  },
  {
   "cell_type": "markdown",
   "metadata": {},
   "source": [
    "# Frequencies and Date Offsets"
   ]
  },
  {
   "cell_type": "code",
   "execution_count": 46,
   "metadata": {},
   "outputs": [],
   "source": [
    "# Frequencies in pandas are composed of a base frequency and multiplier.\n",
    "# Base frequencies are typically referred to by a string alias, like 'M' for monthly or 'H' for hourly. \n",
    "# For each base frequency, there is an object defined generally referred to as a date offset. \n",
    "\n",
    "from pandas.tseries.offsets import Hour, Minute \n",
    "hour= Hour() "
   ]
  },
  {
   "cell_type": "code",
   "execution_count": 47,
   "metadata": {},
   "outputs": [
    {
     "data": {
      "text/plain": [
       "<Hour>"
      ]
     },
     "execution_count": 47,
     "metadata": {},
     "output_type": "execute_result"
    }
   ],
   "source": [
    "hour"
   ]
  },
  {
   "cell_type": "code",
   "execution_count": 48,
   "metadata": {},
   "outputs": [],
   "source": [
    "# You can define a multiple of an offset by passing an integer: \n",
    "four_hours = Hour(4) "
   ]
  },
  {
   "cell_type": "code",
   "execution_count": 49,
   "metadata": {},
   "outputs": [
    {
     "data": {
      "text/plain": [
       "<4 * Hours>"
      ]
     },
     "execution_count": 49,
     "metadata": {},
     "output_type": "execute_result"
    }
   ],
   "source": [
    "four_hours "
   ]
  },
  {
   "cell_type": "code",
   "execution_count": 50,
   "metadata": {},
   "outputs": [
    {
     "data": {
      "text/plain": [
       "DatetimeIndex(['2000-01-01 00:00:00', '2000-01-01 04:00:00',\n",
       "               '2000-01-01 08:00:00', '2000-01-01 12:00:00',\n",
       "               '2000-01-01 16:00:00', '2000-01-01 20:00:00',\n",
       "               '2000-01-02 00:00:00', '2000-01-02 04:00:00',\n",
       "               '2000-01-02 08:00:00', '2000-01-02 12:00:00',\n",
       "               '2000-01-02 16:00:00', '2000-01-02 20:00:00',\n",
       "               '2000-01-03 00:00:00', '2000-01-03 04:00:00',\n",
       "               '2000-01-03 08:00:00', '2000-01-03 12:00:00',\n",
       "               '2000-01-03 16:00:00', '2000-01-03 20:00:00'],\n",
       "              dtype='datetime64[ns]', freq='4H')"
      ]
     },
     "execution_count": 50,
     "metadata": {},
     "output_type": "execute_result"
    }
   ],
   "source": [
    "# In most applications, you would never need to explicitly create one of these objects, \n",
    "# instead using a string alias like 'H' or '4H'. \n",
    "# Putting an integer before the base frequency creates a multiple: \n",
    "pd.date_range('1/1/2000', '1/3/2000 23:59', freq='4h') "
   ]
  },
  {
   "cell_type": "code",
   "execution_count": 51,
   "metadata": {},
   "outputs": [
    {
     "data": {
      "text/plain": [
       "<150 * Minutes>"
      ]
     },
     "execution_count": 51,
     "metadata": {},
     "output_type": "execute_result"
    }
   ],
   "source": [
    "# Many offsets can be combined together by addition: \n",
    "Hour(2) + Minute(30)  # <150 * Minutes> "
   ]
  },
  {
   "cell_type": "code",
   "execution_count": 52,
   "metadata": {},
   "outputs": [
    {
     "data": {
      "text/plain": [
       "DatetimeIndex(['2000-01-01 00:00:00', '2000-01-01 02:30:00',\n",
       "               '2000-01-01 05:00:00', '2000-01-01 07:30:00',\n",
       "               '2000-01-01 10:00:00', '2000-01-01 12:30:00',\n",
       "               '2000-01-01 15:00:00', '2000-01-01 17:30:00',\n",
       "               '2000-01-01 20:00:00', '2000-01-01 22:30:00'],\n",
       "              dtype='datetime64[ns]', freq='150T')"
      ]
     },
     "execution_count": 52,
     "metadata": {},
     "output_type": "execute_result"
    }
   ],
   "source": [
    "# Similarly, you can pass frequency strings like '2h30min' which will effectively be parsed to the same expression: \n",
    "pd.date_range('1/1/2000', periods=10, freq='2h30min') "
   ]
  },
  {
   "cell_type": "code",
   "execution_count": 53,
   "metadata": {},
   "outputs": [],
   "source": [
    "# Base Time Series Frequencies \n",
    "# Alias       Offset type       Description \n",
    "# D           Day              Calendar day\n",
    "# B           BusinessDay      Business day\n",
    "# H           Hour             Hourly\n",
    "# T or min   Minute           Minutely\n",
    "# S           Second           Secondly\n",
    "# L or ms    Milli             Millisecond\n",
    "# U           Micro            Microsecond\n",
    "# M           MonthEnd         Last calendar day of month\n",
    "# BM          BusinessMonthEnd Last business day of month\n",
    "# MS          MonthBegin       First calendar day of month\n",
    "# BMS         BusinessMonthBegin First weekday of month\n",
    "# W-MON, W-TUE, ... Week           Weekly on given day of week\n",
    "# WOM-1MON, WOM-2MON, ... WeekOfMonth     Generate weekly dates in the first, second, third, or fourth week of the month\n",
    "# Q-JAN, Q-FEB, ... QuarterEnd      Quarter end, anchored on last calendar day of month\n",
    "# BQ-JAN, BQ-FEB, ... BusinessQuarterEnd Quarter end, anchored on last weekday day of month\n",
    "# QS-JAN, QS-FEB, ... QuarterBegin    Quarter begin, anchored on first calendar day of month\n",
    "# BQS-JAN, BQS-FEB, ... BusinessQuarterBegin Quarter begin, anchored on first weekday day of month\n",
    "# A-JAN, A-FEB, ... YearEnd         Annual (year) end, anchored on last calendar day of given month\n",
    "# BA-JAN, BA-FEB, ... BusinessYearEnd Annual (year) end, anchored on last weekday day of given month\n",
    "# AS-JAN, AS-FEB, ... YearBegin       Annual (year) begin, anchored on first calendar day of given month\n",
    "# BAS-JAN, BAS-FEB, ... BusinessYearBegin Annual (year) begin, anchored on first weekday day of given month"
   ]
  },
  {
   "cell_type": "markdown",
   "metadata": {},
   "source": [
    "# Week of month dates  \n",
    "One useful frequency class is “week of month,” starting with WOM. This enables you to get dates like the third Friday of each month: \n",
    "\n",
    "```python "
   ]
  },
  {
   "cell_type": "code",
   "execution_count": 54,
   "metadata": {},
   "outputs": [],
   "source": [
    "rng = pd.date_range('1/1/2000', periods=100, freq='D') "
   ]
  },
  {
   "cell_type": "code",
   "execution_count": 55,
   "metadata": {},
   "outputs": [
    {
     "data": {
      "text/plain": [
       "[Timestamp('2000-01-01 00:00:00', freq='D'),\n",
       " Timestamp('2000-01-02 00:00:00', freq='D'),\n",
       " Timestamp('2000-01-03 00:00:00', freq='D'),\n",
       " Timestamp('2000-01-04 00:00:00', freq='D'),\n",
       " Timestamp('2000-01-05 00:00:00', freq='D'),\n",
       " Timestamp('2000-01-06 00:00:00', freq='D'),\n",
       " Timestamp('2000-01-07 00:00:00', freq='D'),\n",
       " Timestamp('2000-01-08 00:00:00', freq='D'),\n",
       " Timestamp('2000-01-09 00:00:00', freq='D'),\n",
       " Timestamp('2000-01-10 00:00:00', freq='D'),\n",
       " Timestamp('2000-01-11 00:00:00', freq='D'),\n",
       " Timestamp('2000-01-12 00:00:00', freq='D'),\n",
       " Timestamp('2000-01-13 00:00:00', freq='D'),\n",
       " Timestamp('2000-01-14 00:00:00', freq='D'),\n",
       " Timestamp('2000-01-15 00:00:00', freq='D'),\n",
       " Timestamp('2000-01-16 00:00:00', freq='D'),\n",
       " Timestamp('2000-01-17 00:00:00', freq='D'),\n",
       " Timestamp('2000-01-18 00:00:00', freq='D'),\n",
       " Timestamp('2000-01-19 00:00:00', freq='D'),\n",
       " Timestamp('2000-01-20 00:00:00', freq='D'),\n",
       " Timestamp('2000-01-21 00:00:00', freq='D'),\n",
       " Timestamp('2000-01-22 00:00:00', freq='D'),\n",
       " Timestamp('2000-01-23 00:00:00', freq='D'),\n",
       " Timestamp('2000-01-24 00:00:00', freq='D'),\n",
       " Timestamp('2000-01-25 00:00:00', freq='D'),\n",
       " Timestamp('2000-01-26 00:00:00', freq='D'),\n",
       " Timestamp('2000-01-27 00:00:00', freq='D'),\n",
       " Timestamp('2000-01-28 00:00:00', freq='D'),\n",
       " Timestamp('2000-01-29 00:00:00', freq='D'),\n",
       " Timestamp('2000-01-30 00:00:00', freq='D'),\n",
       " Timestamp('2000-01-31 00:00:00', freq='D'),\n",
       " Timestamp('2000-02-01 00:00:00', freq='D'),\n",
       " Timestamp('2000-02-02 00:00:00', freq='D'),\n",
       " Timestamp('2000-02-03 00:00:00', freq='D'),\n",
       " Timestamp('2000-02-04 00:00:00', freq='D'),\n",
       " Timestamp('2000-02-05 00:00:00', freq='D'),\n",
       " Timestamp('2000-02-06 00:00:00', freq='D'),\n",
       " Timestamp('2000-02-07 00:00:00', freq='D'),\n",
       " Timestamp('2000-02-08 00:00:00', freq='D'),\n",
       " Timestamp('2000-02-09 00:00:00', freq='D'),\n",
       " Timestamp('2000-02-10 00:00:00', freq='D'),\n",
       " Timestamp('2000-02-11 00:00:00', freq='D'),\n",
       " Timestamp('2000-02-12 00:00:00', freq='D'),\n",
       " Timestamp('2000-02-13 00:00:00', freq='D'),\n",
       " Timestamp('2000-02-14 00:00:00', freq='D'),\n",
       " Timestamp('2000-02-15 00:00:00', freq='D'),\n",
       " Timestamp('2000-02-16 00:00:00', freq='D'),\n",
       " Timestamp('2000-02-17 00:00:00', freq='D'),\n",
       " Timestamp('2000-02-18 00:00:00', freq='D'),\n",
       " Timestamp('2000-02-19 00:00:00', freq='D'),\n",
       " Timestamp('2000-02-20 00:00:00', freq='D'),\n",
       " Timestamp('2000-02-21 00:00:00', freq='D'),\n",
       " Timestamp('2000-02-22 00:00:00', freq='D'),\n",
       " Timestamp('2000-02-23 00:00:00', freq='D'),\n",
       " Timestamp('2000-02-24 00:00:00', freq='D'),\n",
       " Timestamp('2000-02-25 00:00:00', freq='D'),\n",
       " Timestamp('2000-02-26 00:00:00', freq='D'),\n",
       " Timestamp('2000-02-27 00:00:00', freq='D'),\n",
       " Timestamp('2000-02-28 00:00:00', freq='D'),\n",
       " Timestamp('2000-02-29 00:00:00', freq='D'),\n",
       " Timestamp('2000-03-01 00:00:00', freq='D'),\n",
       " Timestamp('2000-03-02 00:00:00', freq='D'),\n",
       " Timestamp('2000-03-03 00:00:00', freq='D'),\n",
       " Timestamp('2000-03-04 00:00:00', freq='D'),\n",
       " Timestamp('2000-03-05 00:00:00', freq='D'),\n",
       " Timestamp('2000-03-06 00:00:00', freq='D'),\n",
       " Timestamp('2000-03-07 00:00:00', freq='D'),\n",
       " Timestamp('2000-03-08 00:00:00', freq='D'),\n",
       " Timestamp('2000-03-09 00:00:00', freq='D'),\n",
       " Timestamp('2000-03-10 00:00:00', freq='D'),\n",
       " Timestamp('2000-03-11 00:00:00', freq='D'),\n",
       " Timestamp('2000-03-12 00:00:00', freq='D'),\n",
       " Timestamp('2000-03-13 00:00:00', freq='D'),\n",
       " Timestamp('2000-03-14 00:00:00', freq='D'),\n",
       " Timestamp('2000-03-15 00:00:00', freq='D'),\n",
       " Timestamp('2000-03-16 00:00:00', freq='D'),\n",
       " Timestamp('2000-03-17 00:00:00', freq='D'),\n",
       " Timestamp('2000-03-18 00:00:00', freq='D'),\n",
       " Timestamp('2000-03-19 00:00:00', freq='D'),\n",
       " Timestamp('2000-03-20 00:00:00', freq='D'),\n",
       " Timestamp('2000-03-21 00:00:00', freq='D'),\n",
       " Timestamp('2000-03-22 00:00:00', freq='D'),\n",
       " Timestamp('2000-03-23 00:00:00', freq='D'),\n",
       " Timestamp('2000-03-24 00:00:00', freq='D'),\n",
       " Timestamp('2000-03-25 00:00:00', freq='D'),\n",
       " Timestamp('2000-03-26 00:00:00', freq='D'),\n",
       " Timestamp('2000-03-27 00:00:00', freq='D'),\n",
       " Timestamp('2000-03-28 00:00:00', freq='D'),\n",
       " Timestamp('2000-03-29 00:00:00', freq='D'),\n",
       " Timestamp('2000-03-30 00:00:00', freq='D'),\n",
       " Timestamp('2000-03-31 00:00:00', freq='D'),\n",
       " Timestamp('2000-04-01 00:00:00', freq='D'),\n",
       " Timestamp('2000-04-02 00:00:00', freq='D'),\n",
       " Timestamp('2000-04-03 00:00:00', freq='D'),\n",
       " Timestamp('2000-04-04 00:00:00', freq='D'),\n",
       " Timestamp('2000-04-05 00:00:00', freq='D'),\n",
       " Timestamp('2000-04-06 00:00:00', freq='D'),\n",
       " Timestamp('2000-04-07 00:00:00', freq='D'),\n",
       " Timestamp('2000-04-08 00:00:00', freq='D'),\n",
       " Timestamp('2000-04-09 00:00:00', freq='D')]"
      ]
     },
     "execution_count": 55,
     "metadata": {},
     "output_type": "execute_result"
    }
   ],
   "source": [
    "list(rng)"
   ]
  },
  {
   "cell_type": "code",
   "execution_count": 56,
   "metadata": {},
   "outputs": [],
   "source": [
    "# Traders of US equity options will be familiar with the standard 3rd Friday of the month contracts. \n",
    "# You can define this with the 'WOM-3FRI' frequency: "
   ]
  },
  {
   "cell_type": "markdown",
   "metadata": {},
   "source": [
    "# Shifting(Leading and Lagging) Data \n",
    "\"Shifting\" refers to moving data backward and forward through time. Both Series and DataFrame have a shift method for doing naive shifts forward or backward, leaving the index unmodified: \n",
    "\n",
    "```python "
   ]
  },
  {
   "cell_type": "code",
   "execution_count": 57,
   "metadata": {},
   "outputs": [],
   "source": [
    "ts = Series(np.random.randn(4), index=pd.date_range('1/1/2000', periods=4, freq='M')) "
   ]
  },
  {
   "cell_type": "code",
   "execution_count": 58,
   "metadata": {},
   "outputs": [
    {
     "data": {
      "text/plain": [
       "2000-01-31    1.125940\n",
       "2000-02-29    0.212157\n",
       "2000-03-31    0.877651\n",
       "2000-04-30   -0.917144\n",
       "Freq: M, dtype: float64"
      ]
     },
     "execution_count": 58,
     "metadata": {},
     "output_type": "execute_result"
    }
   ],
   "source": [
    "ts "
   ]
  },
  {
   "cell_type": "code",
   "execution_count": 59,
   "metadata": {},
   "outputs": [
    {
     "data": {
      "text/plain": [
       "2000-01-31         NaN\n",
       "2000-02-29         NaN\n",
       "2000-03-31    1.125940\n",
       "2000-04-30    0.212157\n",
       "Freq: M, dtype: float64"
      ]
     },
     "execution_count": 59,
     "metadata": {},
     "output_type": "execute_result"
    }
   ],
   "source": [
    "ts.shift(2) "
   ]
  },
  {
   "cell_type": "code",
   "execution_count": 60,
   "metadata": {},
   "outputs": [
    {
     "data": {
      "text/plain": [
       "2000-01-31    0.877651\n",
       "2000-02-29   -0.917144\n",
       "2000-03-31         NaN\n",
       "2000-04-30         NaN\n",
       "Freq: M, dtype: float64"
      ]
     },
     "execution_count": 60,
     "metadata": {},
     "output_type": "execute_result"
    }
   ],
   "source": [
    "ts.shift(-2) "
   ]
  },
  {
   "cell_type": "code",
   "execution_count": 61,
   "metadata": {},
   "outputs": [],
   "source": [
    "# A common use of shift is computing percent changes in a time series or multiple time series as DataFrame columns.\n",
    "# This is expressed as: \n",
    "# (ts / ts.shift(1)) - 1 "
   ]
  },
  {
   "cell_type": "code",
   "execution_count": 62,
   "metadata": {},
   "outputs": [
    {
     "data": {
      "text/plain": [
       "2000-03-31    1.125940\n",
       "2000-04-30    0.212157\n",
       "2000-05-31    0.877651\n",
       "2000-06-30   -0.917144\n",
       "Freq: M, dtype: float64"
      ]
     },
     "execution_count": 62,
     "metadata": {},
     "output_type": "execute_result"
    }
   ],
   "source": [
    "# Because naive shifts leave the index unmodified, some data is discarded. \n",
    "# Thus if the frequency is known, it can be passed to shift to advance the timestamp instead of simply the data: \n",
    "ts.shift(2, freq='M')"
   ]
  },
  {
   "cell_type": "code",
   "execution_count": 63,
   "metadata": {},
   "outputs": [
    {
     "data": {
      "text/plain": [
       "2000-02-03    1.125940\n",
       "2000-03-03    0.212157\n",
       "2000-04-03    0.877651\n",
       "2000-05-03   -0.917144\n",
       "dtype: float64"
      ]
     },
     "execution_count": 63,
     "metadata": {},
     "output_type": "execute_result"
    }
   ],
   "source": [
    "ts.shift(3, freq='D')"
   ]
  },
  {
   "cell_type": "code",
   "execution_count": 64,
   "metadata": {},
   "outputs": [
    {
     "data": {
      "text/plain": [
       "2000-02-03    1.125940\n",
       "2000-03-03    0.212157\n",
       "2000-04-03    0.877651\n",
       "2000-05-03   -0.917144\n",
       "dtype: float64"
      ]
     },
     "execution_count": 64,
     "metadata": {},
     "output_type": "execute_result"
    }
   ],
   "source": [
    "ts.shift(1, freq='3D')"
   ]
  },
  {
   "cell_type": "markdown",
   "metadata": {},
   "source": [
    "# Shifting dates with offsets \n",
    "pandas has a number of custom offsets that can be used with the shift method. These are especially useful for time series with business day frequencies. \n",
    "\n",
    "```python"
   ]
  },
  {
   "cell_type": "code",
   "execution_count": 65,
   "metadata": {},
   "outputs": [],
   "source": [
    "from pandas.tseries.offsets import Day, MonthEnd \n",
    "now = datetime(2011,11,17) "
   ]
  },
  {
   "cell_type": "code",
   "execution_count": 66,
   "metadata": {},
   "outputs": [
    {
     "data": {
      "text/plain": [
       "Timestamp('2011-11-20 00:00:00')"
      ]
     },
     "execution_count": 66,
     "metadata": {},
     "output_type": "execute_result"
    }
   ],
   "source": [
    "now + 3 * Day() "
   ]
  },
  {
   "cell_type": "code",
   "execution_count": 67,
   "metadata": {},
   "outputs": [
    {
     "data": {
      "text/plain": [
       "Timestamp('2011-11-30 00:00:00')"
      ]
     },
     "execution_count": 67,
     "metadata": {},
     "output_type": "execute_result"
    }
   ],
   "source": [
    "# If you add an anchored offset like MonthEnd, the first increment will roll forward a date to the next date according to the frequency rule: \n",
    "now + MonthEnd() "
   ]
  },
  {
   "cell_type": "code",
   "execution_count": 68,
   "metadata": {},
   "outputs": [
    {
     "data": {
      "text/plain": [
       "Timestamp('2011-12-31 00:00:00')"
      ]
     },
     "execution_count": 68,
     "metadata": {},
     "output_type": "execute_result"
    }
   ],
   "source": [
    "now + MonthEnd(2) "
   ]
  },
  {
   "cell_type": "code",
   "execution_count": 69,
   "metadata": {},
   "outputs": [],
   "source": [
    "# Anchored offsets can explicitly \"roll\" dates forward or backward using their rollforward and rollback methods,\n",
    "# respectively:\n",
    "offset = MonthEnd()"
   ]
  },
  {
   "cell_type": "code",
   "execution_count": 70,
   "metadata": {},
   "outputs": [
    {
     "data": {
      "text/plain": [
       "Timestamp('2011-11-30 00:00:00')"
      ]
     },
     "execution_count": 70,
     "metadata": {},
     "output_type": "execute_result"
    }
   ],
   "source": [
    "offset.rollforward(now) "
   ]
  },
  {
   "cell_type": "code",
   "execution_count": 71,
   "metadata": {},
   "outputs": [
    {
     "data": {
      "text/plain": [
       "Timestamp('2011-10-31 00:00:00')"
      ]
     },
     "execution_count": 71,
     "metadata": {},
     "output_type": "execute_result"
    }
   ],
   "source": [
    "offset.rollback(now) "
   ]
  },
  {
   "cell_type": "code",
   "execution_count": 72,
   "metadata": {},
   "outputs": [],
   "source": [
    "# A clever use of date offsets is to use these methods with groupby:\n",
    "ts = Series(np.random.randn(20), index=pd.date_range('1/15/2000', periods=20, freq='4d')) "
   ]
  },
  {
   "cell_type": "code",
   "execution_count": 73,
   "metadata": {},
   "outputs": [
    {
     "data": {
      "text/plain": [
       "2000-01-31    0.097029\n",
       "2000-02-29    0.227088\n",
       "2000-03-31    0.191492\n",
       "dtype: float64"
      ]
     },
     "execution_count": 73,
     "metadata": {},
     "output_type": "execute_result"
    }
   ],
   "source": [
    "ts.groupby(offset.rollforward).mean()"
   ]
  },
  {
   "cell_type": "code",
   "execution_count": 74,
   "metadata": {},
   "outputs": [
    {
     "data": {
      "text/plain": [
       "2000-01-31    0.097029\n",
       "2000-02-29    0.227088\n",
       "2000-03-31    0.191492\n",
       "Freq: M, dtype: float64"
      ]
     },
     "execution_count": 74,
     "metadata": {},
     "output_type": "execute_result"
    }
   ],
   "source": [
    "# Of course, an easier and faster way to do this is using resample:\n",
    "ts.resample('M').mean()"
   ]
  },
  {
   "cell_type": "markdown",
   "metadata": {},
   "source": [
    "# Time Zone Handling"
   ]
  },
  {
   "cell_type": "code",
   "execution_count": 1,
   "metadata": {},
   "outputs": [],
   "source": [
    "# Working with time zones is generally considered one o f the most unpleasant parts of time series manipulation. \n",
    "# In particular, daylight savings time transitions are a common source of complication. \n",
    "# As such, many time series users choose to work with time seires in Coordinated universal Time or UTC, which is the successor to \n",
    "# Greenwich Mean Time and is the current international standard. \n",
    "\n",
    "import pytz"
   ]
  },
  {
   "cell_type": "code",
   "execution_count": 2,
   "metadata": {},
   "outputs": [
    {
     "data": {
      "text/plain": [
       "['US/Eastern', 'US/Hawaii', 'US/Mountain', 'US/Pacific', 'UTC']"
      ]
     },
     "execution_count": 2,
     "metadata": {},
     "output_type": "execute_result"
    }
   ],
   "source": [
    "pytz.common_timezones[-5:] "
   ]
  },
  {
   "cell_type": "code",
   "execution_count": 3,
   "metadata": {},
   "outputs": [],
   "source": [
    "# To get a time zone object from pytz, use pytz.timezone: \n",
    "tz = pytz.timezone('America/New_York') "
   ]
  },
  {
   "cell_type": "code",
   "execution_count": 4,
   "metadata": {},
   "outputs": [
    {
     "data": {
      "text/plain": [
       "<DstTzInfo 'America/New_York' LMT-1 day, 19:04:00 STD>"
      ]
     },
     "execution_count": 4,
     "metadata": {},
     "output_type": "execute_result"
    }
   ],
   "source": [
    "tz"
   ]
  },
  {
   "cell_type": "markdown",
   "metadata": {},
   "source": [
    "# Localization and Conversion \n",
    "By default, time series in pandas are time zone naive. For example, consider the following time series: \n",
    "\n",
    "```python"
   ]
  },
  {
   "cell_type": "code",
   "execution_count": 6,
   "metadata": {},
   "outputs": [],
   "source": [
    "import pandas as pd \n",
    "from pandas import Series, DataFrame\n",
    "rng = pd.date_range('3/9/2012 9:30', periods=6, freq='D') "
   ]
  },
  {
   "cell_type": "code",
   "execution_count": 8,
   "metadata": {},
   "outputs": [],
   "source": [
    "import numpy as np \n",
    "ts = Series(np.random.randn(len(rng)), index=rng) "
   ]
  },
  {
   "cell_type": "code",
   "execution_count": 9,
   "metadata": {},
   "outputs": [
    {
     "data": {
      "text/plain": [
       "2012-03-09 09:30:00    0.353855\n",
       "2012-03-10 09:30:00    0.394750\n",
       "2012-03-11 09:30:00    1.686663\n",
       "2012-03-12 09:30:00    0.834828\n",
       "2012-03-13 09:30:00    0.315383\n",
       "2012-03-14 09:30:00   -0.198523\n",
       "Freq: D, dtype: float64"
      ]
     },
     "execution_count": 9,
     "metadata": {},
     "output_type": "execute_result"
    }
   ],
   "source": [
    "ts"
   ]
  },
  {
   "cell_type": "code",
   "execution_count": 10,
   "metadata": {},
   "outputs": [],
   "source": [
    "# Conversion from naive to localized is handled by the tz_localize method: \n",
    "ts_utc = ts.tz_localize('UTC') "
   ]
  },
  {
   "cell_type": "code",
   "execution_count": 11,
   "metadata": {},
   "outputs": [
    {
     "data": {
      "text/plain": [
       "2012-03-09 09:30:00+00:00    0.353855\n",
       "2012-03-10 09:30:00+00:00    0.394750\n",
       "2012-03-11 09:30:00+00:00    1.686663\n",
       "2012-03-12 09:30:00+00:00    0.834828\n",
       "2012-03-13 09:30:00+00:00    0.315383\n",
       "2012-03-14 09:30:00+00:00   -0.198523\n",
       "Freq: D, dtype: float64"
      ]
     },
     "execution_count": 11,
     "metadata": {},
     "output_type": "execute_result"
    }
   ],
   "source": [
    "ts_utc"
   ]
  },
  {
   "cell_type": "code",
   "execution_count": 12,
   "metadata": {},
   "outputs": [
    {
     "data": {
      "text/plain": [
       "2012-03-09 01:30:00-08:00    0.353855\n",
       "2012-03-10 01:30:00-08:00    0.394750\n",
       "2012-03-11 01:30:00-08:00    1.686663\n",
       "2012-03-12 02:30:00-07:00    0.834828\n",
       "2012-03-13 02:30:00-07:00    0.315383\n",
       "2012-03-14 02:30:00-07:00   -0.198523\n",
       "Freq: D, dtype: float64"
      ]
     },
     "execution_count": 12,
     "metadata": {},
     "output_type": "execute_result"
    }
   ],
   "source": [
    "# Once a time series has been localized to a particular time zone, \n",
    "# it can be converted to another time zone with tz_convert: \n",
    "ts_utc.tz_convert('America/Los_Angeles') "
   ]
  },
  {
   "cell_type": "code",
   "execution_count": 13,
   "metadata": {},
   "outputs": [],
   "source": [
    "# In the case of the above time series, which straddles a DST transition in the US/Eastern time zone, \n",
    "# we could localize to EST and convert to Berlin time: \n",
    "ts_eastern = ts.tz_localize('US/Eastern') "
   ]
  },
  {
   "cell_type": "code",
   "execution_count": 15,
   "metadata": {},
   "outputs": [
    {
     "data": {
      "text/plain": [
       "2012-03-09 15:30:00+01:00    0.353855\n",
       "2012-03-10 15:30:00+01:00    0.394750\n",
       "2012-03-11 14:30:00+01:00    1.686663\n",
       "2012-03-12 14:30:00+01:00    0.834828\n",
       "2012-03-13 14:30:00+01:00    0.315383\n",
       "2012-03-14 14:30:00+01:00   -0.198523\n",
       "dtype: float64"
      ]
     },
     "execution_count": 15,
     "metadata": {},
     "output_type": "execute_result"
    }
   ],
   "source": [
    "ts_eastern.tz_convert('Europe/Berlin') "
   ]
  },
  {
   "cell_type": "code",
   "execution_count": 16,
   "metadata": {},
   "outputs": [
    {
     "data": {
      "text/plain": [
       "DatetimeIndex(['2012-03-09 09:30:00+07:00', '2012-03-10 09:30:00+07:00',\n",
       "               '2012-03-11 09:30:00+07:00', '2012-03-12 09:30:00+07:00',\n",
       "               '2012-03-13 09:30:00+07:00', '2012-03-14 09:30:00+07:00'],\n",
       "              dtype='datetime64[ns, Asia/Bangkok]', freq=None)"
      ]
     },
     "execution_count": 16,
     "metadata": {},
     "output_type": "execute_result"
    }
   ],
   "source": [
    "# tz_localize and tz_convert are also instance methods on DatetimeIndex:\n",
    "ts.index.tz_localize('Asia/Bangkok')"
   ]
  },
  {
   "cell_type": "markdown",
   "metadata": {},
   "source": [
    "# Operations with Time Zone-Aware Timestamp Objects\n",
    "Similar to time series and date ranges, individual Timestamp objects similarly can be localized from naive to time \n",
    "zone-aware and converted from one time zone to another: \n",
    "\n",
    "```python "
   ]
  },
  {
   "cell_type": "code",
   "execution_count": 19,
   "metadata": {},
   "outputs": [],
   "source": [
    "import pandas as pd\n",
    "stamp = pd.Timestamp('2011-03-21 04:00') "
   ]
  },
  {
   "cell_type": "code",
   "execution_count": 20,
   "metadata": {},
   "outputs": [],
   "source": [
    "stamp_utc = stamp.tz_localize('utc')"
   ]
  },
  {
   "cell_type": "code",
   "execution_count": 22,
   "metadata": {},
   "outputs": [
    {
     "data": {
      "text/plain": [
       "Timestamp('2011-03-21 00:00:00-0400', tz='America/New_York')"
      ]
     },
     "execution_count": 22,
     "metadata": {},
     "output_type": "execute_result"
    }
   ],
   "source": [
    "stamp_utc.tz_convert('America/New_York') "
   ]
  },
  {
   "cell_type": "code",
   "execution_count": 23,
   "metadata": {},
   "outputs": [],
   "source": [
    "# You can also pass a time when creating the Timestamp: \n",
    "stamp_moscow = pd.Timestamp('2011-03-21 04:00', tz='Europe/Moscow')"
   ]
  },
  {
   "cell_type": "code",
   "execution_count": 24,
   "metadata": {},
   "outputs": [
    {
     "data": {
      "text/plain": [
       "Timestamp('2011-03-21 04:00:00+0300', tz='Europe/Moscow')"
      ]
     },
     "execution_count": 24,
     "metadata": {},
     "output_type": "execute_result"
    }
   ],
   "source": [
    "stamp_moscow"
   ]
  },
  {
   "cell_type": "code",
   "execution_count": 25,
   "metadata": {},
   "outputs": [
    {
     "data": {
      "text/plain": [
       "1300680000000000000"
      ]
     },
     "execution_count": 25,
     "metadata": {},
     "output_type": "execute_result"
    }
   ],
   "source": [
    "# Time zone-aware Timestamp objects internally store a UTC timestamp value as nanoseconds since the UNIX \n",
    "# epoch (January 1, 1970); this UTC value is invariant between time zone conversions:\n",
    "stamp_utc.value"
   ]
  },
  {
   "cell_type": "code",
   "execution_count": 26,
   "metadata": {},
   "outputs": [],
   "source": [
    "# when performing time arithmetic using pandas's DateOffset objects, pandas respects daylight saving time transitions are respected where possible. \n",
    "from pandas.tseries.offsets import Hour \n",
    "stamp = pd.Timestamp('2012-03-12 01:30', tz='US/Eastern') "
   ]
  },
  {
   "cell_type": "code",
   "execution_count": 27,
   "metadata": {},
   "outputs": [
    {
     "data": {
      "text/plain": [
       "Timestamp('2012-03-12 01:30:00-0400', tz='US/Eastern')"
      ]
     },
     "execution_count": 27,
     "metadata": {},
     "output_type": "execute_result"
    }
   ],
   "source": [
    "stamp"
   ]
  },
  {
   "cell_type": "code",
   "execution_count": 28,
   "metadata": {},
   "outputs": [
    {
     "data": {
      "text/plain": [
       "Timestamp('2012-03-12 02:30:00-0400', tz='US/Eastern')"
      ]
     },
     "execution_count": 28,
     "metadata": {},
     "output_type": "execute_result"
    }
   ],
   "source": [
    "stamp + Hour() "
   ]
  },
  {
   "cell_type": "markdown",
   "metadata": {},
   "source": [
    "# Operations between Different Time Zones \n",
    "If two time series with different time zones are combined, the result will be UTC. Since the timestamps are stored under the hood in UTC, this is a straightforward operation and requires no conversion to happen: \n",
    "\n",
    "```python"
   ]
  },
  {
   "cell_type": "code",
   "execution_count": 29,
   "metadata": {},
   "outputs": [],
   "source": [
    "rng = pd.date_range('3/7/2012 9:30', periods=10, freq='B')"
   ]
  },
  {
   "cell_type": "code",
   "execution_count": 30,
   "metadata": {},
   "outputs": [],
   "source": [
    "ts = Series(np.random.randn(len(rng)), index=rng) "
   ]
  },
  {
   "cell_type": "code",
   "execution_count": 31,
   "metadata": {},
   "outputs": [
    {
     "data": {
      "text/plain": [
       "2012-03-07 09:30:00   -0.246094\n",
       "2012-03-08 09:30:00    0.351939\n",
       "2012-03-09 09:30:00   -1.434286\n",
       "2012-03-12 09:30:00    1.045890\n",
       "2012-03-13 09:30:00    0.488969\n",
       "2012-03-14 09:30:00   -0.540155\n",
       "2012-03-15 09:30:00   -0.086626\n",
       "2012-03-16 09:30:00    0.712970\n",
       "2012-03-19 09:30:00    0.478987\n",
       "2012-03-20 09:30:00   -0.296802\n",
       "Freq: B, dtype: float64"
      ]
     },
     "execution_count": 31,
     "metadata": {},
     "output_type": "execute_result"
    }
   ],
   "source": [
    "ts"
   ]
  },
  {
   "cell_type": "code",
   "execution_count": 32,
   "metadata": {},
   "outputs": [],
   "source": [
    "ts1 = ts[:7].tz_localize('Europe/London') "
   ]
  },
  {
   "cell_type": "code",
   "execution_count": 33,
   "metadata": {},
   "outputs": [
    {
     "data": {
      "text/plain": [
       "2012-03-07 09:30:00+00:00   -0.246094\n",
       "2012-03-08 09:30:00+00:00    0.351939\n",
       "2012-03-09 09:30:00+00:00   -1.434286\n",
       "2012-03-12 09:30:00+00:00    1.045890\n",
       "2012-03-13 09:30:00+00:00    0.488969\n",
       "2012-03-14 09:30:00+00:00   -0.540155\n",
       "2012-03-15 09:30:00+00:00   -0.086626\n",
       "dtype: float64"
      ]
     },
     "execution_count": 33,
     "metadata": {},
     "output_type": "execute_result"
    }
   ],
   "source": [
    "ts1"
   ]
  },
  {
   "cell_type": "code",
   "execution_count": 34,
   "metadata": {},
   "outputs": [],
   "source": [
    "ts2=ts1[:2].tz_convert('Europe/Moscow') "
   ]
  },
  {
   "cell_type": "code",
   "execution_count": 35,
   "metadata": {},
   "outputs": [],
   "source": [
    "result = ts1 + ts2 "
   ]
  },
  {
   "cell_type": "code",
   "execution_count": 36,
   "metadata": {},
   "outputs": [
    {
     "data": {
      "text/plain": [
       "2012-03-07 09:30:00+00:00   -0.492188\n",
       "2012-03-08 09:30:00+00:00    0.703879\n",
       "2012-03-09 09:30:00+00:00         NaN\n",
       "2012-03-12 09:30:00+00:00         NaN\n",
       "2012-03-13 09:30:00+00:00         NaN\n",
       "2012-03-14 09:30:00+00:00         NaN\n",
       "2012-03-15 09:30:00+00:00         NaN\n",
       "dtype: float64"
      ]
     },
     "execution_count": 36,
     "metadata": {},
     "output_type": "execute_result"
    }
   ],
   "source": [
    "result "
   ]
  },
  {
   "cell_type": "markdown",
   "metadata": {},
   "source": [
    "# Periods and Period Arithmetic \n",
    "Periods represent timespans, like days, months, quarters, or years. The Period class represents this data type, \n",
    "requiring a string or integer and a frequency from pandas.tseries.offsets: \n",
    "\n",
    "```python "
   ]
  },
  {
   "cell_type": "code",
   "execution_count": 37,
   "metadata": {},
   "outputs": [],
   "source": [
    "p = pd.Period(2007, freq='A-DEC')"
   ]
  },
  {
   "cell_type": "code",
   "execution_count": 38,
   "metadata": {},
   "outputs": [
    {
     "data": {
      "text/plain": [
       "Period('2007', 'A-DEC')"
      ]
     },
     "execution_count": 38,
     "metadata": {},
     "output_type": "execute_result"
    }
   ],
   "source": [
    "p"
   ]
  },
  {
   "cell_type": "code",
   "execution_count": 39,
   "metadata": {},
   "outputs": [
    {
     "data": {
      "text/plain": [
       "Period('2012', 'A-DEC')"
      ]
     },
     "execution_count": 39,
     "metadata": {},
     "output_type": "execute_result"
    }
   ],
   "source": [
    "# In this case, the Period object represents the full timespan from January 1, 2007, to December 31, 2007, inclusive. \n",
    "# Conveniently, adding and subtracting integers has the effect of shifting by the same frequency in the time span: \n",
    "p + 5"
   ]
  },
  {
   "cell_type": "code",
   "execution_count": 40,
   "metadata": {},
   "outputs": [
    {
     "data": {
      "text/plain": [
       "Period('2005', 'A-DEC')"
      ]
     },
     "execution_count": 40,
     "metadata": {},
     "output_type": "execute_result"
    }
   ],
   "source": [
    "p - 2 "
   ]
  },
  {
   "cell_type": "code",
   "execution_count": 41,
   "metadata": {},
   "outputs": [
    {
     "data": {
      "text/plain": [
       "<7 * YearEnds: month=12>"
      ]
     },
     "execution_count": 41,
     "metadata": {},
     "output_type": "execute_result"
    }
   ],
   "source": [
    "# If two periods have the same frequency, their difference is the number of units between them: \n",
    "pd.Period('2014', freq='A-DEC') - p "
   ]
  },
  {
   "cell_type": "code",
   "execution_count": 2,
   "metadata": {},
   "outputs": [],
   "source": [
    "# Regular ranges of periods can be constructed using the period_range function: \n",
    "import pandas as pd \n",
    "rng = pd.period_range('2000-01-01', '2000-06-30', freq='M')"
   ]
  },
  {
   "cell_type": "code",
   "execution_count": 3,
   "metadata": {},
   "outputs": [
    {
     "data": {
      "text/plain": [
       "PeriodIndex(['2000-01', '2000-02', '2000-03', '2000-04', '2000-05', '2000-06'], dtype='period[M]')"
      ]
     },
     "execution_count": 3,
     "metadata": {},
     "output_type": "execute_result"
    }
   ],
   "source": [
    "rng"
   ]
  },
  {
   "cell_type": "code",
   "execution_count": 4,
   "metadata": {},
   "outputs": [
    {
     "data": {
      "text/plain": [
       "2000-01   -0.914022\n",
       "2000-02    0.988933\n",
       "2000-03    1.355439\n",
       "2000-04    0.143619\n",
       "2000-05   -0.679567\n",
       "2000-06    0.214269\n",
       "Freq: M, dtype: float64"
      ]
     },
     "execution_count": 4,
     "metadata": {},
     "output_type": "execute_result"
    }
   ],
   "source": [
    "# The PeriodIndex class stores a sequence of periods and can serve as an axis index in any pandas data structure: \n",
    "import numpy as np \n",
    "from pandas import Series, DataFrame \n",
    "Series(np.random.randn(6), index=rng) "
   ]
  },
  {
   "cell_type": "code",
   "execution_count": 5,
   "metadata": {},
   "outputs": [],
   "source": [
    "# If you have an array of strings, you can also appeal to the PeriodIndex class itself: \n",
    "values = ['2001Q3', '2002Q2', '2003Q1'] "
   ]
  },
  {
   "cell_type": "code",
   "execution_count": 6,
   "metadata": {},
   "outputs": [],
   "source": [
    "index = pd.PeriodIndex(values, freq='Q-DEC') "
   ]
  },
  {
   "cell_type": "code",
   "execution_count": 7,
   "metadata": {},
   "outputs": [
    {
     "data": {
      "text/plain": [
       "PeriodIndex(['2001Q3', '2002Q2', '2003Q1'], dtype='period[Q-DEC]')"
      ]
     },
     "execution_count": 7,
     "metadata": {},
     "output_type": "execute_result"
    }
   ],
   "source": [
    "index"
   ]
  },
  {
   "cell_type": "markdown",
   "metadata": {},
   "source": [
    "# Period Frequency Conversion \n",
    "Periods and PeriodIndex objects can be converted to another frequency with their asfreq method: \n",
    "As an example, suppose we had an annual period and wanted to convert it into a monthly period either at the start or end of the year. This is fairly straightforward: \n",
    "\n",
    "```python "
   ]
  },
  {
   "cell_type": "code",
   "execution_count": 8,
   "metadata": {},
   "outputs": [],
   "source": [
    "p = pd.Period('2007', freq='A-DEC')"
   ]
  },
  {
   "cell_type": "code",
   "execution_count": 9,
   "metadata": {},
   "outputs": [
    {
     "data": {
      "text/plain": [
       "Period('2007-01', 'M')"
      ]
     },
     "execution_count": 9,
     "metadata": {},
     "output_type": "execute_result"
    }
   ],
   "source": [
    "p.asfreq('M', how='start') "
   ]
  },
  {
   "cell_type": "code",
   "execution_count": 10,
   "metadata": {},
   "outputs": [
    {
     "data": {
      "text/plain": [
       "Period('2007-12', 'M')"
      ]
     },
     "execution_count": 10,
     "metadata": {},
     "output_type": "execute_result"
    }
   ],
   "source": [
    "p.asfreq('M', how='end') "
   ]
  },
  {
   "cell_type": "code",
   "execution_count": 11,
   "metadata": {},
   "outputs": [],
   "source": [
    "# You can think of Period ('2007', 'A-DEC') as being a cursor pointing to a span of time, subdivided by monthly periods. \n",
    "# For a fiscal year ending on a month other than December, the monthly subperiods belonging are different: \n",
    "p = pd.Period('2007', freq='A-JUN') "
   ]
  },
  {
   "cell_type": "code",
   "execution_count": 12,
   "metadata": {},
   "outputs": [
    {
     "data": {
      "text/plain": [
       "Period('2006-07', 'M')"
      ]
     },
     "execution_count": 12,
     "metadata": {},
     "output_type": "execute_result"
    }
   ],
   "source": [
    "p.asfreq('M', 'start') "
   ]
  },
  {
   "cell_type": "code",
   "execution_count": 13,
   "metadata": {},
   "outputs": [
    {
     "data": {
      "text/plain": [
       "Period('2007-06', 'M')"
      ]
     },
     "execution_count": 13,
     "metadata": {},
     "output_type": "execute_result"
    }
   ],
   "source": [
    "p.asfreq('M', 'end') "
   ]
  },
  {
   "cell_type": "code",
   "execution_count": 14,
   "metadata": {},
   "outputs": [],
   "source": [
    "# When converting from high to low frequency, pandas determines the superperiod depending on where the subperiod \"belongs\". \n",
    "# For example, in A-JUN frequency, the month Aug 2007 is actually part of the 2008 fiscal year: \n",
    "p = pd.Period('Aug-2007', 'M') "
   ]
  },
  {
   "cell_type": "code",
   "execution_count": 16,
   "metadata": {},
   "outputs": [
    {
     "data": {
      "text/plain": [
       "Period('2008', 'A-JUN')"
      ]
     },
     "execution_count": 16,
     "metadata": {},
     "output_type": "execute_result"
    }
   ],
   "source": [
    "p.asfreq('A-JUN')"
   ]
  },
  {
   "cell_type": "code",
   "execution_count": 17,
   "metadata": {},
   "outputs": [],
   "source": [
    "# Whole PeriodIndex objects or TimeSeries can be similarly converted with the same semantics: \n",
    "rng = pd.period_range('2006', '2009', freq='A-DEC') "
   ]
  },
  {
   "cell_type": "code",
   "execution_count": 18,
   "metadata": {},
   "outputs": [],
   "source": [
    "ts = Series(np.random.randn(len(rng)), index=rng)"
   ]
  },
  {
   "cell_type": "code",
   "execution_count": 19,
   "metadata": {},
   "outputs": [
    {
     "data": {
      "text/plain": [
       "2006   -0.338581\n",
       "2007    1.513356\n",
       "2008    0.986113\n",
       "2009    0.445414\n",
       "Freq: A-DEC, dtype: float64"
      ]
     },
     "execution_count": 19,
     "metadata": {},
     "output_type": "execute_result"
    }
   ],
   "source": [
    "ts"
   ]
  },
  {
   "cell_type": "code",
   "execution_count": 20,
   "metadata": {},
   "outputs": [
    {
     "data": {
      "text/plain": [
       "2006-01   -0.338581\n",
       "2007-01    1.513356\n",
       "2008-01    0.986113\n",
       "2009-01    0.445414\n",
       "Freq: M, dtype: float64"
      ]
     },
     "execution_count": 20,
     "metadata": {},
     "output_type": "execute_result"
    }
   ],
   "source": [
    "ts.asfreq('M', how='start') "
   ]
  },
  {
   "cell_type": "code",
   "execution_count": 21,
   "metadata": {},
   "outputs": [
    {
     "data": {
      "text/plain": [
       "2006-12-29   -0.338581\n",
       "2007-12-31    1.513356\n",
       "2008-12-31    0.986113\n",
       "2009-12-31    0.445414\n",
       "Freq: B, dtype: float64"
      ]
     },
     "execution_count": 21,
     "metadata": {},
     "output_type": "execute_result"
    }
   ],
   "source": [
    "ts.asfreq('B', how='end')"
   ]
  },
  {
   "cell_type": "markdown",
   "metadata": {},
   "source": [
    "# Quarterly period frequencies \n",
    "Quarterly data is standard in accounting, finance, and other fields. Much quarterly data is reported relative to a fiscal year end, typically the last calendar or business day of one of the 12 months of the year. As such, the period range for 2012Q4 is different with fiscal year end than with calendar year end: \n",
    "\n",
    "```python"
   ]
  },
  {
   "cell_type": "code",
   "execution_count": 22,
   "metadata": {},
   "outputs": [],
   "source": [
    "p = pd.Period('2012Q4', freq='Q-JAN')"
   ]
  },
  {
   "cell_type": "code",
   "execution_count": 23,
   "metadata": {},
   "outputs": [
    {
     "data": {
      "text/plain": [
       "Period('2012Q4', 'Q-JAN')"
      ]
     },
     "execution_count": 23,
     "metadata": {},
     "output_type": "execute_result"
    }
   ],
   "source": [
    "p"
   ]
  },
  {
   "cell_type": "code",
   "execution_count": 24,
   "metadata": {},
   "outputs": [
    {
     "data": {
      "text/plain": [
       "Period('2011-11-01', 'D')"
      ]
     },
     "execution_count": 24,
     "metadata": {},
     "output_type": "execute_result"
    }
   ],
   "source": [
    "# In the case of fiscal year ending in January, 2012Q4 runs from November through January: \n",
    "p.asfreq('D', 'start') "
   ]
  },
  {
   "cell_type": "code",
   "execution_count": 25,
   "metadata": {},
   "outputs": [
    {
     "data": {
      "text/plain": [
       "Period('2012-01-31', 'D')"
      ]
     },
     "execution_count": 25,
     "metadata": {},
     "output_type": "execute_result"
    }
   ],
   "source": [
    "p.asfreq('D', 'end')"
   ]
  },
  {
   "cell_type": "markdown",
   "metadata": {},
   "source": [
    "![](different_quarterly_freq_conv.png)"
   ]
  },
  {
   "cell_type": "code",
   "execution_count": 27,
   "metadata": {},
   "outputs": [],
   "source": [
    "p4pm = (p.asfreq('B', 'e') - 1).asfreq('T', 's') + 16 * 60"
   ]
  },
  {
   "cell_type": "code",
   "execution_count": 28,
   "metadata": {},
   "outputs": [
    {
     "data": {
      "text/plain": [
       "Period('2012-01-30 16:00', 'T')"
      ]
     },
     "execution_count": 28,
     "metadata": {},
     "output_type": "execute_result"
    }
   ],
   "source": [
    "p4pm"
   ]
  },
  {
   "cell_type": "code",
   "execution_count": 29,
   "metadata": {},
   "outputs": [
    {
     "data": {
      "text/plain": [
       "Timestamp('2012-01-30 16:00:00')"
      ]
     },
     "execution_count": 29,
     "metadata": {},
     "output_type": "execute_result"
    }
   ],
   "source": [
    "p4pm.to_timestamp() "
   ]
  },
  {
   "cell_type": "code",
   "execution_count": 30,
   "metadata": {},
   "outputs": [],
   "source": [
    "# Generating quarterly ranges works as you would expect using period_range: \n",
    "# Arithmetic is identical too: \n",
    "rng = pd.period_range('2011Q3', '2012Q4', freq='Q-JAN') "
   ]
  },
  {
   "cell_type": "code",
   "execution_count": 31,
   "metadata": {},
   "outputs": [],
   "source": [
    "ts = Series(np.arange(len(rng)), index=rng)"
   ]
  },
  {
   "cell_type": "code",
   "execution_count": 32,
   "metadata": {},
   "outputs": [
    {
     "data": {
      "text/plain": [
       "2011Q3    0\n",
       "2011Q4    1\n",
       "2012Q1    2\n",
       "2012Q2    3\n",
       "2012Q3    4\n",
       "2012Q4    5\n",
       "Freq: Q-JAN, dtype: int64"
      ]
     },
     "execution_count": 32,
     "metadata": {},
     "output_type": "execute_result"
    }
   ],
   "source": [
    "ts"
   ]
  },
  {
   "cell_type": "code",
   "execution_count": 33,
   "metadata": {},
   "outputs": [],
   "source": [
    "new_rng = (rng.asfreq('B', 'e') - 1).asfreq('T', 's') + 16 * 60 "
   ]
  },
  {
   "cell_type": "code",
   "execution_count": 34,
   "metadata": {},
   "outputs": [],
   "source": [
    "ts.index = new_rng.to_timestamp() "
   ]
  },
  {
   "cell_type": "code",
   "execution_count": 35,
   "metadata": {},
   "outputs": [
    {
     "data": {
      "text/plain": [
       "2010-10-28 16:00:00    0\n",
       "2011-01-28 16:00:00    1\n",
       "2011-04-28 16:00:00    2\n",
       "2011-07-28 16:00:00    3\n",
       "2011-10-28 16:00:00    4\n",
       "2012-01-30 16:00:00    5\n",
       "dtype: int64"
      ]
     },
     "execution_count": 35,
     "metadata": {},
     "output_type": "execute_result"
    }
   ],
   "source": [
    "ts"
   ]
  },
  {
   "cell_type": "markdown",
   "metadata": {},
   "source": [
    "# Converting Timestamps to Periods (and Back) \n",
    "Series and DataFrame objects indexed by timestamps can be converted to periods using th to_period method: \n",
    "\n",
    "```python"
   ]
  },
  {
   "cell_type": "code",
   "execution_count": 36,
   "metadata": {},
   "outputs": [],
   "source": [
    "rng = pd.date_range('1/1/2000', periods=3, freq='M') "
   ]
  },
  {
   "cell_type": "code",
   "execution_count": 37,
   "metadata": {},
   "outputs": [],
   "source": [
    "ts = Series(np.random.randn(3), index=rng)"
   ]
  },
  {
   "cell_type": "code",
   "execution_count": 38,
   "metadata": {},
   "outputs": [],
   "source": [
    "pts = ts.to_period()"
   ]
  },
  {
   "cell_type": "code",
   "execution_count": 39,
   "metadata": {},
   "outputs": [
    {
     "data": {
      "text/plain": [
       "2000-01    1.445474\n",
       "2000-02   -1.120926\n",
       "2000-03    1.843088\n",
       "Freq: M, dtype: float64"
      ]
     },
     "execution_count": 39,
     "metadata": {},
     "output_type": "execute_result"
    }
   ],
   "source": [
    "pts "
   ]
  },
  {
   "cell_type": "code",
   "execution_count": 2,
   "metadata": {},
   "outputs": [],
   "source": [
    "# Since periods always refer to non-overlapping timespans, a timestamp can only belong to a single period for a given frequency. \n",
    "# While the frequency of the new PeriodIndex is inferred from the timestamps by default, you can specify any frequency you want. \n",
    "# There is also a to_timestamp instance method that converts Periods back to timestamps: \n",
    "import pandas as pd \n",
    "rng = pd.date_range('1/29/2000', periods=6, freq='D') "
   ]
  },
  {
   "cell_type": "code",
   "execution_count": 4,
   "metadata": {},
   "outputs": [],
   "source": [
    "from pandas import Series, DataFrame \n",
    "import numpy as np \n",
    "ts2 = Series(np.random.randn(6), index=rng)"
   ]
  },
  {
   "cell_type": "code",
   "execution_count": 7,
   "metadata": {},
   "outputs": [
    {
     "data": {
      "text/plain": [
       "2000-01-29    0.164940\n",
       "2000-01-30   -0.185533\n",
       "2000-01-31    0.690105\n",
       "2000-02-01    0.401618\n",
       "2000-02-02   -0.912762\n",
       "2000-02-03   -1.768497\n",
       "Freq: D, dtype: float64"
      ]
     },
     "execution_count": 7,
     "metadata": {},
     "output_type": "execute_result"
    }
   ],
   "source": [
    "ts2"
   ]
  },
  {
   "cell_type": "code",
   "execution_count": 9,
   "metadata": {},
   "outputs": [
    {
     "data": {
      "text/plain": [
       "2000-01    0.164940\n",
       "2000-01   -0.185533\n",
       "2000-01    0.690105\n",
       "2000-02    0.401618\n",
       "2000-02   -0.912762\n",
       "2000-02   -1.768497\n",
       "Freq: M, dtype: float64"
      ]
     },
     "execution_count": 9,
     "metadata": {},
     "output_type": "execute_result"
    }
   ],
   "source": [
    "ts2.to_period('M')"
   ]
  },
  {
   "cell_type": "code",
   "execution_count": 11,
   "metadata": {},
   "outputs": [],
   "source": [
    "pts = ts2.to_period()"
   ]
  },
  {
   "cell_type": "code",
   "execution_count": 12,
   "metadata": {},
   "outputs": [
    {
     "data": {
      "text/plain": [
       "2000-01-29 23:59:59.999999999    0.164940\n",
       "2000-01-30 23:59:59.999999999   -0.185533\n",
       "2000-01-31 23:59:59.999999999    0.690105\n",
       "2000-02-01 23:59:59.999999999    0.401618\n",
       "2000-02-02 23:59:59.999999999   -0.912762\n",
       "2000-02-03 23:59:59.999999999   -1.768497\n",
       "Freq: D, dtype: float64"
      ]
     },
     "execution_count": 12,
     "metadata": {},
     "output_type": "execute_result"
    }
   ],
   "source": [
    "pts.to_timestamp(how='end')"
   ]
  },
  {
   "cell_type": "markdown",
   "metadata": {},
   "source": [
    "# Creating a PeriodIndex from Arrays \n",
    "Fixed frequency datasets are sometimes stored with timespan information spread across multiple columns. For example, \n",
    "in ths macroeconomic dataset, the year and quarter are in different columns: \n",
    "\n",
    "```python"
   ]
  },
  {
   "cell_type": "code",
   "execution_count": 13,
   "metadata": {},
   "outputs": [
    {
     "data": {
      "text/html": [
       "<div>\n",
       "<style scoped>\n",
       "    .dataframe tbody tr th:only-of-type {\n",
       "        vertical-align: middle;\n",
       "    }\n",
       "\n",
       "    .dataframe tbody tr th {\n",
       "        vertical-align: top;\n",
       "    }\n",
       "\n",
       "    .dataframe thead th {\n",
       "        text-align: right;\n",
       "    }\n",
       "</style>\n",
       "<table border=\"1\" class=\"dataframe\">\n",
       "  <thead>\n",
       "    <tr style=\"text-align: right;\">\n",
       "      <th></th>\n",
       "      <th>UNRATE</th>\n",
       "    </tr>\n",
       "    <tr>\n",
       "      <th>DATE</th>\n",
       "      <th></th>\n",
       "    </tr>\n",
       "  </thead>\n",
       "  <tbody>\n",
       "    <tr>\n",
       "      <th>2000-01-01</th>\n",
       "      <td>4.0</td>\n",
       "    </tr>\n",
       "    <tr>\n",
       "      <th>2000-02-01</th>\n",
       "      <td>4.1</td>\n",
       "    </tr>\n",
       "    <tr>\n",
       "      <th>2000-03-01</th>\n",
       "      <td>4.0</td>\n",
       "    </tr>\n",
       "    <tr>\n",
       "      <th>2000-04-01</th>\n",
       "      <td>3.8</td>\n",
       "    </tr>\n",
       "    <tr>\n",
       "      <th>2000-05-01</th>\n",
       "      <td>4.0</td>\n",
       "    </tr>\n",
       "    <tr>\n",
       "      <th>...</th>\n",
       "      <td>...</td>\n",
       "    </tr>\n",
       "    <tr>\n",
       "      <th>2015-09-01</th>\n",
       "      <td>5.0</td>\n",
       "    </tr>\n",
       "    <tr>\n",
       "      <th>2015-10-01</th>\n",
       "      <td>5.0</td>\n",
       "    </tr>\n",
       "    <tr>\n",
       "      <th>2015-11-01</th>\n",
       "      <td>5.1</td>\n",
       "    </tr>\n",
       "    <tr>\n",
       "      <th>2015-12-01</th>\n",
       "      <td>5.0</td>\n",
       "    </tr>\n",
       "    <tr>\n",
       "      <th>2016-01-01</th>\n",
       "      <td>4.8</td>\n",
       "    </tr>\n",
       "  </tbody>\n",
       "</table>\n",
       "<p>193 rows × 1 columns</p>\n",
       "</div>"
      ],
      "text/plain": [
       "            UNRATE\n",
       "DATE              \n",
       "2000-01-01     4.0\n",
       "2000-02-01     4.1\n",
       "2000-03-01     4.0\n",
       "2000-04-01     3.8\n",
       "2000-05-01     4.0\n",
       "...            ...\n",
       "2015-09-01     5.0\n",
       "2015-10-01     5.0\n",
       "2015-11-01     5.1\n",
       "2015-12-01     5.0\n",
       "2016-01-01     4.8\n",
       "\n",
       "[193 rows x 1 columns]"
      ]
     },
     "execution_count": 13,
     "metadata": {},
     "output_type": "execute_result"
    }
   ],
   "source": [
    "# Create macroeconomic time series data \n",
    "# The Federal Reserve Bank of St. Louis publishes macroeconomic time series data,\n",
    "# which can be accessed through a Python API.\n",
    "# The following code fetches the annual unemployment rate from 2000 to 2016:\n",
    "import pandas as pd\n",
    "import pandas_datareader.data as web\n",
    "import datetime\n",
    "start = datetime.datetime(2000, 1, 1)\n",
    "end = datetime.datetime(2016, 1, 1)\n",
    "unemp = web.DataReader('UNRATE', 'fred', start, end)\n",
    "unemp"
   ]
  },
  {
   "cell_type": "code",
   "execution_count": 14,
   "metadata": {},
   "outputs": [
    {
     "data": {
      "text/plain": [
       "<Axes: xlabel='DATE'>"
      ]
     },
     "execution_count": 14,
     "metadata": {},
     "output_type": "execute_result"
    },
    {
     "data": {
      "image/png": "[encoded data removed]",
      "text/plain": [
       "<Figure size 640x480 with 1 Axes>"
      ]
     },
     "metadata": {},
     "output_type": "display_data"
    }
   ],
   "source": [
    "unemp.plot()"
   ]
  },
  {
   "cell_type": "code",
   "execution_count": 17,
   "metadata": {},
   "outputs": [
    {
     "data": {
      "text/html": [
       "<div>\n",
       "<style scoped>\n",
       "    .dataframe tbody tr th:only-of-type {\n",
       "        vertical-align: middle;\n",
       "    }\n",
       "\n",
       "    .dataframe tbody tr th {\n",
       "        vertical-align: top;\n",
       "    }\n",
       "\n",
       "    .dataframe thead th {\n",
       "        text-align: right;\n",
       "    }\n",
       "</style>\n",
       "<table border=\"1\" class=\"dataframe\">\n",
       "  <thead>\n",
       "    <tr style=\"text-align: right;\">\n",
       "      <th></th>\n",
       "      <th>UNRATE</th>\n",
       "    </tr>\n",
       "    <tr>\n",
       "      <th>DATE</th>\n",
       "      <th></th>\n",
       "    </tr>\n",
       "  </thead>\n",
       "  <tbody>\n",
       "    <tr>\n",
       "      <th>2000-01-01</th>\n",
       "      <td>4.0</td>\n",
       "    </tr>\n",
       "    <tr>\n",
       "      <th>2000-02-01</th>\n",
       "      <td>4.1</td>\n",
       "    </tr>\n",
       "    <tr>\n",
       "      <th>2000-03-01</th>\n",
       "      <td>4.0</td>\n",
       "    </tr>\n",
       "    <tr>\n",
       "      <th>2000-04-01</th>\n",
       "      <td>3.8</td>\n",
       "    </tr>\n",
       "    <tr>\n",
       "      <th>2000-05-01</th>\n",
       "      <td>4.0</td>\n",
       "    </tr>\n",
       "  </tbody>\n",
       "</table>\n",
       "</div>"
      ],
      "text/plain": [
       "            UNRATE\n",
       "DATE              \n",
       "2000-01-01     4.0\n",
       "2000-02-01     4.1\n",
       "2000-03-01     4.0\n",
       "2000-04-01     3.8\n",
       "2000-05-01     4.0"
      ]
     },
     "execution_count": 17,
     "metadata": {},
     "output_type": "execute_result"
    }
   ],
   "source": [
    "unemp.head()"
   ]
  },
  {
   "cell_type": "code",
   "execution_count": 20,
   "metadata": {},
   "outputs": [
    {
     "data": {
      "text/html": [
       "<div>\n",
       "<style scoped>\n",
       "    .dataframe tbody tr th:only-of-type {\n",
       "        vertical-align: middle;\n",
       "    }\n",
       "\n",
       "    .dataframe tbody tr th {\n",
       "        vertical-align: top;\n",
       "    }\n",
       "\n",
       "    .dataframe thead th {\n",
       "        text-align: right;\n",
       "    }\n",
       "</style>\n",
       "<table border=\"1\" class=\"dataframe\">\n",
       "  <thead>\n",
       "    <tr style=\"text-align: right;\">\n",
       "      <th></th>\n",
       "      <th>UNRATE</th>\n",
       "    </tr>\n",
       "    <tr>\n",
       "      <th>DATE</th>\n",
       "      <th></th>\n",
       "    </tr>\n",
       "  </thead>\n",
       "  <tbody>\n",
       "    <tr>\n",
       "      <th>2000-01-01</th>\n",
       "      <td>4.0</td>\n",
       "    </tr>\n",
       "    <tr>\n",
       "      <th>2000-02-01</th>\n",
       "      <td>4.1</td>\n",
       "    </tr>\n",
       "    <tr>\n",
       "      <th>2000-03-01</th>\n",
       "      <td>4.0</td>\n",
       "    </tr>\n",
       "    <tr>\n",
       "      <th>2000-04-01</th>\n",
       "      <td>3.8</td>\n",
       "    </tr>\n",
       "    <tr>\n",
       "      <th>2000-05-01</th>\n",
       "      <td>4.0</td>\n",
       "    </tr>\n",
       "    <tr>\n",
       "      <th>...</th>\n",
       "      <td>...</td>\n",
       "    </tr>\n",
       "    <tr>\n",
       "      <th>2015-09-01</th>\n",
       "      <td>5.0</td>\n",
       "    </tr>\n",
       "    <tr>\n",
       "      <th>2015-10-01</th>\n",
       "      <td>5.0</td>\n",
       "    </tr>\n",
       "    <tr>\n",
       "      <th>2015-11-01</th>\n",
       "      <td>5.1</td>\n",
       "    </tr>\n",
       "    <tr>\n",
       "      <th>2015-12-01</th>\n",
       "      <td>5.0</td>\n",
       "    </tr>\n",
       "    <tr>\n",
       "      <th>2016-01-01</th>\n",
       "      <td>4.8</td>\n",
       "    </tr>\n",
       "  </tbody>\n",
       "</table>\n",
       "<p>193 rows × 1 columns</p>\n",
       "</div>"
      ],
      "text/plain": [
       "            UNRATE\n",
       "DATE              \n",
       "2000-01-01     4.0\n",
       "2000-02-01     4.1\n",
       "2000-03-01     4.0\n",
       "2000-04-01     3.8\n",
       "2000-05-01     4.0\n",
       "...            ...\n",
       "2015-09-01     5.0\n",
       "2015-10-01     5.0\n",
       "2015-11-01     5.1\n",
       "2015-12-01     5.0\n",
       "2016-01-01     4.8\n",
       "\n",
       "[193 rows x 1 columns]"
      ]
     },
     "execution_count": 20,
     "metadata": {},
     "output_type": "execute_result"
    }
   ],
   "source": [
    "unemp"
   ]
  },
  {
   "cell_type": "code",
   "execution_count": 23,
   "metadata": {},
   "outputs": [],
   "source": [
    "# By passing these arrays to PeriodIndex with a frequency, you can combine them to form an index for the DataFrame:\n",
    "unemp['Date'] = pd.to_datetime(unemp.index)"
   ]
  },
  {
   "cell_type": "code",
   "execution_count": 24,
   "metadata": {},
   "outputs": [
    {
     "data": {
      "text/plain": [
       "DATE\n",
       "2000-01-01   2000-01-01\n",
       "2000-02-01   2000-02-01\n",
       "2000-03-01   2000-03-01\n",
       "2000-04-01   2000-04-01\n",
       "2000-05-01   2000-05-01\n",
       "                ...    \n",
       "2015-09-01   2015-09-01\n",
       "2015-10-01   2015-10-01\n",
       "2015-11-01   2015-11-01\n",
       "2015-12-01   2015-12-01\n",
       "2016-01-01   2016-01-01\n",
       "Name: Date, Length: 193, dtype: datetime64[ns]"
      ]
     },
     "execution_count": 24,
     "metadata": {},
     "output_type": "execute_result"
    }
   ],
   "source": [
    "unemp['Date']"
   ]
  },
  {
   "cell_type": "code",
   "execution_count": 25,
   "metadata": {},
   "outputs": [],
   "source": [
    "index = pd.PeriodIndex(year=unemp['Date'].dt.year, quarter=unemp['Date'].dt.quarter, freq='Q-DEC')"
   ]
  },
  {
   "cell_type": "code",
   "execution_count": 26,
   "metadata": {},
   "outputs": [
    {
     "data": {
      "text/plain": [
       "PeriodIndex(['2000Q1', '2000Q1', '2000Q1', '2000Q2', '2000Q2', '2000Q2',\n",
       "             '2000Q3', '2000Q3', '2000Q3', '2000Q4',\n",
       "             ...\n",
       "             '2015Q2', '2015Q2', '2015Q2', '2015Q3', '2015Q3', '2015Q3',\n",
       "             '2015Q4', '2015Q4', '2015Q4', '2016Q1'],\n",
       "            dtype='period[Q-DEC]', length=193)"
      ]
     },
     "execution_count": 26,
     "metadata": {},
     "output_type": "execute_result"
    }
   ],
   "source": [
    "index"
   ]
  },
  {
   "cell_type": "markdown",
   "metadata": {},
   "source": [
    "# Resampling and Frequency Conversion \n",
    "Resampling refers to the process of converting a time series from one frequency to another. Aggregating higher frequency data to lower frequency is called downsampling, while converting lower frequency to higher frequency is called unsampling. \n",
    "\n",
    "```python"
   ]
  },
  {
   "cell_type": "code",
   "execution_count": 2,
   "metadata": {},
   "outputs": [],
   "source": [
    "# pandas objects are equipped with a resample method, which is the workhorse function for frequency conversion. \n",
    "import pandas as pd \n",
    "rng = pd.date_range('1/1/2000', periods=100, freq='D') "
   ]
  },
  {
   "cell_type": "code",
   "execution_count": 5,
   "metadata": {},
   "outputs": [],
   "source": [
    "from pandas import Series, DataFrame \n",
    "import numpy as np \n",
    "ts = Series(np.random.randn(len(rng)), index=rng)"
   ]
  },
  {
   "cell_type": "code",
   "execution_count": 7,
   "metadata": {},
   "outputs": [
    {
     "data": {
      "text/plain": [
       "2000-01-31   -0.417443\n",
       "2000-02-29   -0.059816\n",
       "2000-03-31   -0.014102\n",
       "2000-04-30   -0.037043\n",
       "Freq: M, dtype: float64"
      ]
     },
     "execution_count": 7,
     "metadata": {},
     "output_type": "execute_result"
    }
   ],
   "source": [
    "ts.resample('M').mean()"
   ]
  },
  {
   "cell_type": "code",
   "execution_count": 9,
   "metadata": {},
   "outputs": [
    {
     "data": {
      "text/plain": [
       "2000-01   -0.417443\n",
       "2000-02   -0.059816\n",
       "2000-03   -0.014102\n",
       "2000-04   -0.037043\n",
       "Freq: M, dtype: float64"
      ]
     },
     "execution_count": 9,
     "metadata": {},
     "output_type": "execute_result"
    }
   ],
   "source": [
    "ts.resample('M', kind='period').mean() "
   ]
  },
  {
   "cell_type": "code",
   "execution_count": 10,
   "metadata": {},
   "outputs": [],
   "source": [
    "# resample is a flexible and high-performance method that can be used to process very large time series. \n",
    "# The following table summarizes the main options available in resample:\n",
    "# Argument      Description\n",
    "# freq          String or DateOffset indicating desired resampled frequency\n",
    "# how           String indicating aggregation method (e.g., 'mean', 'ohlc', 'sum', 'last', 'first', 'median')\n",
    "# axis          default 0\n",
    "# fill_method='None'    For downsampling, specify how to interpolate when resampling\n",
    "# closed='right'        For downsampling, specify which end of the interval is closed\n",
    "# label='right'         For downsampling, specify which end of the interval is labeled\n",
    "# loffset='None'       Time adjustment to the bin edge\n",
    "# limit='None'         For downsampling, the maximum number of periods to resample\n",
    "# kind          Period or timestamp resampling\n",
    "# convention    For PeriodIndex only, whether to return the start or end of the interval\n",
    "# base          For start day or month frequency, the day of the month to anchor the subperiods\n",
    "# on            For timestamp resampling, the timestamp to use for anchoring the subperiods"
   ]
  },
  {
   "cell_type": "markdown",
   "metadata": {},
   "source": [
    "# Downsampling\n",
    "Aggregating data to a regular, lower frequency is a pretty normal time series task. The data you're aggregating doesn't need to be fixed frequently. The desired frequency defines bin edges that are used to slice the time series into pieces to aggregate. \n",
    "\n",
    "```python"
   ]
  },
  {
   "cell_type": "code",
   "execution_count": 11,
   "metadata": {},
   "outputs": [],
   "source": [
    "# For example to convert to monthly \"M\" or \"BM\", the data need to chopped up into one month intervals. \n",
    "# Each interval is said to be half-open, meaning that it includes the start time but not the end time. \n",
    "# the union of the intervals is the whole time period. \n",
    "# There are a couple things to think about when using resample to downsample data: \n",
    "# Which side of each interval is closed\n",
    "# How to label each aggregated bin, either with the start of the interval or the end\n",
    "# To illustrate, suppose you have a DataFrame with daily data and you want to aggregate to monthly data.\n",
    "# The default resampling behavior is to label the right side of the bin.\n",
    "# To change this to the left, you can pass closed='left':\n",
    "rng = pd.date_range('1/1/2000', periods=12, freq='T') "
   ]
  },
  {
   "cell_type": "code",
   "execution_count": 13,
   "metadata": {},
   "outputs": [],
   "source": [
    "ts = Series(np.arange(12), index=rng)"
   ]
  },
  {
   "cell_type": "code",
   "execution_count": 34,
   "metadata": {},
   "outputs": [
    {
     "data": {
      "text/plain": [
       "2000-01-01 00:00:00     0\n",
       "2000-01-01 00:01:00     1\n",
       "2000-01-01 00:02:00     2\n",
       "2000-01-01 00:03:00     3\n",
       "2000-01-01 00:04:00     4\n",
       "2000-01-01 00:05:00     5\n",
       "2000-01-01 00:06:00     6\n",
       "2000-01-01 00:07:00     7\n",
       "2000-01-01 00:08:00     8\n",
       "2000-01-01 00:09:00     9\n",
       "2000-01-01 00:10:00    10\n",
       "2000-01-01 00:11:00    11\n",
       "Freq: T, dtype: int64"
      ]
     },
     "execution_count": 34,
     "metadata": {},
     "output_type": "execute_result"
    }
   ],
   "source": [
    "ts"
   ]
  },
  {
   "cell_type": "code",
   "execution_count": 35,
   "metadata": {},
   "outputs": [
    {
     "data": {
      "text/plain": [
       "1999-12-31 23:55:00     0\n",
       "2000-01-01 00:00:00    15\n",
       "2000-01-01 00:05:00    40\n",
       "2000-01-01 00:10:00    11\n",
       "Freq: 5T, dtype: int64"
      ]
     },
     "execution_count": 35,
     "metadata": {},
     "output_type": "execute_result"
    }
   ],
   "source": [
    "# suppose you wanted to aggregate this data into five-minute chunks or bars by taking the sum of each group:\n",
    "ts.resample('5min', closed='right').sum() "
   ]
  },
  {
   "cell_type": "code",
   "execution_count": 15,
   "metadata": {},
   "outputs": [
    {
     "data": {
      "text/plain": [
       "2000-01-01 00:00:00     0\n",
       "2000-01-01 00:05:00    15\n",
       "2000-01-01 00:10:00    40\n",
       "2000-01-01 00:15:00    11\n",
       "Freq: 5T, dtype: int64"
      ]
     },
     "execution_count": 15,
     "metadata": {},
     "output_type": "execute_result"
    }
   ],
   "source": [
    "# As you can see, the resulting time series is labeled by the timestamps from the left side of each bin. \n",
    "# By passing label='right', you can label them with the right bin edge:\n",
    "ts.resample('5min', closed='right', label='right').sum() "
   ]
  },
  {
   "cell_type": "markdown",
   "metadata": {},
   "source": [
    "![](resampling_illustration.png)"
   ]
  },
  {
   "cell_type": "code",
   "execution_count": 17,
   "metadata": {},
   "outputs": [
    {
     "name": "stderr",
     "output_type": "stream",
     "text": [
      "/var/folders/vq/73zp4qns2cjdsxcw0bzvh98w0000gn/T/ipykernel_93881/2222590962.py:1: FutureWarning: 'loffset' in .resample() and in Grouper() is deprecated.\n",
      "\n",
      ">>> df.resample(freq=\"3s\", loffset=\"8H\")\n",
      "\n",
      "becomes:\n",
      "\n",
      ">>> from pandas.tseries.frequencies import to_offset\n",
      ">>> df = df.resample(freq=\"3s\").mean()\n",
      ">>> df.index = df.index.to_timestamp() + to_offset(\"8H\")\n",
      "\n",
      "  ts.resample('5min', loffset='-1s')\n"
     ]
    },
    {
     "data": {
      "text/plain": [
       "2000-01-01 00:00:00    10\n",
       "2000-01-01 00:05:00    35\n",
       "2000-01-01 00:10:00    21\n",
       "Freq: 5T, dtype: int64"
      ]
     },
     "execution_count": 17,
     "metadata": {},
     "output_type": "execute_result"
    }
   ],
   "source": [
    "ts.resample('5min', loffset='-1s')\n",
    "# This also could have been written as:\n",
    "ts.resample('5min').sum()"
   ]
  },
  {
   "cell_type": "markdown",
   "metadata": {},
   "source": [
    "# Open-High-Low-Close(OHLC) resampling "
   ]
  },
  {
   "cell_type": "code",
   "execution_count": 19,
   "metadata": {},
   "outputs": [
    {
     "data": {
      "text/html": [
       "<div>\n",
       "<style scoped>\n",
       "    .dataframe tbody tr th:only-of-type {\n",
       "        vertical-align: middle;\n",
       "    }\n",
       "\n",
       "    .dataframe tbody tr th {\n",
       "        vertical-align: top;\n",
       "    }\n",
       "\n",
       "    .dataframe thead th {\n",
       "        text-align: right;\n",
       "    }\n",
       "</style>\n",
       "<table border=\"1\" class=\"dataframe\">\n",
       "  <thead>\n",
       "    <tr style=\"text-align: right;\">\n",
       "      <th></th>\n",
       "      <th>open</th>\n",
       "      <th>high</th>\n",
       "      <th>low</th>\n",
       "      <th>close</th>\n",
       "    </tr>\n",
       "  </thead>\n",
       "  <tbody>\n",
       "    <tr>\n",
       "      <th>2000-01-01 00:00:00</th>\n",
       "      <td>0</td>\n",
       "      <td>4</td>\n",
       "      <td>0</td>\n",
       "      <td>4</td>\n",
       "    </tr>\n",
       "    <tr>\n",
       "      <th>2000-01-01 00:05:00</th>\n",
       "      <td>5</td>\n",
       "      <td>9</td>\n",
       "      <td>5</td>\n",
       "      <td>9</td>\n",
       "    </tr>\n",
       "    <tr>\n",
       "      <th>2000-01-01 00:10:00</th>\n",
       "      <td>10</td>\n",
       "      <td>11</td>\n",
       "      <td>10</td>\n",
       "      <td>11</td>\n",
       "    </tr>\n",
       "  </tbody>\n",
       "</table>\n",
       "</div>"
      ],
      "text/plain": [
       "                     open  high  low  close\n",
       "2000-01-01 00:00:00     0     4    0      4\n",
       "2000-01-01 00:05:00     5     9    5      9\n",
       "2000-01-01 00:10:00    10    11   10     11"
      ]
     },
     "execution_count": 19,
     "metadata": {},
     "output_type": "execute_result"
    }
   ],
   "source": [
    "# In finance, an ubiquitous time series transformation is to compute the cumulative sum of returns. \n",
    "# This can be done with the cumsum method and then reindexed with resample: \n",
    "ts.resample('5min').ohlc() "
   ]
  },
  {
   "cell_type": "code",
   "execution_count": 1,
   "metadata": {},
   "outputs": [],
   "source": [
    "import pandas as pd \n",
    "import numpy as np\n",
    "rng = pd.date_range('1/1/2000', periods=100, freq='D') "
   ]
  },
  {
   "cell_type": "code",
   "execution_count": null,
   "metadata": {},
   "outputs": [],
   "source": []
  }
 ],
 "metadata": {
  "kernelspec": {
   "display_name": "base",
   "language": "python",
   "name": "python3"
  },
  "language_info": {
   "codemirror_mode": {
    "name": "ipython",
    "version": 3
   },
   "file_extension": ".py",
   "mimetype": "text/x-python",
   "name": "python",
   "nbconvert_exporter": "python",
   "pygments_lexer": "ipython3",
   "version": "3.11.4"
  }
 },
 "nbformat": 4,
 "nbformat_minor": 2
}
