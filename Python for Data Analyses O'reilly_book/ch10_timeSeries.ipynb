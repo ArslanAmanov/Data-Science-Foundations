{
 "cells": [
  {
   "cell_type": "markdown",
   "metadata": {},
   "source": [
    "# Time Series"
   ]
  },
  {
   "cell_type": "code",
   "execution_count": 1,
   "metadata": {},
   "outputs": [],
   "source": [
    "# Time Series data is an important form of structured data in many different fields, such as finance,economics,ecology, neuroscience, and physics. Anything that is observed or measured at many points in time forms a time series. Many time series are fixed frequency, which is to say that data points occur at regular intervals according to some rule, such as every 15 seconds, every 5 minutes, or once per month. Time series can also be irregular without a fixed unit of time or offset between units. How you mark and refer to time series data depends on the application, and you may have one of the following:\n",
    "# Timestamps, specific instants in time \n",
    "# Fixed periods, such as the month January 2007 or the full year 2010\n",
    "# Intervals of time, indicated by a start and end timestamp. Periods can be thought of as special cases of intervals\n",
    "# Experiment or elapsed time; each timestamp is a measure of time relative to a particular start time (e.g., the diameter of a cookie baking each second since being placed in the oven)"
   ]
  },
  {
   "cell_type": "markdown",
   "metadata": {},
   "source": [
    "# Date and Time Data Types and Tools"
   ]
  },
  {
   "cell_type": "code",
   "execution_count": 2,
   "metadata": {},
   "outputs": [
    {
     "name": "stdout",
     "output_type": "stream",
     "text": [
      "2024-01-30 16:36:36.265225\n"
     ]
    }
   ],
   "source": [
    "#  The python standard library includes data types for date and time data, as well as calendar-related functionality.\n",
    "# The datetime, time, and calendar modules are the main places to start. The datetime.datetime type or simply datetime is widely used:\n",
    "from datetime import datetime\n",
    "now = datetime.now()\n",
    "print(now)"
   ]
  },
  {
   "cell_type": "code",
   "execution_count": 3,
   "metadata": {},
   "outputs": [
    {
     "data": {
      "text/plain": [
       "(2024, 1, 30)"
      ]
     },
     "execution_count": 3,
     "metadata": {},
     "output_type": "execute_result"
    }
   ],
   "source": [
    "now.year, now.month, now.day "
   ]
  },
  {
   "cell_type": "code",
   "execution_count": 4,
   "metadata": {},
   "outputs": [],
   "source": [
    "# datetime stores both the date and time down to the microsecond. datetime.timedelta represents the temporal difference between tow datetime objects\"ch6_data loading_storage and file formats.ipynb\n",
    "delta = datetime(2011,1,7) - datetime(2008,6,24,8,15) # 2011-01-07 00:00:00 - 2008-06-24 08:15:00 = 926 days, 15:45:00"
   ]
  },
  {
   "cell_type": "code",
   "execution_count": 5,
   "metadata": {},
   "outputs": [
    {
     "data": {
      "text/plain": [
       "926"
      ]
     },
     "execution_count": 5,
     "metadata": {},
     "output_type": "execute_result"
    }
   ],
   "source": [
    "delta.days"
   ]
  },
  {
   "cell_type": "code",
   "execution_count": 6,
   "metadata": {},
   "outputs": [
    {
     "data": {
      "text/plain": [
       "56700"
      ]
     },
     "execution_count": 6,
     "metadata": {},
     "output_type": "execute_result"
    }
   ],
   "source": [
    "delta.seconds"
   ]
  },
  {
   "cell_type": "code",
   "execution_count": 7,
   "metadata": {},
   "outputs": [],
   "source": [
    "# you can add (or substract) a timedelta or multiple thereof to a datetime object to yield a new shifted object:\n",
    "from datetime import timedelta \n",
    "start = datetime(2011,1,7)"
   ]
  },
  {
   "cell_type": "code",
   "execution_count": 12,
   "metadata": {},
   "outputs": [
    {
     "data": {
      "text/plain": [
       "datetime.datetime(2011, 1, 19, 0, 0)"
      ]
     },
     "execution_count": 12,
     "metadata": {},
     "output_type": "execute_result"
    }
   ],
   "source": [
    "from datetime import datetime \n",
    "start + timedelta(12) # 2011-01-19 00:00:00 "
   ]
  },
  {
   "cell_type": "code",
   "execution_count": 13,
   "metadata": {},
   "outputs": [],
   "source": [
    "# Types in datetime module \n",
    "# date stores the calendar date(year, month, day) using the Gregorian calendar \n",
    "# time stores the time as hours, minutes, seconds, and microseconds\n",
    "# datetime stores both date and time\n",
    "# timedelta represents the difference between two datetime values as days, seconds, and microseconds"
   ]
  },
  {
   "cell_type": "markdown",
   "metadata": {},
   "source": [
    "# Converting between string and datetime \n",
    "\n",
    "datetime objects and pandas Timestamp objects can be converted to one another very easily:\n",
    "\n",
    "```python"
   ]
  },
  {
   "cell_type": "code",
   "execution_count": 14,
   "metadata": {},
   "outputs": [
    {
     "data": {
      "text/plain": [
       "'2024-01-30 16:48:01.991575'"
      ]
     },
     "execution_count": 14,
     "metadata": {},
     "output_type": "execute_result"
    }
   ],
   "source": [
    "from turtle import stamp\n",
    "\n",
    "\n",
    "stamp = datetime.now() # 2019-11-05 15:54:00.000000\n",
    "str(stamp) # '2019-11-05 15:54:00.000000' "
   ]
  },
  {
   "cell_type": "code",
   "execution_count": 15,
   "metadata": {},
   "outputs": [
    {
     "data": {
      "text/plain": [
       "'2024-01-30'"
      ]
     },
     "execution_count": 15,
     "metadata": {},
     "output_type": "execute_result"
    }
   ],
   "source": [
    "stamp.strftime('%Y-%m-%d') # '2019-11-05' "
   ]
  },
  {
   "cell_type": "code",
   "execution_count": 16,
   "metadata": {},
   "outputs": [],
   "source": [
    "# for a complete list of the format codes. These same format codes can be used to convert strings to dates using datetime.strptime: \n",
    "value = '2011-01-03'"
   ]
  },
  {
   "cell_type": "code",
   "execution_count": 17,
   "metadata": {},
   "outputs": [
    {
     "data": {
      "text/plain": [
       "datetime.datetime(2011, 1, 3, 0, 0)"
      ]
     },
     "execution_count": 17,
     "metadata": {},
     "output_type": "execute_result"
    }
   ],
   "source": [
    "datetime.strptime(value, '%Y-%m-%d') # datetime.datetime(2011, 1, 3, 0, 0) "
   ]
  },
  {
   "cell_type": "code",
   "execution_count": 18,
   "metadata": {},
   "outputs": [],
   "source": [
    "datestrs= ['7/6/2011', '8/6/2011']"
   ]
  },
  {
   "cell_type": "code",
   "execution_count": 19,
   "metadata": {},
   "outputs": [
    {
     "data": {
      "text/plain": [
       "['7/6/2011', '8/6/2011']"
      ]
     },
     "execution_count": 19,
     "metadata": {},
     "output_type": "execute_result"
    }
   ],
   "source": [
    "datestrs "
   ]
  },
  {
   "cell_type": "code",
   "execution_count": 20,
   "metadata": {},
   "outputs": [
    {
     "data": {
      "text/plain": [
       "[datetime.datetime(2011, 7, 6, 0, 0), datetime.datetime(2011, 8, 6, 0, 0)]"
      ]
     },
     "execution_count": 20,
     "metadata": {},
     "output_type": "execute_result"
    }
   ],
   "source": [
    "[datetime.strptime(x, '%m/%d/%Y') for x in datestrs] # [datetime.datetime(2011, 7, 6, 0, 0), datetime.datetime(2011, 8, 6, 0, 0)] \n"
   ]
  },
  {
   "cell_type": "code",
   "execution_count": 21,
   "metadata": {},
   "outputs": [
    {
     "data": {
      "text/plain": [
       "datetime.datetime(2011, 1, 3, 0, 0)"
      ]
     },
     "execution_count": 21,
     "metadata": {},
     "output_type": "execute_result"
    }
   ],
   "source": [
    "# datetime.strptime is the best way to parse a date with a known format. However, it can be a bit annoying to have to \n",
    "# write a format spec each time, especially for common date formats. \n",
    "# In this case, you can use the parser.parse method in the third-party dateutil package (this is installed automatically when you install pandas): \n",
    "from dateutil.parser import parse \n",
    "parse('2011-01-03') # datetime.datetime(2011, 1, 3, 0, 0) "
   ]
  },
  {
   "cell_type": "code",
   "execution_count": 22,
   "metadata": {},
   "outputs": [
    {
     "data": {
      "text/plain": [
       "datetime.datetime(1997, 1, 31, 22, 45)"
      ]
     },
     "execution_count": 22,
     "metadata": {},
     "output_type": "execute_result"
    }
   ],
   "source": [
    "# dateutil is capable of parsing most human-intelligible date representations: \n",
    "parse('Jan 31, 1997 10:45 PM') # datetime.datetime(1997, 1, 31, 22, 45) "
   ]
  },
  {
   "cell_type": "code",
   "execution_count": 23,
   "metadata": {},
   "outputs": [
    {
     "data": {
      "text/plain": [
       "datetime.datetime(2011, 12, 6, 0, 0)"
      ]
     },
     "execution_count": 23,
     "metadata": {},
     "output_type": "execute_result"
    }
   ],
   "source": [
    "# In internationally locales, day apprearing before month is very common, so you can pass dayfirst=True to indicate this:\n",
    "parse('6/12/2011', dayfirst=True) # datetime.datetime(2011, 12, 6, 0, 0) "
   ]
  },
  {
   "cell_type": "code",
   "execution_count": 24,
   "metadata": {},
   "outputs": [],
   "source": [
    "# pandas is generally oriented toward working with arrays of dates, whether used as an axis index or a column in a DataFrame.\n",
    "# The to_datetime method parses many different kinds of date representations. Standard date formats like ISO 8601 can be parsed very quickly: \n",
    "import pandas as pd \n",
    "datestrs = ['2011-07-06 12:00:00', '2011-08-06 00:00:00'] "
   ]
  },
  {
   "cell_type": "code",
   "execution_count": 25,
   "metadata": {},
   "outputs": [
    {
     "data": {
      "text/plain": [
       "DatetimeIndex(['2011-07-06 12:00:00', '2011-08-06 00:00:00'], dtype='datetime64[ns]', freq=None)"
      ]
     },
     "execution_count": 25,
     "metadata": {},
     "output_type": "execute_result"
    }
   ],
   "source": [
    "pd.to_datetime(datestrs) # DatetimeIndex(['2011-07-06 12:00:00', '2011-08-06'], dtype='datetime64[ns]', freq=None) "
   ]
  },
  {
   "cell_type": "code",
   "execution_count": 26,
   "metadata": {},
   "outputs": [],
   "source": [
    "# It also handles values that should be considered missing (None, empty string, etc.): \n",
    "idx = pd.to_datetime(datestrs + [None]) "
   ]
  },
  {
   "cell_type": "code",
   "execution_count": 27,
   "metadata": {},
   "outputs": [
    {
     "data": {
      "text/plain": [
       "DatetimeIndex(['2011-07-06 12:00:00', '2011-08-06 00:00:00', 'NaT'], dtype='datetime64[ns]', freq=None)"
      ]
     },
     "execution_count": 27,
     "metadata": {},
     "output_type": "execute_result"
    }
   ],
   "source": [
    "idx"
   ]
  },
  {
   "cell_type": "code",
   "execution_count": 28,
   "metadata": {},
   "outputs": [],
   "source": [
    "# Datetime format specification (ISO C89 compatible) \n",
    "# %Y 4-digit year\n",
    "# %y 2-digit year\n",
    "# %m 2-digit month [01,12]\n",
    "# %d 2-digit day [01,31]\n",
    "# %H Hour (24-hour clock)[00,23]\n",
    "# %I Hour (12-hour clock)[01,12]\n",
    "# %M 2-digit minute [00,59]\n",
    "# %S Second [00,61] (seconds 60,61 account for leap seconds)\n",
    "# %w Weekday as integer [0(Sunday),6]\n",
    "# %U Week number of the year [00,53]; Sunday is considered the first day of the week, and days before the first Sunday of the year are “week 0”\n",
    "# %W Week number of the year [00,53]; Monday is considered the first day of the week, and days before the first Monday of the year are “week 0”\n",
    "# %z UTC time zone offset as +HHMM or -HHMM; empty if time zone naive\n",
    "# %F Shortcut for %Y-%m-%d (e.g., 2012-4-18)\n",
    "# %D Shortcut for %m/%d/%y (e.g., 04/18/12)"
   ]
  },
  {
   "cell_type": "code",
   "execution_count": 29,
   "metadata": {},
   "outputs": [
    {
     "data": {
      "text/plain": [
       "Timestamp('2011-07-06 12:00:00')"
      ]
     },
     "execution_count": 29,
     "metadata": {},
     "output_type": "execute_result"
    }
   ],
   "source": [
    "#datetime objects also have a number of locale-specific formatting options for systems in other countries or languages. \n",
    "# For example, in German, the day appears before the month:\n",
    "# 2011-03-12 04:00:00 PM -> 12.03.2011 16:00:00\n",
    "# The German locale (and others) can be indicated in pandas like so:\n",
    "pd.to_datetime(datestrs[0], dayfirst=True) # Timestamp('2011-06-07 12:00:00')"
   ]
  },
  {
   "cell_type": "code",
   "execution_count": 30,
   "metadata": {},
   "outputs": [],
   "source": [
    "# Locale - specific date formatting \n",
    "# %a Weekday as locale’s abbreviated name. Sun, Mon, ..., Sat (en_US); So, Mo, ..., Sa (de_DE)\n",
    "# %A Weekday as locale’s full name. Sunday, Monday, ..., Saturday (en_US); Sonntag, Montag, ..., Samstag (de_DE)\n",
    "# %b Month as locale’s abbreviated name. Jan, Feb, ..., Dec (en_US); Jan, Feb, ..., Dez (de_DE)\n",
    "# %B Month as locale’s full name. January, February, ..., December (en_US); Januar, Februar, ..., Dezember (de_DE)\n",
    "# %c Locale’s appropriate date and time representation. Tue Aug 16 21:30:00 1988 (en_US); Di 16 Aug 21:30:00 1988 (de_DE)\n",
    "# %p Locale’s equivalent of either AM or PM. AM, PM (en_US); am, pm (de_DE)\n",
    "# %x Locale’s appropriate date representation. 08/16/88 (None); 08/16/1988 (en_US); 16.08.1988 (de_DE)\n",
    "# %X Locale’s appropriate time representation. 21:30:00 (en_US); 21:30:00 (de_DE)"
   ]
  },
  {
   "cell_type": "markdown",
   "metadata": {},
   "source": [
    "# Time Series Basics \n",
    "The most basic kind of time series object in pandas is a Series indexed by timestamps, which is often represented external to pandas as Python strings or datetime objects: \n",
    "\n",
    "```python"
   ]
  },
  {
   "cell_type": "code",
   "execution_count": 2,
   "metadata": {},
   "outputs": [],
   "source": [
    "from datetime import datetime\n",
    "\n",
    "dates = [datetime(2011,1,2), datetime(2011,1,5), datetime(2011,1,7), datetime(2011,1,8), datetime(2011,1,10), datetime(2011,1,12)]\n"
   ]
  },
  {
   "cell_type": "code",
   "execution_count": 3,
   "metadata": {},
   "outputs": [],
   "source": [
    "from pandas import Series, DataFrame \n",
    "import numpy as np \n",
    "ts = Series (np.random.randn(6), index=dates)"
   ]
  },
  {
   "cell_type": "code",
   "execution_count": 4,
   "metadata": {},
   "outputs": [
    {
     "data": {
      "text/plain": [
       "2011-01-02   -0.191806\n",
       "2011-01-05    1.348229\n",
       "2011-01-07    0.228457\n",
       "2011-01-08    0.941104\n",
       "2011-01-10    2.017281\n",
       "2011-01-12    0.614095\n",
       "dtype: float64"
      ]
     },
     "execution_count": 4,
     "metadata": {},
     "output_type": "execute_result"
    }
   ],
   "source": [
    "ts"
   ]
  },
  {
   "cell_type": "code",
   "execution_count": 5,
   "metadata": {},
   "outputs": [
    {
     "data": {
      "text/plain": [
       "pandas.core.series.Series"
      ]
     },
     "execution_count": 5,
     "metadata": {},
     "output_type": "execute_result"
    }
   ],
   "source": [
    "# Under the hood, these datetime objects have been put in a DatatimeIndex: \n",
    "# and the variable ts is now of type TimeSeries \n",
    "type(ts) # pandas.core.series.Series "
   ]
  },
  {
   "cell_type": "code",
   "execution_count": 6,
   "metadata": {},
   "outputs": [
    {
     "data": {
      "text/plain": [
       "DatetimeIndex(['2011-01-02', '2011-01-05', '2011-01-07', '2011-01-08',\n",
       "               '2011-01-10', '2011-01-12'],\n",
       "              dtype='datetime64[ns]', freq=None)"
      ]
     },
     "execution_count": 6,
     "metadata": {},
     "output_type": "execute_result"
    }
   ],
   "source": [
    "ts.index "
   ]
  },
  {
   "cell_type": "code",
   "execution_count": 7,
   "metadata": {},
   "outputs": [
    {
     "data": {
      "text/plain": [
       "2011-01-02   -0.383613\n",
       "2011-01-05         NaN\n",
       "2011-01-07    0.456914\n",
       "2011-01-08         NaN\n",
       "2011-01-10    4.034562\n",
       "2011-01-12         NaN\n",
       "dtype: float64"
      ]
     },
     "execution_count": 7,
     "metadata": {},
     "output_type": "execute_result"
    }
   ],
   "source": [
    "# Like other Series, arithmetic operations between differently-indexed time series automatically align on the dates: \n",
    "ts + ts[::2] # 2011-01-02 00:00:00   -0.168180\n",
    "            # 2011-01-05 00:00:00         NaN\n",
    "            # 2011-01-07 00:00:00   -0.759805\n",
    "            # 2011-01-08 00:00:00         NaN\n",
    "            # 2011-01-10 00:00:00    0.669935\n",
    "            # 2011-01-12 00:00:00         NaN\n",
    "            # dtype: float64"
   ]
  },
  {
   "cell_type": "code",
   "execution_count": 8,
   "metadata": {},
   "outputs": [
    {
     "data": {
      "text/plain": [
       "dtype('<M8[ns]')"
      ]
     },
     "execution_count": 8,
     "metadata": {},
     "output_type": "execute_result"
    }
   ],
   "source": [
    "# pandas stores timestamps using NumPy's datetime64 data type at the nanosecond resolution: \n",
    "ts.index.dtype # dtype('<M8[ns]') "
   ]
  },
  {
   "cell_type": "code",
   "execution_count": 9,
   "metadata": {},
   "outputs": [],
   "source": [
    "# Scalar values from a DatetimeIndex are pandas Timestamp objects: \n",
    "stamp = ts.index[0] "
   ]
  },
  {
   "cell_type": "code",
   "execution_count": 10,
   "metadata": {},
   "outputs": [
    {
     "data": {
      "text/plain": [
       "Timestamp('2011-01-02 00:00:00')"
      ]
     },
     "execution_count": 10,
     "metadata": {},
     "output_type": "execute_result"
    }
   ],
   "source": [
    "stamp "
   ]
  },
  {
   "cell_type": "code",
   "execution_count": 11,
   "metadata": {},
   "outputs": [],
   "source": [
    "# A Timestamp can be substituted anywhere you would use a datetime object. Additionally, it can store frequency \n",
    "# information (if any) and understands how to do time zone conversions and other kinds of manipulations. "
   ]
  },
  {
   "cell_type": "markdown",
   "metadata": {},
   "source": [
    "# Indexing, Selection, Subsetting"
   ]
  },
  {
   "cell_type": "code",
   "execution_count": 12,
   "metadata": {},
   "outputs": [],
   "source": [
    "# Timeseries is a subclass of Series and thus behaves in the same way with regard to many arithmetic functions: \n",
    "stamp = ts.index[2] # 2011-01-07 00:00:00 "
   ]
  },
  {
   "cell_type": "code",
   "execution_count": 13,
   "metadata": {},
   "outputs": [
    {
     "data": {
      "text/plain": [
       "0.22845706703857016"
      ]
     },
     "execution_count": 13,
     "metadata": {},
     "output_type": "execute_result"
    }
   ],
   "source": [
    "ts[stamp] "
   ]
  },
  {
   "cell_type": "code",
   "execution_count": 14,
   "metadata": {},
   "outputs": [
    {
     "data": {
      "text/plain": [
       "2.0172809964902885"
      ]
     },
     "execution_count": 14,
     "metadata": {},
     "output_type": "execute_result"
    }
   ],
   "source": [
    "# As a convenience, you can also pass a string that is interpretable as a date: \n",
    "ts['1/10/2011'] "
   ]
  },
  {
   "cell_type": "code",
   "execution_count": 15,
   "metadata": {},
   "outputs": [
    {
     "data": {
      "text/plain": [
       "2.0172809964902885"
      ]
     },
     "execution_count": 15,
     "metadata": {},
     "output_type": "execute_result"
    }
   ],
   "source": [
    "ts['20110110']"
   ]
  },
  {
   "cell_type": "code",
   "execution_count": 17,
   "metadata": {},
   "outputs": [],
   "source": [
    "# For longer time series, a year or only a year and month can be passed to easily select slices of data: \n",
    "import pandas as pd \n",
    "longer_ts = Series(np.random.randn(1000), index=pd.date_range('1/1/2000', periods=1000)) "
   ]
  },
  {
   "cell_type": "code",
   "execution_count": 18,
   "metadata": {},
   "outputs": [
    {
     "data": {
      "text/plain": [
       "2000-01-01   -0.594228\n",
       "2000-01-02    0.433961\n",
       "2000-01-03    1.041535\n",
       "2000-01-04   -0.699783\n",
       "2000-01-05    0.638649\n",
       "                ...   \n",
       "2002-09-22   -0.231598\n",
       "2002-09-23   -0.961379\n",
       "2002-09-24    1.503900\n",
       "2002-09-25    0.589409\n",
       "2002-09-26   -1.130632\n",
       "Freq: D, Length: 1000, dtype: float64"
      ]
     },
     "execution_count": 18,
     "metadata": {},
     "output_type": "execute_result"
    }
   ],
   "source": [
    "longer_ts "
   ]
  },
  {
   "cell_type": "code",
   "execution_count": 19,
   "metadata": {},
   "outputs": [
    {
     "data": {
      "text/plain": [
       "2001-01-01    0.852516\n",
       "2001-01-02    1.398564\n",
       "2001-01-03   -1.095709\n",
       "2001-01-04   -0.902604\n",
       "2001-01-05    0.683059\n",
       "                ...   \n",
       "2001-12-27   -0.866160\n",
       "2001-12-28   -0.595024\n",
       "2001-12-29    0.237672\n",
       "2001-12-30    0.085976\n",
       "2001-12-31    0.750141\n",
       "Freq: D, Length: 365, dtype: float64"
      ]
     },
     "execution_count": 19,
     "metadata": {},
     "output_type": "execute_result"
    }
   ],
   "source": [
    "longer_ts['2001'] "
   ]
  },
  {
   "cell_type": "code",
   "execution_count": 20,
   "metadata": {},
   "outputs": [
    {
     "data": {
      "text/plain": [
       "2001-05-01   -0.608742\n",
       "2001-05-02   -0.318897\n",
       "2001-05-03    0.097457\n",
       "2001-05-04    0.828169\n",
       "2001-05-05    0.680986\n",
       "2001-05-06    0.123383\n",
       "2001-05-07   -1.711345\n",
       "2001-05-08   -1.253020\n",
       "2001-05-09   -0.599664\n",
       "2001-05-10    0.698987\n",
       "2001-05-11   -0.163755\n",
       "2001-05-12    1.368672\n",
       "2001-05-13   -0.028034\n",
       "2001-05-14    0.243480\n",
       "2001-05-15   -0.376212\n",
       "2001-05-16    0.890416\n",
       "2001-05-17    0.293890\n",
       "2001-05-18    0.772936\n",
       "2001-05-19    0.135351\n",
       "2001-05-20   -0.528528\n",
       "2001-05-21   -0.283064\n",
       "2001-05-22   -0.702420\n",
       "2001-05-23   -0.188870\n",
       "2001-05-24   -1.020628\n",
       "2001-05-25   -0.870698\n",
       "2001-05-26   -1.342409\n",
       "2001-05-27    1.240621\n",
       "2001-05-28    0.052077\n",
       "2001-05-29    0.661220\n",
       "2001-05-30    0.984947\n",
       "2001-05-31    0.689535\n",
       "Freq: D, dtype: float64"
      ]
     },
     "execution_count": 20,
     "metadata": {},
     "output_type": "execute_result"
    }
   ],
   "source": [
    "longer_ts['2001-05']"
   ]
  },
  {
   "cell_type": "code",
   "execution_count": 21,
   "metadata": {},
   "outputs": [
    {
     "data": {
      "text/plain": [
       "2011-01-07    0.228457\n",
       "2011-01-08    0.941104\n",
       "2011-01-10    2.017281\n",
       "2011-01-12    0.614095\n",
       "dtype: float64"
      ]
     },
     "execution_count": 21,
     "metadata": {},
     "output_type": "execute_result"
    }
   ],
   "source": [
    "# Slicing with dates works just like with a regular Series: \n",
    "ts[datetime(2011,1,7):]"
   ]
  },
  {
   "cell_type": "code",
   "execution_count": 22,
   "metadata": {},
   "outputs": [
    {
     "data": {
      "text/plain": [
       "2011-01-02   -0.191806\n",
       "2011-01-05    1.348229\n",
       "2011-01-07    0.228457\n",
       "2011-01-08    0.941104\n",
       "2011-01-10    2.017281\n",
       "2011-01-12    0.614095\n",
       "dtype: float64"
      ]
     },
     "execution_count": 22,
     "metadata": {},
     "output_type": "execute_result"
    }
   ],
   "source": [
    "# Because most time series data is ordered chronologically, you can slice with timestamps not contained in a time series to perform a range query: \n",
    "ts "
   ]
  },
  {
   "cell_type": "code",
   "execution_count": 23,
   "metadata": {},
   "outputs": [
    {
     "data": {
      "text/plain": [
       "2011-01-07    0.228457\n",
       "2011-01-08    0.941104\n",
       "2011-01-10    2.017281\n",
       "dtype: float64"
      ]
     },
     "execution_count": 23,
     "metadata": {},
     "output_type": "execute_result"
    }
   ],
   "source": [
    "ts['1/6/2011':'1/11/2011']  "
   ]
  },
  {
   "cell_type": "code",
   "execution_count": 24,
   "metadata": {},
   "outputs": [
    {
     "data": {
      "text/plain": [
       "2011-01-02   -0.191806\n",
       "2011-01-05    1.348229\n",
       "2011-01-07    0.228457\n",
       "2011-01-08    0.941104\n",
       "dtype: float64"
      ]
     },
     "execution_count": 24,
     "metadata": {},
     "output_type": "execute_result"
    }
   ],
   "source": [
    "# As before you can pass either a string date, datetime, or timestamp. Remember that slicing in this manner produces views on the source time series just like slicing NumPy arrays. \n",
    "# There is an equivalent instance method truncate which slices a Series between two dates: \n",
    "\n",
    "ts.truncate(after='1/9/2011') "
   ]
  },
  {
   "cell_type": "code",
   "execution_count": 25,
   "metadata": {},
   "outputs": [],
   "source": [
    "# All of the above holds true for DataFrame, too, indexing on its rows: \n",
    "dates = pd.date_range('1/1/2000', periods=100, freq='W-WED') "
   ]
  },
  {
   "cell_type": "code",
   "execution_count": 26,
   "metadata": {},
   "outputs": [],
   "source": [
    "long_df = DataFrame(np.random.randn(100,4), index=dates, columns=['Colorado', 'Texas', 'New York', 'Ohio'])  "
   ]
  },
  {
   "cell_type": "code",
   "execution_count": 27,
   "metadata": {},
   "outputs": [
    {
     "data": {
      "text/html": [
       "<div>\n",
       "<style scoped>\n",
       "    .dataframe tbody tr th:only-of-type {\n",
       "        vertical-align: middle;\n",
       "    }\n",
       "\n",
       "    .dataframe tbody tr th {\n",
       "        vertical-align: top;\n",
       "    }\n",
       "\n",
       "    .dataframe thead th {\n",
       "        text-align: right;\n",
       "    }\n",
       "</style>\n",
       "<table border=\"1\" class=\"dataframe\">\n",
       "  <thead>\n",
       "    <tr style=\"text-align: right;\">\n",
       "      <th></th>\n",
       "      <th>Colorado</th>\n",
       "      <th>Texas</th>\n",
       "      <th>New York</th>\n",
       "      <th>Ohio</th>\n",
       "    </tr>\n",
       "  </thead>\n",
       "  <tbody>\n",
       "    <tr>\n",
       "      <th>2001-05-02</th>\n",
       "      <td>-0.028066</td>\n",
       "      <td>-2.563557</td>\n",
       "      <td>-0.591534</td>\n",
       "      <td>0.273903</td>\n",
       "    </tr>\n",
       "    <tr>\n",
       "      <th>2001-05-09</th>\n",
       "      <td>-0.934964</td>\n",
       "      <td>-0.973781</td>\n",
       "      <td>-0.289601</td>\n",
       "      <td>1.061917</td>\n",
       "    </tr>\n",
       "    <tr>\n",
       "      <th>2001-05-16</th>\n",
       "      <td>-0.796096</td>\n",
       "      <td>1.027706</td>\n",
       "      <td>0.925750</td>\n",
       "      <td>-2.077534</td>\n",
       "    </tr>\n",
       "    <tr>\n",
       "      <th>2001-05-23</th>\n",
       "      <td>1.042699</td>\n",
       "      <td>-0.311563</td>\n",
       "      <td>0.592067</td>\n",
       "      <td>-1.467479</td>\n",
       "    </tr>\n",
       "    <tr>\n",
       "      <th>2001-05-30</th>\n",
       "      <td>-0.150522</td>\n",
       "      <td>0.754206</td>\n",
       "      <td>-1.315557</td>\n",
       "      <td>-0.144438</td>\n",
       "    </tr>\n",
       "  </tbody>\n",
       "</table>\n",
       "</div>"
      ],
      "text/plain": [
       "            Colorado     Texas  New York      Ohio\n",
       "2001-05-02 -0.028066 -2.563557 -0.591534  0.273903\n",
       "2001-05-09 -0.934964 -0.973781 -0.289601  1.061917\n",
       "2001-05-16 -0.796096  1.027706  0.925750 -2.077534\n",
       "2001-05-23  1.042699 -0.311563  0.592067 -1.467479\n",
       "2001-05-30 -0.150522  0.754206 -1.315557 -0.144438"
      ]
     },
     "execution_count": 27,
     "metadata": {},
     "output_type": "execute_result"
    }
   ],
   "source": [
    "long_df.loc['5-2001'] "
   ]
  },
  {
   "cell_type": "markdown",
   "metadata": {},
   "source": [
    "# Time Series with Duplicate Indices "
   ]
  },
  {
   "cell_type": "code",
   "execution_count": 28,
   "metadata": {},
   "outputs": [],
   "source": [
    "# In some applications, you may wish to use time series data indexed by timestamps as if it were a fixed frequency like daily or monthly, even if it is not.\n",
    "# The asfreq method enables this. We use the same long_ts time series from above:\n",
    "\n",
    "dates = pd.DatetimeIndex(['1/1/2000', '1/2/2000', '1/2/2000', '1/2/2000', '1/3/2000']) "
   ]
  },
  {
   "cell_type": "code",
   "execution_count": 29,
   "metadata": {},
   "outputs": [
    {
     "data": {
      "text/plain": [
       "2000-01-01    0\n",
       "2000-01-02    1\n",
       "2000-01-02    2\n",
       "2000-01-02    3\n",
       "2000-01-03    4\n",
       "dtype: int64"
      ]
     },
     "execution_count": 29,
     "metadata": {},
     "output_type": "execute_result"
    }
   ],
   "source": [
    "dup_ts = Series(np.arange(5), index=dates)  \n",
    "dup_ts"
   ]
  },
  {
   "cell_type": "code",
   "execution_count": 30,
   "metadata": {},
   "outputs": [
    {
     "data": {
      "text/plain": [
       "False"
      ]
     },
     "execution_count": 30,
     "metadata": {},
     "output_type": "execute_result"
    }
   ],
   "source": [
    "# We can tell that the index is not unique by checking its is_unique property: \n",
    "dup_ts.index.is_unique # False "
   ]
  },
  {
   "cell_type": "code",
   "execution_count": 31,
   "metadata": {},
   "outputs": [
    {
     "data": {
      "text/plain": [
       "4"
      ]
     },
     "execution_count": 31,
     "metadata": {},
     "output_type": "execute_result"
    }
   ],
   "source": [
    "# Indexing into this time series will either produce scalar values or slices depending on whether a timestamp is duplicated:\n",
    "dup_ts['1/3/2000'] # 4 "
   ]
  },
  {
   "cell_type": "code",
   "execution_count": 32,
   "metadata": {},
   "outputs": [
    {
     "data": {
      "text/plain": [
       "2000-01-02    1\n",
       "2000-01-02    2\n",
       "2000-01-02    3\n",
       "dtype: int64"
      ]
     },
     "execution_count": 32,
     "metadata": {},
     "output_type": "execute_result"
    }
   ],
   "source": [
    "dup_ts['1/2/2000'] # 1/2/2000    1 1/2/2000    2 1/2/2000    3 dtype: int64"
   ]
  },
  {
   "cell_type": "code",
   "execution_count": 33,
   "metadata": {},
   "outputs": [],
   "source": [
    "# Suppose you wanted to group the data by timestamp and apply a group function like sum. \n",
    "# One way to do this is to use the groupby and pass level=0 (the only level of indexing): \n",
    "grouped = dup_ts.groupby(level=0) "
   ]
  },
  {
   "cell_type": "code",
   "execution_count": 34,
   "metadata": {},
   "outputs": [
    {
     "data": {
      "text/plain": [
       "2000-01-01    0.0\n",
       "2000-01-02    2.0\n",
       "2000-01-03    4.0\n",
       "dtype: float64"
      ]
     },
     "execution_count": 34,
     "metadata": {},
     "output_type": "execute_result"
    }
   ],
   "source": [
    "grouped.mean()"
   ]
  },
  {
   "cell_type": "code",
   "execution_count": 35,
   "metadata": {},
   "outputs": [
    {
     "data": {
      "text/plain": [
       "2000-01-01    1\n",
       "2000-01-02    3\n",
       "2000-01-03    1\n",
       "dtype: int64"
      ]
     },
     "execution_count": 35,
     "metadata": {},
     "output_type": "execute_result"
    }
   ],
   "source": [
    "grouped.count() "
   ]
  },
  {
   "cell_type": "markdown",
   "metadata": {},
   "source": [
    "# Date Ranges, Frequencies, and Shifting"
   ]
  },
  {
   "cell_type": "code",
   "execution_count": 36,
   "metadata": {},
   "outputs": [
    {
     "data": {
      "text/plain": [
       "2011-01-02   -0.191806\n",
       "2011-01-05    1.348229\n",
       "2011-01-07    0.228457\n",
       "2011-01-08    0.941104\n",
       "2011-01-10    2.017281\n",
       "2011-01-12    0.614095\n",
       "dtype: float64"
      ]
     },
     "execution_count": 36,
     "metadata": {},
     "output_type": "execute_result"
    }
   ],
   "source": [
    "# Generic time series in pandas are assumed to be irregular, that is, they have no fixed frequency.For many applications \n",
    "# this is sufficient.However, it's often desirable to work relative to a fixed frequency, such as daily, monthly, or every 15 mins. \n",
    "# even if that means introducing missing values into a time series. Fortunately, pandas has a full suite of standard time series frequencies and tools for resampling, inferring frequencies,\n",
    "# and generating fixed frequency date ranges. \n",
    "# For example, in the example time series, converting it to be fixed daily frequency can be accomplished by calling resample: \n",
    "\n",
    "ts "
   ]
  },
  {
   "cell_type": "code",
   "execution_count": 37,
   "metadata": {},
   "outputs": [
    {
     "data": {
      "text/plain": [
       "<pandas.core.resample.DatetimeIndexResampler object at 0x12e80a590>"
      ]
     },
     "execution_count": 37,
     "metadata": {},
     "output_type": "execute_result"
    }
   ],
   "source": [
    "ts. resample('D') "
   ]
  },
  {
   "cell_type": "markdown",
   "metadata": {},
   "source": [
    "# Generating Date Ranges \n",
    "While I used it previously without explanation, you may have guessed that pandas.date_range is responsible for generating a DatetimeIndex with an indicated length according to a particular frequency: \n"
   ]
  },
  {
   "cell_type": "code",
   "execution_count": 38,
   "metadata": {},
   "outputs": [],
   "source": [
    "index = pd.date_range('4/1/2012', '6/1/2012') "
   ]
  },
  {
   "cell_type": "code",
   "execution_count": 39,
   "metadata": {},
   "outputs": [
    {
     "data": {
      "text/plain": [
       "DatetimeIndex(['2012-04-01', '2012-04-02', '2012-04-03', '2012-04-04',\n",
       "               '2012-04-05', '2012-04-06', '2012-04-07', '2012-04-08',\n",
       "               '2012-04-09', '2012-04-10', '2012-04-11', '2012-04-12',\n",
       "               '2012-04-13', '2012-04-14', '2012-04-15', '2012-04-16',\n",
       "               '2012-04-17', '2012-04-18', '2012-04-19', '2012-04-20',\n",
       "               '2012-04-21', '2012-04-22', '2012-04-23', '2012-04-24',\n",
       "               '2012-04-25', '2012-04-26', '2012-04-27', '2012-04-28',\n",
       "               '2012-04-29', '2012-04-30', '2012-05-01', '2012-05-02',\n",
       "               '2012-05-03', '2012-05-04', '2012-05-05', '2012-05-06',\n",
       "               '2012-05-07', '2012-05-08', '2012-05-09', '2012-05-10',\n",
       "               '2012-05-11', '2012-05-12', '2012-05-13', '2012-05-14',\n",
       "               '2012-05-15', '2012-05-16', '2012-05-17', '2012-05-18',\n",
       "               '2012-05-19', '2012-05-20', '2012-05-21', '2012-05-22',\n",
       "               '2012-05-23', '2012-05-24', '2012-05-25', '2012-05-26',\n",
       "               '2012-05-27', '2012-05-28', '2012-05-29', '2012-05-30',\n",
       "               '2012-05-31', '2012-06-01'],\n",
       "              dtype='datetime64[ns]', freq='D')"
      ]
     },
     "execution_count": 39,
     "metadata": {},
     "output_type": "execute_result"
    }
   ],
   "source": [
    "index "
   ]
  },
  {
   "cell_type": "code",
   "execution_count": 42,
   "metadata": {},
   "outputs": [
    {
     "data": {
      "text/plain": [
       "DatetimeIndex(['2021-04-01', '2021-04-02', '2021-04-03', '2021-04-04',\n",
       "               '2021-04-05', '2021-04-06', '2021-04-07', '2021-04-08',\n",
       "               '2021-04-09', '2021-04-10', '2021-04-11', '2021-04-12',\n",
       "               '2021-04-13', '2021-04-14', '2021-04-15', '2021-04-16',\n",
       "               '2021-04-17', '2021-04-18', '2021-04-19', '2021-04-20',\n",
       "               '2021-04-21', '2021-04-22', '2021-04-23', '2021-04-24',\n",
       "               '2021-04-25'],\n",
       "              dtype='datetime64[ns]', freq='D')"
      ]
     },
     "execution_count": 42,
     "metadata": {},
     "output_type": "execute_result"
    }
   ],
   "source": [
    "# By default, date_range generates daily timestamps.If you  pass only a start or end date, you must pass a number of periods to generate. \n",
    "pd.date_range(start='4/1/2021', periods=25) "
   ]
  },
  {
   "cell_type": "code",
   "execution_count": 43,
   "metadata": {},
   "outputs": [
    {
     "data": {
      "text/plain": [
       "DatetimeIndex(['2000-01-31', '2000-02-29', '2000-03-31', '2000-04-28',\n",
       "               '2000-05-31', '2000-06-30', '2000-07-31', '2000-08-31',\n",
       "               '2000-09-29', '2000-10-31', '2000-11-30'],\n",
       "              dtype='datetime64[ns]', freq='BM')"
      ]
     },
     "execution_count": 43,
     "metadata": {},
     "output_type": "execute_result"
    }
   ],
   "source": [
    "# The start and end dates define strict boundries for the  generated date index. For example, if you wanted a date index containing the last business day of each month, \n",
    "# you can would pass the \"BM\"  frequency(business end of month) and only dates falling on or inside the date interval will be included: \n",
    "pd.date_range('1/1/2000', '12/1/2000', freq='BM' ) "
   ]
  },
  {
   "cell_type": "code",
   "execution_count": 44,
   "metadata": {},
   "outputs": [
    {
     "data": {
      "text/plain": [
       "DatetimeIndex(['2021-05-01 12:56:31', '2021-05-02 12:56:31',\n",
       "               '2021-05-03 12:56:31', '2021-05-04 12:56:31',\n",
       "               '2021-05-05 12:56:31'],\n",
       "              dtype='datetime64[ns]', freq='D')"
      ]
     },
     "execution_count": 44,
     "metadata": {},
     "output_type": "execute_result"
    }
   ],
   "source": [
    "# date_range by default preserves the time(if any) of the start or end timestamp: \n",
    "pd.date_range('5/1/2021  12:56:31',  periods=5) "
   ]
  },
  {
   "cell_type": "code",
   "execution_count": null,
   "metadata": {},
   "outputs": [],
   "source": []
  }
 ],
 "metadata": {
  "kernelspec": {
   "display_name": "base",
   "language": "python",
   "name": "python3"
  },
  "language_info": {
   "codemirror_mode": {
    "name": "ipython",
    "version": 3
   },
   "file_extension": ".py",
   "mimetype": "text/x-python",
   "name": "python",
   "nbconvert_exporter": "python",
   "pygments_lexer": "ipython3",
   "version": "3.11.4"
  }
 },
 "nbformat": 4,
 "nbformat_minor": 2
}
