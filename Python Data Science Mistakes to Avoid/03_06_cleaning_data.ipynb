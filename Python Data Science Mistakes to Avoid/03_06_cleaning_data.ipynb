{
 "cells": [
  {
   "cell_type": "code",
   "execution_count": 1,
   "metadata": {},
   "outputs": [],
   "source": [
    "# import relevant libraries\n",
    "import numpy as np\n",
    "import pandas as pd"
   ]
  },
  {
   "cell_type": "code",
   "execution_count": 2,
   "metadata": {},
   "outputs": [],
   "source": [
    "# create a variable named grades containing a numpy array that represents students' grades\n",
    "# on a particular exam as percentages\n",
    "grades = np.random.randint(50, 121, size=50)"
   ]
  },
  {
   "cell_type": "code",
   "execution_count": 3,
   "metadata": {},
   "outputs": [
    {
     "data": {
      "text/plain": [
       "array([ 57,  62,  76,  72,  91,  72, 107,  61,  75,  88, 107, 108, 105,\n",
       "        55,  56,  69,  51,  74, 115, 117,  84, 107, 107,  81,  84,  74,\n",
       "        57, 112,  89, 108,  92,  92,  89,  57,  67,  67, 102, 100,  70,\n",
       "       114,  59, 118, 111, 104, 108,  80,  74,  98,  82,  50])"
      ]
     },
     "execution_count": 3,
     "metadata": {},
     "output_type": "execute_result"
    }
   ],
   "source": [
    "# display grades\n",
    "grades"
   ]
  },
  {
   "cell_type": "code",
   "execution_count": 4,
   "metadata": {},
   "outputs": [],
   "source": [
    "# remove grade values higher than 100%:\n",
    "# select grade values between 0% and 100% inclusive,\n",
    "# reassign grades to that selection\n",
    "grades = grades[(grades >= 0) & (grades <= 100)]"
   ]
  },
  {
   "cell_type": "code",
   "execution_count": 5,
   "metadata": {},
   "outputs": [
    {
     "data": {
      "text/plain": [
       "array([ 57,  62,  76,  72,  91,  72,  61,  75,  88,  55,  56,  69,  51,\n",
       "        74,  84,  81,  84,  74,  57,  89,  92,  92,  89,  57,  67,  67,\n",
       "       100,  70,  59,  80,  74,  98,  82,  50])"
      ]
     },
     "execution_count": 5,
     "metadata": {},
     "output_type": "execute_result"
    }
   ],
   "source": [
    "# display grades\n",
    "grades"
   ]
  }
 ],
 "metadata": {
  "kernelspec": {
   "display_name": "Python 3.9.7 ('base')",
   "language": "python",
   "name": "python3"
  },
  "language_info": {
   "codemirror_mode": {
    "name": "ipython",
    "version": 3
   },
   "file_extension": ".py",
   "mimetype": "text/x-python",
   "name": "python",
   "nbconvert_exporter": "python",
   "pygments_lexer": "ipython3",
   "version": "3.9.7"
  },
  "vscode": {
   "interpreter": {
    "hash": "40d3a090f54c6569ab1632332b64b2c03c39dcf918b08424e98f38b5ae0af88f"
   }
  }
 },
 "nbformat": 4,
 "nbformat_minor": 4
}
