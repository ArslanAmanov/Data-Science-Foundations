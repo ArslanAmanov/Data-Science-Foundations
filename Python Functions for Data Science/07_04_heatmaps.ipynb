{
 "cells": [
  {
   "cell_type": "code",
   "execution_count": 1,
   "metadata": {},
   "outputs": [],
   "source": [
    "# import relevant libraries\n",
    "import numpy as np\n",
    "import pandas as pd\n",
    "import matplotlib.pyplot as plt\n",
    "import seaborn as sns"
   ]
  },
  {
   "cell_type": "code",
   "execution_count": 2,
   "metadata": {},
   "outputs": [],
   "source": [
    "# create a variable that contains a numpy array representing the sales of a small business for each of 12 months\n",
    "data = np.random.randint(100, 301, size=(12,12))\n",
    "\n",
    "# create a variable that contains the list of months\n",
    "months = ['January', 'February', 'March', 'April', 'May', 'June', 'July',\n",
    "         'August', 'September', 'October', 'November', 'December']\n",
    "\n",
    "# create a variable that contains a list of the years from 2008 to 2019 inclusive\n",
    "years = [2008, 2009, 2010, 2011, 2012, 2013, 2014, 2015, 2016, 2017, 2018, 2019]\n",
    "\n",
    "# create a variable named sales that contains a dataframe \n",
    "# the dataframe consists of the sales of a small business across 12 months\n",
    "# there is an entry for each month of each year between 2008 and 2019 inclusive\n",
    "sales = pd.DataFrame(data, index=months, columns=years)"
   ]
  },
  {
   "cell_type": "code",
   "execution_count": 3,
   "metadata": {},
   "outputs": [
    {
     "data": {
      "text/html": [
       "<div>\n",
       "<style scoped>\n",
       "    .dataframe tbody tr th:only-of-type {\n",
       "        vertical-align: middle;\n",
       "    }\n",
       "\n",
       "    .dataframe tbody tr th {\n",
       "        vertical-align: top;\n",
       "    }\n",
       "\n",
       "    .dataframe thead th {\n",
       "        text-align: right;\n",
       "    }\n",
       "</style>\n",
       "<table border=\"1\" class=\"dataframe\">\n",
       "  <thead>\n",
       "    <tr style=\"text-align: right;\">\n",
       "      <th></th>\n",
       "      <th>2008</th>\n",
       "      <th>2009</th>\n",
       "      <th>2010</th>\n",
       "      <th>2011</th>\n",
       "      <th>2012</th>\n",
       "      <th>2013</th>\n",
       "      <th>2014</th>\n",
       "      <th>2015</th>\n",
       "      <th>2016</th>\n",
       "      <th>2017</th>\n",
       "      <th>2018</th>\n",
       "      <th>2019</th>\n",
       "    </tr>\n",
       "  </thead>\n",
       "  <tbody>\n",
       "    <tr>\n",
       "      <th>January</th>\n",
       "      <td>199</td>\n",
       "      <td>201</td>\n",
       "      <td>215</td>\n",
       "      <td>145</td>\n",
       "      <td>220</td>\n",
       "      <td>298</td>\n",
       "      <td>286</td>\n",
       "      <td>136</td>\n",
       "      <td>109</td>\n",
       "      <td>234</td>\n",
       "      <td>174</td>\n",
       "      <td>208</td>\n",
       "    </tr>\n",
       "    <tr>\n",
       "      <th>February</th>\n",
       "      <td>142</td>\n",
       "      <td>225</td>\n",
       "      <td>152</td>\n",
       "      <td>212</td>\n",
       "      <td>237</td>\n",
       "      <td>158</td>\n",
       "      <td>129</td>\n",
       "      <td>103</td>\n",
       "      <td>253</td>\n",
       "      <td>300</td>\n",
       "      <td>213</td>\n",
       "      <td>250</td>\n",
       "    </tr>\n",
       "    <tr>\n",
       "      <th>March</th>\n",
       "      <td>273</td>\n",
       "      <td>297</td>\n",
       "      <td>208</td>\n",
       "      <td>239</td>\n",
       "      <td>104</td>\n",
       "      <td>275</td>\n",
       "      <td>104</td>\n",
       "      <td>244</td>\n",
       "      <td>150</td>\n",
       "      <td>217</td>\n",
       "      <td>258</td>\n",
       "      <td>236</td>\n",
       "    </tr>\n",
       "    <tr>\n",
       "      <th>April</th>\n",
       "      <td>270</td>\n",
       "      <td>188</td>\n",
       "      <td>130</td>\n",
       "      <td>248</td>\n",
       "      <td>122</td>\n",
       "      <td>109</td>\n",
       "      <td>225</td>\n",
       "      <td>214</td>\n",
       "      <td>214</td>\n",
       "      <td>160</td>\n",
       "      <td>249</td>\n",
       "      <td>162</td>\n",
       "    </tr>\n",
       "    <tr>\n",
       "      <th>May</th>\n",
       "      <td>284</td>\n",
       "      <td>217</td>\n",
       "      <td>247</td>\n",
       "      <td>282</td>\n",
       "      <td>163</td>\n",
       "      <td>227</td>\n",
       "      <td>124</td>\n",
       "      <td>187</td>\n",
       "      <td>298</td>\n",
       "      <td>165</td>\n",
       "      <td>212</td>\n",
       "      <td>252</td>\n",
       "    </tr>\n",
       "  </tbody>\n",
       "</table>\n",
       "</div>"
      ],
      "text/plain": [
       "          2008  2009  2010  2011  2012  2013  2014  2015  2016  2017  2018  \\\n",
       "January    199   201   215   145   220   298   286   136   109   234   174   \n",
       "February   142   225   152   212   237   158   129   103   253   300   213   \n",
       "March      273   297   208   239   104   275   104   244   150   217   258   \n",
       "April      270   188   130   248   122   109   225   214   214   160   249   \n",
       "May        284   217   247   282   163   227   124   187   298   165   212   \n",
       "\n",
       "          2019  \n",
       "January    208  \n",
       "February   250  \n",
       "March      236  \n",
       "April      162  \n",
       "May        252  "
      ]
     },
     "execution_count": 3,
     "metadata": {},
     "output_type": "execute_result"
    }
   ],
   "source": [
    "# display first few rows of sales\n",
    "sales.head()"
   ]
  },
  {
   "cell_type": "code",
   "execution_count": 4,
   "metadata": {},
   "outputs": [
    {
     "data": {
      "image/png": "[encoded data removed]",
      "text/plain": [
       "<Figure size 432x288 with 2 Axes>"
      ]
     },
     "metadata": {
      "needs_background": "light"
     },
     "output_type": "display_data"
    }
   ],
   "source": [
    "# create a heatmap of sales\n",
    "sns.heatmap(sales);"
   ]
  }
 ],
 "metadata": {
  "kernelspec": {
   "display_name": "Python 3.9.7 ('base')",
   "language": "python",
   "name": "python3"
  },
  "language_info": {
   "codemirror_mode": {
    "name": "ipython",
    "version": 3
   },
   "file_extension": ".py",
   "mimetype": "text/x-python",
   "name": "python",
   "nbconvert_exporter": "python",
   "pygments_lexer": "ipython3",
   "version": "3.9.7"
  },
  "vscode": {
   "interpreter": {
    "hash": "40d3a090f54c6569ab1632332b64b2c03c39dcf918b08424e98f38b5ae0af88f"
   }
  }
 },
 "nbformat": 4,
 "nbformat_minor": 4
}
