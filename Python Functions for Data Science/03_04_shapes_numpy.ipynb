{
 "cells": [
  {
   "cell_type": "code",
   "execution_count": 1,
   "metadata": {},
   "outputs": [],
   "source": [
    "# import relevant libraries\n",
    "import numpy as np"
   ]
  },
  {
   "cell_type": "code",
   "execution_count": 2,
   "metadata": {},
   "outputs": [],
   "source": [
    "array0 = np.array([])"
   ]
  },
  {
   "cell_type": "code",
   "execution_count": 3,
   "metadata": {},
   "outputs": [
    {
     "data": {
      "text/plain": [
       "(0,)"
      ]
     },
     "execution_count": 3,
     "metadata": {},
     "output_type": "execute_result"
    }
   ],
   "source": [
    "# find the shape of array0\n",
    "array0.shape"
   ]
  },
  {
   "cell_type": "code",
   "execution_count": 4,
   "metadata": {},
   "outputs": [],
   "source": [
    "array1 = np.array([1, 2, 3, 4, 5])"
   ]
  },
  {
   "cell_type": "code",
   "execution_count": 5,
   "metadata": {},
   "outputs": [
    {
     "data": {
      "text/plain": [
       "(5,)"
      ]
     },
     "execution_count": 5,
     "metadata": {},
     "output_type": "execute_result"
    }
   ],
   "source": [
    "# find the shape of array1\n",
    "array1.shape"
   ]
  },
  {
   "cell_type": "code",
   "execution_count": 6,
   "metadata": {},
   "outputs": [],
   "source": [
    "array2 = np.array([[1, 2, 3], [4, 5, 6], [7, 8, 9]])"
   ]
  },
  {
   "cell_type": "code",
   "execution_count": 7,
   "metadata": {},
   "outputs": [
    {
     "data": {
      "text/plain": [
       "(3, 3)"
      ]
     },
     "execution_count": 7,
     "metadata": {},
     "output_type": "execute_result"
    }
   ],
   "source": [
    "# find the shape of array2\n",
    "array2.shape"
   ]
  },
  {
   "cell_type": "code",
   "execution_count": 8,
   "metadata": {},
   "outputs": [],
   "source": [
    "array_zeros = np.zeros((4, 5))"
   ]
  },
  {
   "cell_type": "code",
   "execution_count": 9,
   "metadata": {},
   "outputs": [
    {
     "data": {
      "text/plain": [
       "(4, 5)"
      ]
     },
     "execution_count": 9,
     "metadata": {},
     "output_type": "execute_result"
    }
   ],
   "source": [
    "# find the shape of array_zeros\n",
    "array_zeros.shape"
   ]
  },
  {
   "cell_type": "code",
   "execution_count": 10,
   "metadata": {},
   "outputs": [],
   "source": [
    "array_ones = np.ones((3, 6))"
   ]
  },
  {
   "cell_type": "code",
   "execution_count": 11,
   "metadata": {},
   "outputs": [
    {
     "data": {
      "text/plain": [
       "(3, 6)"
      ]
     },
     "execution_count": 11,
     "metadata": {},
     "output_type": "execute_result"
    }
   ],
   "source": [
    "# find the shape of array_ones\n",
    "array_ones.shape"
   ]
  },
  {
   "cell_type": "code",
   "execution_count": 12,
   "metadata": {},
   "outputs": [
    {
     "data": {
      "text/plain": [
       "array([45, 22,  2, 41, 37, 32,  9, 25, 17, 37,  9,  1, 22, 40, 44,  6,  4,\n",
       "       26, 33, 41, 38, 23,  9,  8, 16])"
      ]
     },
     "execution_count": 12,
     "metadata": {},
     "output_type": "execute_result"
    }
   ],
   "source": [
    "array_r0 = np.random.randint(1, 50, 25)\n",
    "array_r0"
   ]
  },
  {
   "cell_type": "code",
   "execution_count": 13,
   "metadata": {},
   "outputs": [
    {
     "data": {
      "text/plain": [
       "(25,)"
      ]
     },
     "execution_count": 13,
     "metadata": {},
     "output_type": "execute_result"
    }
   ],
   "source": [
    "# find the shape of array_r0\n",
    "array_r0.shape"
   ]
  },
  {
   "cell_type": "code",
   "execution_count": 14,
   "metadata": {},
   "outputs": [
    {
     "data": {
      "text/plain": [
       "array([[45, 22,  2, 41, 37],\n",
       "       [32,  9, 25, 17, 37],\n",
       "       [ 9,  1, 22, 40, 44],\n",
       "       [ 6,  4, 26, 33, 41],\n",
       "       [38, 23,  9,  8, 16]])"
      ]
     },
     "execution_count": 14,
     "metadata": {},
     "output_type": "execute_result"
    }
   ],
   "source": [
    "# reshape array_r0 \n",
    "# to create a new multi-dimensional numpy array \n",
    "# containing array_r0's items with 5 rows & 5 columns\n",
    "array_r0.reshape((5, 5))"
   ]
  },
  {
   "cell_type": "code",
   "execution_count": 15,
   "metadata": {},
   "outputs": [
    {
     "data": {
      "text/plain": [
       "array([45, 22,  2, 41, 37, 32,  9, 25, 17, 37,  9,  1, 22, 40, 44,  6,  4,\n",
       "       26, 33, 41, 38, 23,  9,  8, 16])"
      ]
     },
     "execution_count": 15,
     "metadata": {},
     "output_type": "execute_result"
    }
   ],
   "source": [
    "# note that array_r0 itself was not modified\n",
    "array_r0"
   ]
  },
  {
   "cell_type": "code",
   "execution_count": 16,
   "metadata": {},
   "outputs": [
    {
     "data": {
      "text/plain": [
       "array([ 4, 13,  5, 19, 21, 31, 41, 49, 15, 25, 18, 33, 31,  1, 42,  1, 14,\n",
       "       32, 10,  5])"
      ]
     },
     "execution_count": 16,
     "metadata": {},
     "output_type": "execute_result"
    }
   ],
   "source": [
    "array_r1 = np.random.randint(1, 50, 20)\n",
    "array_r1"
   ]
  },
  {
   "cell_type": "code",
   "execution_count": 17,
   "metadata": {},
   "outputs": [
    {
     "data": {
      "text/plain": [
       "(20,)"
      ]
     },
     "execution_count": 17,
     "metadata": {},
     "output_type": "execute_result"
    }
   ],
   "source": [
    "# find the shape of array_r1\n",
    "array_r1.shape"
   ]
  },
  {
   "cell_type": "code",
   "execution_count": 18,
   "metadata": {},
   "outputs": [
    {
     "data": {
      "text/plain": [
       "array([[ 4, 13],\n",
       "       [ 5, 19],\n",
       "       [21, 31],\n",
       "       [41, 49],\n",
       "       [15, 25],\n",
       "       [18, 33],\n",
       "       [31,  1],\n",
       "       [42,  1],\n",
       "       [14, 32],\n",
       "       [10,  5]])"
      ]
     },
     "execution_count": 18,
     "metadata": {},
     "output_type": "execute_result"
    }
   ],
   "source": [
    "# reshape array_r1\n",
    "# to create a new multi-dimensional numpy array containing array_r1's items \n",
    "# with 10 rows & 2 columns\n",
    "array_r1.reshape((10, 2))"
   ]
  },
  {
   "cell_type": "code",
   "execution_count": 19,
   "metadata": {},
   "outputs": [
    {
     "data": {
      "text/plain": [
       "array([[ 4, 13,  5, 19, 21, 31, 41, 49, 15, 25],\n",
       "       [18, 33, 31,  1, 42,  1, 14, 32, 10,  5]])"
      ]
     },
     "execution_count": 19,
     "metadata": {},
     "output_type": "execute_result"
    }
   ],
   "source": [
    "# reshape array_r1\n",
    "# to create a new multi-dimensional numpy array containing array_r1's items \n",
    "# with 2 rows & 10 columns\n",
    "array_r1.reshape((2, 10))"
   ]
  },
  {
   "cell_type": "code",
   "execution_count": 20,
   "metadata": {},
   "outputs": [
    {
     "data": {
      "text/plain": [
       "array([[ 4, 13,  5, 19, 21],\n",
       "       [31, 41, 49, 15, 25],\n",
       "       [18, 33, 31,  1, 42],\n",
       "       [ 1, 14, 32, 10,  5]])"
      ]
     },
     "execution_count": 20,
     "metadata": {},
     "output_type": "execute_result"
    }
   ],
   "source": [
    "# reshape array_r1\n",
    "# to create a new multi-dimensional numpy array containing array_r1's items \n",
    "# with 4 rows & 5 columns\n",
    "array_r1.reshape((4, 5))"
   ]
  },
  {
   "cell_type": "code",
   "execution_count": 21,
   "metadata": {},
   "outputs": [
    {
     "data": {
      "text/plain": [
       "array([[ 4, 13,  5, 19],\n",
       "       [21, 31, 41, 49],\n",
       "       [15, 25, 18, 33],\n",
       "       [31,  1, 42,  1],\n",
       "       [14, 32, 10,  5]])"
      ]
     },
     "execution_count": 21,
     "metadata": {},
     "output_type": "execute_result"
    }
   ],
   "source": [
    "# reshape array_r1\n",
    "# to create a new multi-dimensional numpy array containing array_r1's items \n",
    "# with 5 rows & 4 columns\n",
    "array_r1.reshape((5, 4))"
   ]
  },
  {
   "cell_type": "code",
   "execution_count": 22,
   "metadata": {},
   "outputs": [
    {
     "data": {
      "text/plain": [
       "array([ 4, 13,  5, 19, 21, 31, 41, 49, 15, 25, 18, 33, 31,  1, 42,  1, 14,\n",
       "       32, 10,  5])"
      ]
     },
     "execution_count": 22,
     "metadata": {},
     "output_type": "execute_result"
    }
   ],
   "source": [
    "# note that array_r1 itself was not modified\n",
    "array_r1"
   ]
  },
  {
   "cell_type": "code",
   "execution_count": 23,
   "metadata": {},
   "outputs": [
    {
     "data": {
      "text/plain": [
       "array([[ 2, 21,  7, 24],\n",
       "       [45, 15, 14, 20],\n",
       "       [45, 23, 41, 36],\n",
       "       [ 4, 48,  9, 13]])"
      ]
     },
     "execution_count": 23,
     "metadata": {},
     "output_type": "execute_result"
    }
   ],
   "source": [
    "array_r2 = np.random.randint(1, 50, (4, 4))\n",
    "array_r2"
   ]
  },
  {
   "cell_type": "code",
   "execution_count": 24,
   "metadata": {},
   "outputs": [
    {
     "data": {
      "text/plain": [
       "(4, 4)"
      ]
     },
     "execution_count": 24,
     "metadata": {},
     "output_type": "execute_result"
    }
   ],
   "source": [
    "# find the shape of array_r2\n",
    "array_r2.shape"
   ]
  },
  {
   "cell_type": "code",
   "execution_count": 25,
   "metadata": {},
   "outputs": [
    {
     "data": {
      "text/plain": [
       "array([ 2, 21,  7, 24, 45, 15, 14, 20, 45, 23, 41, 36,  4, 48,  9, 13])"
      ]
     },
     "execution_count": 25,
     "metadata": {},
     "output_type": "execute_result"
    }
   ],
   "source": [
    "# reshape array_r2 \n",
    "# to create a new one-dimensional numpy array containing array_r2's items \n",
    "# with length 16\n",
    "array_r2.reshape(16)"
   ]
  },
  {
   "cell_type": "code",
   "execution_count": 26,
   "metadata": {},
   "outputs": [
    {
     "data": {
      "text/plain": [
       "array([[ 2, 21,  7, 24],\n",
       "       [45, 15, 14, 20],\n",
       "       [45, 23, 41, 36],\n",
       "       [ 4, 48,  9, 13]])"
      ]
     },
     "execution_count": 26,
     "metadata": {},
     "output_type": "execute_result"
    }
   ],
   "source": [
    "# note that array_r2 itself was not modified\n",
    "array_r2"
   ]
  }
 ],
 "metadata": {
  "kernelspec": {
   "display_name": "Python 3.8.9 64-bit",
   "language": "python",
   "name": "python3"
  },
  "language_info": {
   "codemirror_mode": {
    "name": "ipython",
    "version": 3
   },
   "file_extension": ".py",
   "mimetype": "text/x-python",
   "name": "python",
   "nbconvert_exporter": "python",
   "pygments_lexer": "ipython3",
   "version": "3.8.9"
  },
  "vscode": {
   "interpreter": {
    "hash": "31f2aee4e71d21fbe5cf8b01ff0e069b9275f58929596ceb00d14d90e3e16cd6"
   }
  }
 },
 "nbformat": 4,
 "nbformat_minor": 4
}
