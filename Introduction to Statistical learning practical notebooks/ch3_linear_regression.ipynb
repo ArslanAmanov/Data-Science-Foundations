{
 "cells": [
  {
   "cell_type": "markdown",
   "metadata": {},
   "source": [
    "# Linear Regression "
   ]
  },
  {
   "cell_type": "markdown",
   "metadata": {},
   "source": [
    "Simple linear regression lives up to its name: it is a very straightforward approach for predicting a quantitative response Y on the basis of a single predictor variable X. It assumes that there is approximately a linear relationship between X and Y. Mathematically, we can write this linear relationship as: \n",
    "Y ≈ β0 + β1X\n",
    "\n",
    "where β0 and β1 are two unknown constants that represent the intercept and slope, also known as coefficients or parameters. Once we have used our training data to produce estimates b0 and b1 for the model coefficients, we can predict future values of Y by plugging in the X values of the new data points.  "
   ]
  },
  {
   "cell_type": "markdown",
   "metadata": {},
   "source": [
    "sales ≈ β0 + β1 * TV \n",
    "\n",
    "In Equation 3.1, the values β0 and β1 are unknown. The goal of linear regression is to find the \"best\" values of these parameters. Once we have estimated these coefficients, we can use the model to predict future sales. "
   ]
  },
  {
   "cell_type": "code",
   "execution_count": 2,
   "metadata": {},
   "outputs": [],
   "source": [
    "# In other words, we want to find an intercept β0 and a slope β1 \n",
    "# such that the resulting line is as close as possible to the data points. \n",
    "\n",
    "# There are a number of ways of measurign the closeness of the line to the data points. \n",
    "# However by far the most common approach involves minimizing the leas squares criterion,\n",
    "# and we take that approach here. "
   ]
  },
  {
   "cell_type": "code",
   "execution_count": null,
   "metadata": {},
   "outputs": [],
   "source": []
  }
 ],
 "metadata": {
  "kernelspec": {
   "display_name": "base",
   "language": "python",
   "name": "python3"
  },
  "language_info": {
   "codemirror_mode": {
    "name": "ipython",
    "version": 3
   },
   "file_extension": ".py",
   "mimetype": "text/x-python",
   "name": "python",
   "nbconvert_exporter": "python",
   "pygments_lexer": "ipython3",
   "version": "3.11.4"
  }
 },
 "nbformat": 4,
 "nbformat_minor": 2
}
